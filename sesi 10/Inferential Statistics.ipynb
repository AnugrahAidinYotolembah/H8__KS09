{
 "cells": [
  {
   "cell_type": "markdown",
   "id": "c1b030f3",
   "metadata": {},
   "source": [
    "# Inferential Statistcs\n",
    "\n",
    "## Introduction\n",
    "\n",
    "inferential statistics adalah mengambil data sebagai sampel dari populasi yang lebih besar untuk membuat kesimpulan. Tujuan utama dari metode ini adalah untuk menarik kesimpulan dari sampel dan menggeneralisasikannya untuk populasi yang lebih besar. oleh karena itu, kita perlu mencari sampel sedemikian rupa sehingga dapat mencerminkan populasi dengan benar, ada banyak cara untuk memilih sampel dari populasi, tetapi secara umum, pengambilan sampel secara acak memungkinkn kita untuk memiliki keyakinan bahwa sampel tersebut mewakili populasi. \n",
    "\n",
    "dalam banyak kasus, tidak mungkin mengukur atau memahami keseluruhan populasi, dalam hal ini, pengambilan sampel menyelamatkan kita. akibatnya kecil kemungkinan nilainya sama ketika kita mencoba memperkirakan sifat sifat populasi dari suatu sampel"
   ]
  },
  {
   "cell_type": "markdown",
   "id": "8333a3d9",
   "metadata": {},
   "source": [
    "ada 2 metode yang dapat kita gunakan untuk menghitung hasil :\n",
    "- Collect data about each and every child\n",
    "- use the data we have to calculate the overall average\n",
    "\n",
    "metode pertama adalah tugas yang sangat sulit dan ribet. jumlah usaha dan sumber daya yang dibutuhkan untuk menyelesaikan tugas ini akan sangat besar.\n",
    "\n",
    "metode kedua jauh lebih sederhana dan lebih mudah dilakukan, tapi ada masalah. kita tidak dapat menyamakan rata rata yang kita peroleh dari limited data dengan seluruh populasi. pertimbangkan kasus dimana anak anak di daerah kita lebih tertarik pada olahraga sehingga jumlah jam yang mereka habiskan untuk menonton televisi jauh lebih sedikit daripada jumlah kesuruhan populasi. \n",
    "\n",
    "bagaimana cara kita mencari rata rata populasi ? disinilah inferential statistics datang untuk membantu kita. "
   ]
  },
  {
   "cell_type": "markdown",
   "id": "c9940912",
   "metadata": {},
   "source": [
    "## Random Variabel\n",
    "   Random variable adalah variable yang kemungkinan nilainya\n",
    "   merupakan hasil numerik dari fenomena acak. ada dua jenis\n",
    "   variabel acak, diskrit dan kontinu\n",
    "   \n",
    "   - Discrete Random Variable\n",
    "     adalah variabel yang mungkin hanya mengambil sejumlah nilai berbeda yang dapat di hitung dan dnegan demikian dapat dikuantifikasi\n",
    "\n",
    "   - Continuous random variable\n",
    "     adalah variabel yang mengambil jumlah kemungkinan nilai tak terbatas, misalnya kita dapat menentukan variabel acak x sebagai tinggi siswa di kelas"
   ]
  },
  {
   "cell_type": "code",
   "execution_count": 5,
   "id": "091a9c1e",
   "metadata": {},
   "outputs": [
    {
     "name": "stdout",
     "output_type": "stream",
     "text": [
      "library already in program\n"
     ]
    }
   ],
   "source": [
    "'''\n",
    "Selanjutnya, kita akan menjelajahi beberapa distribusi penting \n",
    "dan mencobanya dengan python, tetapi sebelum itu mengimpor \n",
    "semua pustaka yang di perlukan yang akan kita gunakan\n",
    "'''\n",
    "\n",
    "#for inline plots in jupyter\n",
    "%matplotlib inline\n",
    "\n",
    "#importmatplotlib\n",
    "import matplotlib.pyplot as plt\n",
    "\n",
    "#for latex equastions\n",
    "from IPython.display import Math, Latex\n",
    "\n",
    "#for displaying images\n",
    "from IPython.core.display import Image\n",
    "\n",
    "#import seaborn\n",
    "import seaborn as sns\n",
    "\n",
    "#settings for seaborn plotting style\n",
    "sns.set(color_codes = True)\n",
    "\n",
    "#settings for seaborn plot sizes\n",
    "sns.set(rc={'figure.figsize' : (5,5)})\n",
    "\n",
    "print('library already in program')"
   ]
  },
  {
   "cell_type": "markdown",
   "id": "c4e10a2a",
   "metadata": {},
   "source": [
    "## Uniform Dsitribution\n",
    "mungkin salah satu disribusi yang paling sederhana dan berguna adalah uniform distribution. probability distribution function dari continuous uniform distribution.\n",
    "    \n",
    "    "
   ]
  },
  {
   "cell_type": "code",
   "execution_count": 7,
   "id": "251b69af",
   "metadata": {},
   "outputs": [],
   "source": [
    "'''\n",
    "kita perlu mengimpor uniform function dari scipy.stats module\n",
    "'''\n",
    "from scipy.stats import uniform"
   ]
  },
  {
   "cell_type": "code",
   "execution_count": 8,
   "id": "cb7c5a1a",
   "metadata": {},
   "outputs": [],
   "source": [
    "'''\n",
    "uniform function menghasilkan uniform continuous variable antara\n",
    "interval yang ditentukan melalui argumen loc dan scale - nya\n",
    "Argumen size menjelaskan variasi acak\n",
    "'''\n",
    "\n",
    "# random numbers from uniform distribusion \n",
    "\n",
    "n = 10000\n",
    "start = 10\n",
    "width = 20\n",
    "\n",
    "data_uniform = uniform.rvs(size = n, loc = start, scale = width)"
   ]
  },
  {
   "cell_type": "code",
   "execution_count": 15,
   "id": "900cec21",
   "metadata": {},
   "outputs": [
    {
     "name": "stderr",
     "output_type": "stream",
     "text": [
      "C:\\Users\\Administrator\\anaconda3\\lib\\site-packages\\seaborn\\distributions.py:2619: FutureWarning: `distplot` is a deprecated function and will be removed in a future version. Please adapt your code to use either `displot` (a figure-level function with similar flexibility) or `histplot` (an axes-level function for histograms).\n",
      "  warnings.warn(msg, FutureWarning)\n"
     ]
    },
    {
     "data": {
      "text/plain": [
       "[Text(0.5, 0, 'Uniform Distribution'), Text(0, 0.5, 'Frequency')]"
      ]
     },
     "execution_count": 15,
     "metadata": {},
     "output_type": "execute_result"
    },
    {
     "data": {
      "image/png": "[encoded data removed]",
      "text/plain": [
       "<Figure size 360x360 with 1 Axes>"
      ]
     },
     "metadata": {},
     "output_type": "display_data"
    }
   ],
   "source": [
    "'''\n",
    "kita dapat menggunakan distplot seaborn untuk memplot histogram\n",
    "distribusi yang bary saja kita buat. displot seaborn menggunakan\n",
    "banyak argumen untuk menyesuaikan plot. disini, kita dapat\n",
    "menentukan warna histogram dan menentukan densitiy plot option \n",
    "dengan opsi kde dan linewidth dengan hist_kws. kita juga dapat\n",
    "menyetel label untuk sumbu x dan y menggunakan argumen xlabel\n",
    "dan ylabel\n",
    "'''\n",
    "\n",
    "ax = sns.distplot(data_uniform,\n",
    "                 bins = 100,\n",
    "                 kde = True,\n",
    "                 color = 'red',\n",
    "                 hist_kws = {\"linewidth\" : 15, 'alpha' : 1})\n",
    "\n",
    "ax.set(xlabel ='Uniform Distribution', ylabel = 'Frequency')"
   ]
  },
  {
   "cell_type": "markdown",
   "id": "9f72bb96",
   "metadata": {},
   "source": [
    "## Normal Distribution\n",
    "\n",
    "Normal Distribution, juga dikenal sebagai Gaussion distribution, ada dimana mana dalam data science. kita akan menemukannya di banyak tempat terutama dalam topik inferensi statistik.\n",
    "\n",
    "Distribusi normal memiliki kurva kerapatan berbentuk lonceng yang dijelaskan meannya. dengan penyebarannya ditentukan oleh deviasi standarnya yang menunjukkan bawha data di dekat mean lebih sering terjdi daripada data yang jauh dari mean \n"
   ]
  },
  {
   "cell_type": "code",
   "execution_count": 21,
   "id": "0a1c71a4",
   "metadata": {},
   "outputs": [],
   "source": [
    "'''\n",
    "kita dapat membuat normally distributed random variable \n",
    "menggunakan scipy.stats module yaitu norm.rvs(). Argumen loc\n",
    "'''\n",
    "\n",
    "from scipy.stats import norm\n",
    "\n",
    "#generte random numbers from N(0, 1)\n",
    "data_normal = norm.rvs(size = 10000, loc = 0, scale = 1)"
   ]
  },
  {
   "cell_type": "code",
   "execution_count": 22,
   "id": "bf6af2ad",
   "metadata": {},
   "outputs": [
    {
     "name": "stderr",
     "output_type": "stream",
     "text": [
      "C:\\Users\\Administrator\\anaconda3\\lib\\site-packages\\seaborn\\distributions.py:2619: FutureWarning: `distplot` is a deprecated function and will be removed in a future version. Please adapt your code to use either `displot` (a figure-level function with similar flexibility) or `histplot` (an axes-level function for histograms).\n",
      "  warnings.warn(msg, FutureWarning)\n"
     ]
    },
    {
     "data": {
      "text/plain": [
       "[Text(0.5, 0, 'Normal Distribution'), Text(0, 0.5, 'Frequency')]"
      ]
     },
     "execution_count": 22,
     "metadata": {},
     "output_type": "execute_result"
    },
    {
     "data": {
      "image/png": "[encoded data removed]",
      "text/plain": [
       "<Figure size 360x360 with 1 Axes>"
      ]
     },
     "metadata": {},
     "output_type": "display_data"
    }
   ],
   "source": [
    "'''\n",
    "kita dapat menvisualisasikan distribusi seperti yang kita lakukan\n",
    "dengan uniform distribution, menggunakan fungsi distplot seaborn\n",
    "'''\n",
    "\n",
    "ax = sns.distplot(data_normal,\n",
    "                  bins = 100,\n",
    "                  kde = True,\n",
    "                  color = 'red',\n",
    "                  hist_kws = {'linewidth' : 15, 'alpha' : 1})\n",
    "\n",
    "ax.set(xlabel = 'Normal Distribution', ylabel ='Frequency')"
   ]
  },
  {
   "cell_type": "markdown",
   "id": "8cd1f270",
   "metadata": {},
   "source": [
    "## Gamma distribution\n",
    "\n",
    "Gamma distribution adalah two - parameter family dari continuous probabilitty distributions. meskipun jarang digunakan dalam bentuk mentahnya. tetapi distribusi lainyang populer digunakan seperti exponential, chi - squared, erlang distributions adalah kasus khusus dari distribusi gamma\n"
   ]
  },
  {
   "cell_type": "markdown",
   "id": "3675d4af",
   "metadata": {},
   "source": [
    "kita dapat membuat gamma distributed random variable menggunakan metode gamma.rvs() modul scipy.stats yang mengambil parameter shape a sebagai argumennya. ketika a adalah bilangan bulat, gamma tereduksi menjadi distribusi erla dan ketika a = 1 menjadi distribsui eksponansila untuk menggesere distribusi, gunakan argumen loc"
   ]
  },
  {
   "cell_type": "code",
   "execution_count": 23,
   "id": "dc208076",
   "metadata": {},
   "outputs": [],
   "source": [
    "from scipy.stats import gamma\n",
    "\n",
    "data_gamma = gamma.rvs(a = 5, size = 10000)"
   ]
  },
  {
   "cell_type": "code",
   "execution_count": 24,
   "id": "d77ab818",
   "metadata": {},
   "outputs": [
    {
     "name": "stderr",
     "output_type": "stream",
     "text": [
      "C:\\Users\\Administrator\\anaconda3\\lib\\site-packages\\seaborn\\distributions.py:2619: FutureWarning: `distplot` is a deprecated function and will be removed in a future version. Please adapt your code to use either `displot` (a figure-level function with similar flexibility) or `histplot` (an axes-level function for histograms).\n",
      "  warnings.warn(msg, FutureWarning)\n"
     ]
    },
    {
     "data": {
      "text/plain": [
       "[Text(0.5, 0, 'Gamma distribution'), Text(0, 0.5, 'Frequency')]"
      ]
     },
     "execution_count": 24,
     "metadata": {},
     "output_type": "execute_result"
    },
    {
     "data": {
      "image/png": "[encoded data removed]",
      "text/plain": [
       "<Figure size 360x360 with 1 Axes>"
      ]
     },
     "metadata": {},
     "output_type": "display_data"
    }
   ],
   "source": [
    "'''\n",
    "kita dapat menvisualisasikan distribusi seperti yang kita lakukan \n",
    "uniform distribution menggunakan fungsi displot seaborn\n",
    "'''\n",
    "ax = sns.distplot(data_gamma,\n",
    "                  kde = True,\n",
    "                  bins = 100,\n",
    "                  color = 'red',\n",
    "                  hist_kws = {'linewidth' : 15, 'alpha': 1})\n",
    "\n",
    "ax.set(xlabel = 'Gamma distribution', ylabel ='Frequency')"
   ]
  },
  {
   "cell_type": "markdown",
   "id": "fb4b95f5",
   "metadata": {},
   "source": [
    "## Exponential dstribution\n",
    "\n",
    "exponential distribution menggambarkan waktu antara peristiwa dalam poisson point process, yaitu proses dimana peristiwa terjadi terus menerus dan independen pada tingkat rata rata konstan. \n",
    "\n",
    "\n"
   ]
  },
  {
   "cell_type": "code",
   "execution_count": 26,
   "id": "de54fc4a",
   "metadata": {},
   "outputs": [],
   "source": [
    "'''\n",
    "kita dapat menhasilkan exponentially distributed \n",
    "random variable menggunakan scipy.stats module expon.rvs()\n",
    "'''\n",
    "from scipy.stats import expon\n",
    "\n",
    "data_expon = expon.rvs(scale = 1, loc = 0, size = 1000)"
   ]
  },
  {
   "cell_type": "code",
   "execution_count": 27,
   "id": "d1aa73fc",
   "metadata": {},
   "outputs": [
    {
     "name": "stderr",
     "output_type": "stream",
     "text": [
      "C:\\Users\\Administrator\\anaconda3\\lib\\site-packages\\seaborn\\distributions.py:2619: FutureWarning: `distplot` is a deprecated function and will be removed in a future version. Please adapt your code to use either `displot` (a figure-level function with similar flexibility) or `histplot` (an axes-level function for histograms).\n",
      "  warnings.warn(msg, FutureWarning)\n"
     ]
    },
    {
     "data": {
      "text/plain": [
       "[Text(0.5, 0, 'Exponential Distribution'), Text(0, 0.5, 'Frequency')]"
      ]
     },
     "execution_count": 27,
     "metadata": {},
     "output_type": "execute_result"
    },
    {
     "data": {
      "image/png": "[encoded data removed]",
      "text/plain": [
       "<Figure size 360x360 with 1 Axes>"
      ]
     },
     "metadata": {},
     "output_type": "display_data"
    }
   ],
   "source": [
    "'''\n",
    "kita dapat menvisualisasikan distribusi seperti yang kita \n",
    "lakukan dengan uniform distribution menggunakan fungsi\n",
    "distplot seaborn\n",
    "'''\n",
    "\n",
    "ax = sns.distplot(data_expon,\n",
    "                  kde = True,\n",
    "                  bins = 100,\n",
    "                  color = 'red',\n",
    "                  hist_kws = {'linewidth' : 15, 'alpha' :1})\n",
    "\n",
    "ax.set(xlabel = 'Exponential Distribution', ylabel = 'Frequency')"
   ]
  },
  {
   "cell_type": "markdown",
   "id": "bef62e7f",
   "metadata": {},
   "source": [
    "## Poisson Distribution\n",
    "\n",
    "Poisson random varibale biasanya digunakan untuk memodelkan beberapa kali suatu peristiwa terjadi dalam interval waktu misalnya jumlah pengguna yang berkunjung di situs web dalam suatu interval dapat dianggap sebagai proses poission.\n",
    "\n",
    "distribsui poisson dijelaskan dalam tingkat, diman peristiwa terjadi. suatu peristiwa dapat teradi 0,1,2,... kali dalam satu interval|"
   ]
  },
  {
   "cell_type": "code",
   "execution_count": 28,
   "id": "dd25913d",
   "metadata": {},
   "outputs": [],
   "source": [
    "'''\n",
    "kira dapat menghasilkan poisson ditributed discrete random variable\n",
    "menggunakan scipy.stats module poisson.rvs method\n",
    "'''\n",
    "\n",
    "from scipy.stats import poisson\n",
    "\n",
    "data_poisson = poisson.rvs(mu = 3, size = 10000)\n"
   ]
  },
  {
   "cell_type": "code",
   "execution_count": 32,
   "id": "fc052206",
   "metadata": {},
   "outputs": [
    {
     "name": "stderr",
     "output_type": "stream",
     "text": [
      "C:\\Users\\Administrator\\anaconda3\\lib\\site-packages\\seaborn\\distributions.py:2619: FutureWarning: `distplot` is a deprecated function and will be removed in a future version. Please adapt your code to use either `displot` (a figure-level function with similar flexibility) or `histplot` (an axes-level function for histograms).\n",
      "  warnings.warn(msg, FutureWarning)\n"
     ]
    },
    {
     "data": {
      "text/plain": [
       "[Text(0.5, 0, 'Poisson Distribution'), Text(0, 0.5, 'Frequency')]"
      ]
     },
     "execution_count": 32,
     "metadata": {},
     "output_type": "execute_result"
    },
    {
     "data": {
      "image/png": "[encoded data removed]",
      "text/plain": [
       "<Figure size 360x360 with 1 Axes>"
      ]
     },
     "metadata": {},
     "output_type": "display_data"
    }
   ],
   "source": [
    "'''\n",
    "kita dapat menvisualisasikan distribusi seperti yang kita lakukan \n",
    "dengan unifrom distribution menggunakan fungsi displot seaborn\n",
    "'''\n",
    "ax = sns.distplot(data_poisson,\n",
    "                  kde = False,\n",
    "                  bins = 30,\n",
    "                  color = 'red',\n",
    "                  hist_kws = {'linewidth' : 15, 'alpha' : 1})\n",
    "\n",
    "ax.set(xlabel = 'Poisson Distribution', ylabel = 'Frequency')"
   ]
  },
  {
   "cell_type": "markdown",
   "id": "62753d3f",
   "metadata": {},
   "source": [
    "## Binomial Distribution\n",
    "\n",
    "Distribusi dimana hanya dua hasil yang mungkin, seperti sukses atau gagalm untung atau rugi, menang atau kalah dan dimana probabilitas keberhasilan dan kegagalan sama untuk semua percobaan disebut binomial distribution\n"
   ]
  },
  {
   "cell_type": "code",
   "execution_count": 33,
   "id": "846196c5",
   "metadata": {},
   "outputs": [],
   "source": [
    "'''\n",
    "kita dapat menghasilkan binomial distributed discrete random \n",
    "variable dengan menggunakan scipy.stats module's binom.rvs() methods\n",
    "'''\n",
    "from scipy.stats import binom\n",
    "\n",
    "data_binom = binom.rvs(n = 10, p = 0.8, size = 10000)"
   ]
  },
  {
   "cell_type": "code",
   "execution_count": 34,
   "id": "e8066b00",
   "metadata": {},
   "outputs": [
    {
     "data": {
      "text/plain": [
       "[Text(0.5, 0, 'Binomial Distribution'), Text(0, 0.5, 'Frequency')]"
      ]
     },
     "execution_count": 34,
     "metadata": {},
     "output_type": "execute_result"
    },
    {
     "data": {
      "image/png": "[encoded data removed]",
      "text/plain": [
       "<Figure size 360x360 with 1 Axes>"
      ]
     },
     "metadata": {},
     "output_type": "display_data"
    }
   ],
   "source": [
    "'''\n",
    "kita dapat menvisualisaiskan distribusi seperti yang kita lakukan\n",
    "dengan uniform distribution menggunakan fungsi distplot seaborn\n",
    "'''\n",
    "\n",
    "ax = sns.distplot(data_binom,\n",
    "                  kde = False,\n",
    "                  color = 'red',\n",
    "                  hist_kws = {'linewidth': 15, 'alpha' : 1})\n",
    "\n",
    "ax.set(xlabel = 'Binomial Distribution', ylabel = 'Frequency')"
   ]
  },
  {
   "cell_type": "markdown",
   "id": "81d69f41",
   "metadata": {},
   "source": [
    "perhatikan bahwa karena probabilitas succes lebih besar dari 0.5 distribusi miring ke arah kanan"
   ]
  },
  {
   "cell_type": "markdown",
   "id": "0f4ac87e",
   "metadata": {},
   "source": [
    "## Bernouli Distribution\n",
    "\n",
    "Bernouli Distribution hanya memiliki dua kemungkinan hasil, yaitu 1 (berhasil) dan 0 (gagal), dan dalam sekali percobaan. misalnya lemparan koin. jadi variabel random x yang berdistribusi bernaulli dapat mengambil nilai 1 dengan probabilitas hasilnya, p, dan bernilai 0 dengan probabilitas gagal, q, atau 1 - p."
   ]
  },
  {
   "cell_type": "markdown",
   "id": "efc81b8a",
   "metadata": {},
   "source": [
    "kita dapat menghasilkan bernoulli distributed discrete random variabel dengan menggunakan scipy.stats module's bernaoulli.rvs() method"
   ]
  },
  {
   "cell_type": "code",
   "execution_count": 36,
   "id": "6d039bb7",
   "metadata": {},
   "outputs": [],
   "source": [
    "from scipy.stats import bernoulli\n",
    "\n",
    "data_bern = bernoulli.rvs(size = 10000, p = 0.6)"
   ]
  },
  {
   "cell_type": "markdown",
   "id": "c1ab77ea",
   "metadata": {},
   "source": [
    "kita dapat menvisualisaiskan distribusi seperti yang kita lakukan dengan uniform distribution"
   ]
  },
  {
   "cell_type": "code",
   "execution_count": 37,
   "id": "3264fb1b",
   "metadata": {},
   "outputs": [
    {
     "data": {
      "text/plain": [
       "[Text(0.5, 0, 'Bernoulli Distribution'), Text(0, 0.5, 'Frequency')]"
      ]
     },
     "execution_count": 37,
     "metadata": {},
     "output_type": "execute_result"
    },
    {
     "data": {
      "image/png": "[encoded data removed]",
      "text/plain": [
       "<Figure size 360x360 with 1 Axes>"
      ]
     },
     "metadata": {},
     "output_type": "display_data"
    }
   ],
   "source": [
    "ax = sns.distplot(data_bern,\n",
    "                  kde = False,\n",
    "                  color = 'red',\n",
    "                  hist_kws = {'linewidth': 15, 'alpha' :1})\n",
    "\n",
    "ax.set(xlabel = 'Bernoulli Distribution', ylabel = 'Frequency')"
   ]
  },
  {
   "cell_type": "markdown",
   "id": "8a37751f",
   "metadata": {},
   "source": [
    "## Confidende intervals\n",
    "\n",
    "dalam statistik, confidence interval (CI) adalah jenis estimasi yang dihitung dari data statistik yang diamati. confidence interval mengukur sebarapa akurat mean sebuah sample mewakili (mencakup) nilai mean populasi sesungguhnya"
   ]
  },
  {
   "cell_type": "markdown",
   "id": "daf010d7",
   "metadata": {},
   "source": [
    "CI FOR THE POPULATION PROPORTION IN PYTHON\n",
    "\n",
    "kita akan menggunakan dataset heart dari kaggle. pertama kita mengimport packages dan dataset"
   ]
  },
  {
   "cell_type": "code",
   "execution_count": 38,
   "id": "890a7be8",
   "metadata": {},
   "outputs": [],
   "source": [
    "import pandas as pd\n",
    "import numpy as np\n",
    "df = pd.read_csv('dataset/heart.csv')"
   ]
  },
  {
   "cell_type": "code",
   "execution_count": 39,
   "id": "7c584cd9",
   "metadata": {},
   "outputs": [
    {
     "data": {
      "text/html": [
       "<div>\n",
       "<style scoped>\n",
       "    .dataframe tbody tr th:only-of-type {\n",
       "        vertical-align: middle;\n",
       "    }\n",
       "\n",
       "    .dataframe tbody tr th {\n",
       "        vertical-align: top;\n",
       "    }\n",
       "\n",
       "    .dataframe thead th {\n",
       "        text-align: right;\n",
       "    }\n",
       "</style>\n",
       "<table border=\"1\" class=\"dataframe\">\n",
       "  <thead>\n",
       "    <tr style=\"text-align: right;\">\n",
       "      <th></th>\n",
       "      <th>age</th>\n",
       "      <th>sex</th>\n",
       "      <th>cp</th>\n",
       "      <th>trestbps</th>\n",
       "      <th>chol</th>\n",
       "      <th>fbs</th>\n",
       "      <th>restecg</th>\n",
       "      <th>thalach</th>\n",
       "      <th>exang</th>\n",
       "      <th>oldpeak</th>\n",
       "      <th>slope</th>\n",
       "      <th>ca</th>\n",
       "      <th>thal</th>\n",
       "      <th>target</th>\n",
       "    </tr>\n",
       "  </thead>\n",
       "  <tbody>\n",
       "    <tr>\n",
       "      <th>0</th>\n",
       "      <td>52</td>\n",
       "      <td>1</td>\n",
       "      <td>0</td>\n",
       "      <td>125</td>\n",
       "      <td>212</td>\n",
       "      <td>0</td>\n",
       "      <td>1</td>\n",
       "      <td>168</td>\n",
       "      <td>0</td>\n",
       "      <td>1.0</td>\n",
       "      <td>2</td>\n",
       "      <td>2</td>\n",
       "      <td>3</td>\n",
       "      <td>0</td>\n",
       "    </tr>\n",
       "    <tr>\n",
       "      <th>1</th>\n",
       "      <td>53</td>\n",
       "      <td>1</td>\n",
       "      <td>0</td>\n",
       "      <td>140</td>\n",
       "      <td>203</td>\n",
       "      <td>1</td>\n",
       "      <td>0</td>\n",
       "      <td>155</td>\n",
       "      <td>1</td>\n",
       "      <td>3.1</td>\n",
       "      <td>0</td>\n",
       "      <td>0</td>\n",
       "      <td>3</td>\n",
       "      <td>0</td>\n",
       "    </tr>\n",
       "    <tr>\n",
       "      <th>2</th>\n",
       "      <td>70</td>\n",
       "      <td>1</td>\n",
       "      <td>0</td>\n",
       "      <td>145</td>\n",
       "      <td>174</td>\n",
       "      <td>0</td>\n",
       "      <td>1</td>\n",
       "      <td>125</td>\n",
       "      <td>1</td>\n",
       "      <td>2.6</td>\n",
       "      <td>0</td>\n",
       "      <td>0</td>\n",
       "      <td>3</td>\n",
       "      <td>0</td>\n",
       "    </tr>\n",
       "    <tr>\n",
       "      <th>3</th>\n",
       "      <td>61</td>\n",
       "      <td>1</td>\n",
       "      <td>0</td>\n",
       "      <td>148</td>\n",
       "      <td>203</td>\n",
       "      <td>0</td>\n",
       "      <td>1</td>\n",
       "      <td>161</td>\n",
       "      <td>0</td>\n",
       "      <td>0.0</td>\n",
       "      <td>2</td>\n",
       "      <td>1</td>\n",
       "      <td>3</td>\n",
       "      <td>0</td>\n",
       "    </tr>\n",
       "    <tr>\n",
       "      <th>4</th>\n",
       "      <td>62</td>\n",
       "      <td>0</td>\n",
       "      <td>0</td>\n",
       "      <td>138</td>\n",
       "      <td>294</td>\n",
       "      <td>1</td>\n",
       "      <td>1</td>\n",
       "      <td>106</td>\n",
       "      <td>0</td>\n",
       "      <td>1.9</td>\n",
       "      <td>1</td>\n",
       "      <td>3</td>\n",
       "      <td>2</td>\n",
       "      <td>0</td>\n",
       "    </tr>\n",
       "  </tbody>\n",
       "</table>\n",
       "</div>"
      ],
      "text/plain": [
       "   age  sex  cp  trestbps  chol  fbs  restecg  thalach  exang  oldpeak  slope  \\\n",
       "0   52    1   0       125   212    0        1      168      0      1.0      2   \n",
       "1   53    1   0       140   203    1        0      155      1      3.1      0   \n",
       "2   70    1   0       145   174    0        1      125      1      2.6      0   \n",
       "3   61    1   0       148   203    0        1      161      0      0.0      2   \n",
       "4   62    0   0       138   294    1        1      106      0      1.9      1   \n",
       "\n",
       "   ca  thal  target  \n",
       "0   2     3       0  \n",
       "1   0     3       0  \n",
       "2   0     3       0  \n",
       "3   1     3       0  \n",
       "4   3     2       0  "
      ]
     },
     "execution_count": 39,
     "metadata": {},
     "output_type": "execute_result"
    }
   ],
   "source": [
    "df.head()"
   ]
  },
  {
   "cell_type": "code",
   "execution_count": 42,
   "id": "fb5b1938",
   "metadata": {},
   "outputs": [],
   "source": [
    "'''\n",
    "pertama, ganti 1 dan 0 dengan 'pria' dan 'wanita' di kolom 'sex1'\n",
    "'''\n",
    "df['sex1'] = df.sex.replace({1 : 'Male', 0 : 'Female'})"
   ]
  },
  {
   "cell_type": "code",
   "execution_count": 43,
   "id": "6fa3b2ed",
   "metadata": {},
   "outputs": [],
   "source": [
    "dx = df[[\"target\", \"sex1\"]].dropna()"
   ]
  },
  {
   "cell_type": "markdown",
   "id": "2c0cd012",
   "metadata": {},
   "source": [
    "kita membutuhkan jumlah wanita yang memiliki penyakit jantung. baris kode dibawah ini menunjukkan jumlah pria dan wanita yang menderita penyakit ntung yang tidak menderika penyakit jantung"
   ]
  },
  {
   "cell_type": "code",
   "execution_count": 44,
   "id": "07b3df61",
   "metadata": {},
   "outputs": [
    {
     "data": {
      "text/html": [
       "<div>\n",
       "<style scoped>\n",
       "    .dataframe tbody tr th:only-of-type {\n",
       "        vertical-align: middle;\n",
       "    }\n",
       "\n",
       "    .dataframe tbody tr th {\n",
       "        vertical-align: top;\n",
       "    }\n",
       "\n",
       "    .dataframe thead th {\n",
       "        text-align: right;\n",
       "    }\n",
       "</style>\n",
       "<table border=\"1\" class=\"dataframe\">\n",
       "  <thead>\n",
       "    <tr style=\"text-align: right;\">\n",
       "      <th>sex1</th>\n",
       "      <th>Female</th>\n",
       "      <th>Male</th>\n",
       "    </tr>\n",
       "    <tr>\n",
       "      <th>target</th>\n",
       "      <th></th>\n",
       "      <th></th>\n",
       "    </tr>\n",
       "  </thead>\n",
       "  <tbody>\n",
       "    <tr>\n",
       "      <th>0</th>\n",
       "      <td>86</td>\n",
       "      <td>413</td>\n",
       "    </tr>\n",
       "    <tr>\n",
       "      <th>1</th>\n",
       "      <td>226</td>\n",
       "      <td>300</td>\n",
       "    </tr>\n",
       "  </tbody>\n",
       "</table>\n",
       "</div>"
      ],
      "text/plain": [
       "sex1    Female  Male\n",
       "target              \n",
       "0           86   413\n",
       "1          226   300"
      ]
     },
     "execution_count": 44,
     "metadata": {},
     "output_type": "execute_result"
    }
   ],
   "source": [
    "pd.crosstab(dx.target, dx.sex1)"
   ]
  },
  {
   "cell_type": "markdown",
   "id": "77411622",
   "metadata": {},
   "source": [
    "wanita penderita penyakit jantung berjumlah 226 orang. hitung proporsi penduduk wanita yang menderita penyakit jantung\n"
   ]
  },
  {
   "cell_type": "code",
   "execution_count": 45,
   "id": "39188a3c",
   "metadata": {},
   "outputs": [
    {
     "data": {
      "text/plain": [
       "0.7243589743589743"
      ]
     },
     "execution_count": 45,
     "metadata": {},
     "output_type": "execute_result"
    }
   ],
   "source": [
    "p_fm = 226/(86+226)\n",
    "p_fm"
   ]
  },
  {
   "cell_type": "markdown",
   "id": "85cc1879",
   "metadata": {},
   "source": [
    "p_fm adalah 0.72 . hitunglah jumlah populasi wanita "
   ]
  },
  {
   "cell_type": "code",
   "execution_count": 46,
   "id": "f087128b",
   "metadata": {},
   "outputs": [
    {
     "data": {
      "text/plain": [
       "312"
      ]
     },
     "execution_count": 46,
     "metadata": {},
     "output_type": "execute_result"
    }
   ],
   "source": [
    "n = 86 + 226\n",
    "n"
   ]
  },
  {
   "cell_type": "markdown",
   "id": "a7d789d8",
   "metadata": {},
   "source": [
    "jumlah populasi perempuan adalah 312. hitung standard error"
   ]
  },
  {
   "cell_type": "code",
   "execution_count": 47,
   "id": "23d211f6",
   "metadata": {},
   "outputs": [
    {
     "data": {
      "text/plain": [
       "0.02529714756803247"
      ]
     },
     "execution_count": 47,
     "metadata": {},
     "output_type": "execute_result"
    }
   ],
   "source": [
    "se_female = np.sqrt(p_fm * (1- p_fm) / n)\n",
    "se_female"
   ]
  },
  {
   "cell_type": "markdown",
   "id": "4eb0f123",
   "metadata": {},
   "source": [
    "standard error adalah 0,025\n",
    "\n",
    "sekarang buat CI menggunakan rumus di tas z-score adalah 1.96 untuk confidence interval 95%\n"
   ]
  },
  {
   "cell_type": "code",
   "execution_count": 49,
   "id": "80398390",
   "metadata": {},
   "outputs": [
    {
     "data": {
      "text/plain": [
       "(0.6747765651256307, 0.773941383592318)"
      ]
     },
     "execution_count": 49,
     "metadata": {},
     "output_type": "execute_result"
    }
   ],
   "source": [
    "z_score = 1.96\n",
    "lcb = p_fm - z_score * se_female #lower limit of the CI\n",
    "ucb = p_fm + z_score * se_female # upper limit of the CI\n",
    "\n",
    "lcb, ucb"
   ]
  },
  {
   "cell_type": "markdown",
   "id": "3d715c16",
   "metadata": {},
   "source": [
    "confidence interval adalah 0.67 dan 0.77"
   ]
  },
  {
   "cell_type": "markdown",
   "id": "b0548f77",
   "metadata": {},
   "source": [
    "kita dapat menghitungnya menggunaakan library 'statsmodels'."
   ]
  },
  {
   "cell_type": "code",
   "execution_count": 51,
   "id": "4a708332",
   "metadata": {},
   "outputs": [
    {
     "data": {
      "text/plain": [
       "(0.6747774762140357, 0.773940472503913)"
      ]
     },
     "execution_count": 51,
     "metadata": {},
     "output_type": "execute_result"
    }
   ],
   "source": [
    "import statsmodels.api as sm\n",
    "sm.stats.proportion_confint(n * p_fm, n)"
   ]
  },
  {
   "cell_type": "markdown",
   "id": "fec27d2e",
   "metadata": {},
   "source": [
    "## Calculation of CI of Mean"
   ]
  },
  {
   "cell_type": "code",
   "execution_count": 55,
   "id": "7dfe1edb",
   "metadata": {},
   "outputs": [
    {
     "data": {
      "text/plain": [
       "3.6459320499455985"
      ]
     },
     "execution_count": 55,
     "metadata": {},
     "output_type": "execute_result"
    }
   ],
   "source": [
    "# Berikut kode untuk mendapatkan mean, standard deviation, dan population size dari populasi pria dan wanita:\n",
    "df.groupby(\"sex1\").agg({\"chol\": [np.mean, np.std, np.size]})\n",
    "\n",
    "# Jika kita mengekstrak parameter yang diperlukan hanya untuk populasi wanita:\n",
    "mean_fe = 261.45  #mean cholesterol of female\n",
    "sd = 64.4         #standard deviation for female population\n",
    "n = 312           #Total number of female\n",
    "z = 1.96          #z-score from the z table mentioned before\n",
    "\n",
    "se = sd / np.sqrt(n)\n",
    "se\n"
   ]
  },
  {
   "cell_type": "markdown",
   "id": "957dbce8",
   "metadata": {},
   "source": [
    "## Construct the CI "
   ]
  },
  {
   "cell_type": "code",
   "execution_count": 56,
   "id": "5d353a96",
   "metadata": {},
   "outputs": [
    {
     "data": {
      "text/plain": [
       "(254.3039731821066, 268.59602681789335)"
      ]
     },
     "execution_count": 56,
     "metadata": {},
     "output_type": "execute_result"
    }
   ],
   "source": [
    "lcb = mean_fe - z* se  #lower limit of the CI\n",
    "ucb = mean_fe + z* se  #upper limit of the CI\n",
    "lcb, ucb"
   ]
  },
  {
   "cell_type": "markdown",
   "id": "d382f91b",
   "metadata": {},
   "source": [
    "CI adalah 254.303 and 268.596"
   ]
  },
  {
   "cell_type": "markdown",
   "id": "c6f2c7b7",
   "metadata": {},
   "source": [
    "## Other Example of Confidence Intervals\n"
   ]
  },
  {
   "cell_type": "code",
   "execution_count": 58,
   "id": "2da69bf2",
   "metadata": {},
   "outputs": [],
   "source": [
    "import pandas as pd\n",
    "import numpy as np\n",
    "import seaborn as sns\n",
    "import scipy.stats as stats\n",
    "import random\n",
    "import warnings\n",
    "import matplotlib.pyplot as plt\n",
    "%matplotlib inline"
   ]
  },
  {
   "cell_type": "code",
   "execution_count": 59,
   "id": "71d5ff24",
   "metadata": {},
   "outputs": [
    {
     "data": {
      "text/html": [
       "<div>\n",
       "<style scoped>\n",
       "    .dataframe tbody tr th:only-of-type {\n",
       "        vertical-align: middle;\n",
       "    }\n",
       "\n",
       "    .dataframe tbody tr th {\n",
       "        vertical-align: top;\n",
       "    }\n",
       "\n",
       "    .dataframe thead th {\n",
       "        text-align: right;\n",
       "    }\n",
       "</style>\n",
       "<table border=\"1\" class=\"dataframe\">\n",
       "  <thead>\n",
       "    <tr style=\"text-align: right;\">\n",
       "      <th></th>\n",
       "      <th>us_people_mass_pounds</th>\n",
       "    </tr>\n",
       "  </thead>\n",
       "  <tbody>\n",
       "    <tr>\n",
       "      <th>0</th>\n",
       "      <td>192.921140</td>\n",
       "    </tr>\n",
       "    <tr>\n",
       "      <th>1</th>\n",
       "      <td>177.681657</td>\n",
       "    </tr>\n",
       "    <tr>\n",
       "      <th>2</th>\n",
       "      <td>196.544525</td>\n",
       "    </tr>\n",
       "    <tr>\n",
       "      <th>3</th>\n",
       "      <td>217.552717</td>\n",
       "    </tr>\n",
       "    <tr>\n",
       "      <th>4</th>\n",
       "      <td>175.380319</td>\n",
       "    </tr>\n",
       "  </tbody>\n",
       "</table>\n",
       "</div>"
      ],
      "text/plain": [
       "   us_people_mass_pounds\n",
       "0             192.921140\n",
       "1             177.681657\n",
       "2             196.544525\n",
       "3             217.552717\n",
       "4             175.380319"
      ]
     },
     "execution_count": 59,
     "metadata": {},
     "output_type": "execute_result"
    }
   ],
   "source": [
    "sns.set(rc={'figure.figsize':(13, 7.5)})\n",
    "sns.set_context('talk')\n",
    "np.random.seed(42)\n",
    "\n",
    "normal_distribution_us_male_mass_pounds = np.random.normal(loc=181, scale=24, size=6000)\n",
    "normal_distribution_us_female_mass_pounds = np.random.normal(loc=132, scale=22, size=6500)\n",
    "all_mass_values = np.concatenate((normal_distribution_us_male_mass_pounds, normal_distribution_us_female_mass_pounds), axis=0)\n",
    "df_ppl_mass = pd.DataFrame(data={'us_people_mass_pounds': all_mass_values})\n",
    "df_ppl_mass.head()"
   ]
  },
  {
   "cell_type": "code",
   "execution_count": 61,
   "id": "2ccdcbf6",
   "metadata": {},
   "outputs": [
    {
     "name": "stderr",
     "output_type": "stream",
     "text": [
      "C:\\Users\\Administrator\\anaconda3\\lib\\site-packages\\seaborn\\distributions.py:2619: FutureWarning: `distplot` is a deprecated function and will be removed in a future version. Please adapt your code to use either `displot` (a figure-level function with similar flexibility) or `histplot` (an axes-level function for histograms).\n",
      "  warnings.warn(msg, FutureWarning)\n"
     ]
    },
    {
     "data": {
      "image/png": "[encoded data removed]",
      "text/plain": [
       "<Figure size 936x540 with 1 Axes>"
      ]
     },
     "metadata": {},
     "output_type": "display_data"
    }
   ],
   "source": [
    "# Gunakan metode seaborn distplot() untuk membuat histogram di kolom us_people_mass_pounds.\n",
    "\n",
    "sns.distplot(df_ppl_mass['us_people_mass_pounds'], color=\"red\")\n",
    "plt.xlabel(\"mass [pounds]\", labelpad=14)\n",
    "plt.ylabel(\"probability of occurence\", labelpad=14)\n",
    "plt.title(\"Distribution of Mass of People in U.S.\", y=1.015, fontsize=20);"
   ]
  },
  {
   "cell_type": "code",
   "execution_count": 62,
   "id": "95c7b338",
   "metadata": {},
   "outputs": [
    {
     "data": {
      "text/plain": [
       "155.4232805942338"
      ]
     },
     "execution_count": 62,
     "metadata": {},
     "output_type": "execute_result"
    }
   ],
   "source": [
    "# Calculation Population Mean\n",
    "pop_mean_mass = df_ppl_mass['us_people_mass_pounds'].mean()\n",
    "pop_mean_mass"
   ]
  },
  {
   "cell_type": "code",
   "execution_count": 63,
   "id": "82cc528f",
   "metadata": {},
   "outputs": [
    {
     "data": {
      "text/plain": [
       "33.585190883958624"
      ]
     },
     "execution_count": 63,
     "metadata": {},
     "output_type": "execute_result"
    }
   ],
   "source": [
    "# Calculate Population Standard Deviation\n",
    "pop_std_dev_mass = df_ppl_mass['us_people_mass_pounds'].std()\n",
    "pop_std_dev_mass"
   ]
  },
  {
   "cell_type": "code",
   "execution_count": 64,
   "id": "b9216ac1",
   "metadata": {},
   "outputs": [
    {
     "name": "stderr",
     "output_type": "stream",
     "text": [
      "C:\\Users\\Administrator\\anaconda3\\lib\\site-packages\\seaborn\\distributions.py:2619: FutureWarning: `distplot` is a deprecated function and will be removed in a future version. Please adapt your code to use either `displot` (a figure-level function with similar flexibility) or `histplot` (an axes-level function for histograms).\n",
      "  warnings.warn(msg, FutureWarning)\n"
     ]
    },
    {
     "data": {
      "image/png": "[encoded data removed]",
      "text/plain": [
       "<Figure size 936x540 with 1 Axes>"
      ]
     },
     "metadata": {},
     "output_type": "display_data"
    }
   ],
   "source": [
    "sample_means = []\n",
    "n = 25\n",
    "for sample in range(0, 300):\n",
    "    # random sampling done with replacement\n",
    "    sample_values = np.random.choice(a=df_ppl_mass['us_people_mass_pounds'], size=n)    \n",
    "    sample_mean = np.mean(sample_values)\n",
    "    sample_means.append(sample_mean)\n",
    "\n",
    "# View Distribution of Sample Means (Otherwise Called Sampling Distribution)\n",
    "sns.distplot(sample_means)\n",
    "plt.title(\"Distribution of Sample Means ($n=25$) of People's Mass in Pounds\", y=1.015, fontsize=20)\n",
    "plt.xlabel(\"sample mean mass [pounds]\", labelpad=14)\n",
    "plt.ylabel(\"frequency of occurence\", labelpad=14);"
   ]
  },
  {
   "cell_type": "markdown",
   "id": "1efb874f",
   "metadata": {},
   "source": [
    "## Calculate sampling distribution (n = 25) summry statistics\n",
    "\n",
    "berikut adalah ringkasan perhitungan statistik untuk distribusi pengambilan sampel yang divisualisasikan di atas"
   ]
  },
  {
   "cell_type": "code",
   "execution_count": 65,
   "id": "cbd8df9c",
   "metadata": {},
   "outputs": [
    {
     "data": {
      "text/plain": [
       "155.3008268518431"
      ]
     },
     "execution_count": 65,
     "metadata": {},
     "output_type": "execute_result"
    }
   ],
   "source": [
    "# Calculate Median of Sample Means\n",
    "median_of_sample_means = np.median(sample_means)\n",
    "median_of_sample_means"
   ]
  },
  {
   "cell_type": "code",
   "execution_count": 66,
   "id": "a2c25483",
   "metadata": {},
   "outputs": [
    {
     "data": {
      "text/plain": [
       "155.4232805942338"
      ]
     },
     "execution_count": 66,
     "metadata": {},
     "output_type": "execute_result"
    }
   ],
   "source": [
    "# Calculate Mean of Sample Means\n",
    "mean_of_sample_means = np.mean(sample_means)\n",
    "mean_of_sample_means\n",
    "pop_mean_mass"
   ]
  },
  {
   "cell_type": "code",
   "execution_count": 68,
   "id": "7abc6cfd",
   "metadata": {},
   "outputs": [
    {
     "data": {
      "text/plain": [
       "6.734407481483423"
      ]
     },
     "execution_count": 68,
     "metadata": {},
     "output_type": "execute_result"
    }
   ],
   "source": [
    "# Calculate of standard deviation of sample means\n",
    "std_dev_of_sample_means = np.std(sample_means)\n",
    "std_dev_of_sample_means"
   ]
  },
  {
   "cell_type": "markdown",
   "id": "f1713c89",
   "metadata": {},
   "source": [
    "## Equastion for standard deviation of sampling distribution"
   ]
  },
  {
   "cell_type": "code",
   "execution_count": 69,
   "id": "5d57e556",
   "metadata": {},
   "outputs": [
    {
     "data": {
      "text/plain": [
       "6.717038176791725"
      ]
     },
     "execution_count": 69,
     "metadata": {},
     "output_type": "execute_result"
    }
   ],
   "source": [
    "standard_error = pop_std_dev_mass/np.sqrt(n)\n",
    "standard_error"
   ]
  },
  {
   "cell_type": "code",
   "execution_count": 70,
   "id": "db6c024e",
   "metadata": {},
   "outputs": [
    {
     "data": {
      "text/plain": [
       "6.734407481483423"
      ]
     },
     "execution_count": 70,
     "metadata": {},
     "output_type": "execute_result"
    }
   ],
   "source": [
    "std_dev_of_sample_means"
   ]
  },
  {
   "cell_type": "markdown",
   "id": "d2870a3c",
   "metadata": {},
   "source": [
    "## Critical Z_Scores\n",
    "\n"
   ]
  },
  {
   "cell_type": "code",
   "execution_count": 72,
   "id": "17d85e30",
   "metadata": {},
   "outputs": [
    {
     "data": {
      "text/plain": [
       "0.024997895148220484"
      ]
     },
     "execution_count": 72,
     "metadata": {},
     "output_type": "execute_result"
    }
   ],
   "source": [
    "tail = 1 - stats.norm.cdf(1.96)\n",
    "tail"
   ]
  },
  {
   "cell_type": "code",
   "execution_count": 73,
   "id": "3cef85a6",
   "metadata": {},
   "outputs": [
    {
     "data": {
      "text/plain": [
       "0.950004209703559"
      ]
     },
     "execution_count": 73,
     "metadata": {},
     "output_type": "execute_result"
    }
   ],
   "source": [
    "# The area under the curve between the z-critcal scores is approximately 0.95\n",
    "1 - (tail * 2)"
   ]
  },
  {
   "cell_type": "code",
   "execution_count": 74,
   "id": "ebbd0b01",
   "metadata": {},
   "outputs": [
    {
     "data": {
      "text/plain": [
       "141.95878847542738"
      ]
     },
     "execution_count": 74,
     "metadata": {},
     "output_type": "execute_result"
    }
   ],
   "source": [
    "# Mari kita hitung batas yang tepat untuk area di mana 95% mean sampel berada dari mean populasi.\n",
    "\n",
    "lower_95_perc_bound = mean_of_sample_means - 1.96*standard_error\n",
    "lower_95_perc_bound"
   ]
  },
  {
   "cell_type": "code",
   "execution_count": 75,
   "id": "fcf78702",
   "metadata": {},
   "outputs": [
    {
     "data": {
      "text/plain": [
       "168.28957812845093"
      ]
     },
     "execution_count": 75,
     "metadata": {},
     "output_type": "execute_result"
    }
   ],
   "source": [
    "upper_95_perc_bound = mean_of_sample_means + 1.96*standard_error\n",
    "upper_95_perc_bound"
   ]
  },
  {
   "cell_type": "code",
   "execution_count": 78,
   "id": "d2534cbb",
   "metadata": {},
   "outputs": [
    {
     "data": {
      "image/png": "[encoded data removed]",
      "text/plain": [
       "<Figure size 936x540 with 1 Axes>"
      ]
     },
     "metadata": {},
     "output_type": "display_data"
    }
   ],
   "source": [
    "kde = stats.gaussian_kde(sample_means)\n",
    "pos = np.linspace(np.min(sample_means), np.max(sample_means), 10000)\n",
    "plt.plot(pos, kde(pos), color='red')\n",
    "shade = np.linspace(lower_95_perc_bound, upper_95_perc_bound, 300)\n",
    "plt.fill_between(shade, kde(shade), alpha=0.45, color='red',)\n",
    "plt.text(x=154, y=.01, horizontalalignment='center', fontsize=17, \n",
    "         s=\"95% of sample means fall within\\nthis shaded area of plus or minus\\n1.96 z-scores from the mean\", \n",
    "         bbox=dict(facecolor='whitesmoke', boxstyle=\"round, pad=0.1\"))\n",
    "plt.title(\"Distribution of Sample Means ($n=25$) of People's Mass in Pounds\", y=1.015, fontsize=20)\n",
    "plt.xlabel(\"sample mean mass [pounds]\", labelpad=14)\n",
    "plt.ylabel(\"frequency of occurence\", labelpad=14);"
   ]
  },
  {
   "cell_type": "markdown",
   "id": "8369a3c3",
   "metadata": {},
   "source": [
    "## Hypothesis Testing"
   ]
  },
  {
   "cell_type": "code",
   "execution_count": 79,
   "id": "ba81b31a",
   "metadata": {},
   "outputs": [],
   "source": [
    "# The test found that the data sample was normal, failing to reject the null hypothesis at a 5% significance level.\n",
    "\n",
    "import statsmodels.api as sm\n",
    "import numpy as np\n",
    "import matplotlib.pyplot as plt\n",
    "import pandas as pd"
   ]
  },
  {
   "cell_type": "code",
   "execution_count": 80,
   "id": "ae7abe78",
   "metadata": {},
   "outputs": [
    {
     "data": {
      "text/plain": [
       "(2.571067795759113, 0.005069273865860533)"
      ]
     },
     "execution_count": 80,
     "metadata": {},
     "output_type": "execute_result"
    }
   ],
   "source": [
    "n = 1018\n",
    "pnull = .52\n",
    "phat = .56\n",
    "sm.stats.proportions_ztest(phat * n, n, pnull, alternative='larger')"
   ]
  },
  {
   "cell_type": "code",
   "execution_count": 81,
   "id": "6789b362",
   "metadata": {},
   "outputs": [],
   "source": [
    "# female\n",
    "μ1=29.94\n",
    "\n",
    "σ1=7.75"
   ]
  },
  {
   "cell_type": "code",
   "execution_count": 82,
   "id": "65a4af61",
   "metadata": {},
   "outputs": [],
   "source": [
    "# male\n",
    "μ2=28.78\n",
    "σ2=6.25"
   ]
  },
  {
   "cell_type": "code",
   "execution_count": 83,
   "id": "6e975aa8",
   "metadata": {},
   "outputs": [
    {
     "data": {
      "text/html": [
       "<div>\n",
       "<style scoped>\n",
       "    .dataframe tbody tr th:only-of-type {\n",
       "        vertical-align: middle;\n",
       "    }\n",
       "\n",
       "    .dataframe tbody tr th {\n",
       "        vertical-align: top;\n",
       "    }\n",
       "\n",
       "    .dataframe thead th {\n",
       "        text-align: right;\n",
       "    }\n",
       "</style>\n",
       "<table border=\"1\" class=\"dataframe\">\n",
       "  <thead>\n",
       "    <tr style=\"text-align: right;\">\n",
       "      <th></th>\n",
       "      <th>SEQN</th>\n",
       "      <th>ALQ101</th>\n",
       "      <th>ALQ110</th>\n",
       "      <th>ALQ130</th>\n",
       "      <th>SMQ020</th>\n",
       "      <th>RIAGENDR</th>\n",
       "      <th>RIDAGEYR</th>\n",
       "      <th>RIDRETH1</th>\n",
       "      <th>DMDCITZN</th>\n",
       "      <th>DMDEDUC2</th>\n",
       "      <th>...</th>\n",
       "      <th>BPXSY2</th>\n",
       "      <th>BPXDI2</th>\n",
       "      <th>BMXWT</th>\n",
       "      <th>BMXHT</th>\n",
       "      <th>BMXBMI</th>\n",
       "      <th>BMXLEG</th>\n",
       "      <th>BMXARML</th>\n",
       "      <th>BMXARMC</th>\n",
       "      <th>BMXWAIST</th>\n",
       "      <th>HIQ210</th>\n",
       "    </tr>\n",
       "  </thead>\n",
       "  <tbody>\n",
       "    <tr>\n",
       "      <th>0</th>\n",
       "      <td>83732</td>\n",
       "      <td>1.0</td>\n",
       "      <td>NaN</td>\n",
       "      <td>1.0</td>\n",
       "      <td>1</td>\n",
       "      <td>1</td>\n",
       "      <td>62</td>\n",
       "      <td>3</td>\n",
       "      <td>1.0</td>\n",
       "      <td>5.0</td>\n",
       "      <td>...</td>\n",
       "      <td>124.0</td>\n",
       "      <td>64.0</td>\n",
       "      <td>94.8</td>\n",
       "      <td>184.5</td>\n",
       "      <td>27.8</td>\n",
       "      <td>43.3</td>\n",
       "      <td>43.6</td>\n",
       "      <td>35.9</td>\n",
       "      <td>101.1</td>\n",
       "      <td>2.0</td>\n",
       "    </tr>\n",
       "    <tr>\n",
       "      <th>1</th>\n",
       "      <td>83733</td>\n",
       "      <td>1.0</td>\n",
       "      <td>NaN</td>\n",
       "      <td>6.0</td>\n",
       "      <td>1</td>\n",
       "      <td>1</td>\n",
       "      <td>53</td>\n",
       "      <td>3</td>\n",
       "      <td>2.0</td>\n",
       "      <td>3.0</td>\n",
       "      <td>...</td>\n",
       "      <td>140.0</td>\n",
       "      <td>88.0</td>\n",
       "      <td>90.4</td>\n",
       "      <td>171.4</td>\n",
       "      <td>30.8</td>\n",
       "      <td>38.0</td>\n",
       "      <td>40.0</td>\n",
       "      <td>33.2</td>\n",
       "      <td>107.9</td>\n",
       "      <td>NaN</td>\n",
       "    </tr>\n",
       "    <tr>\n",
       "      <th>2</th>\n",
       "      <td>83734</td>\n",
       "      <td>1.0</td>\n",
       "      <td>NaN</td>\n",
       "      <td>NaN</td>\n",
       "      <td>1</td>\n",
       "      <td>1</td>\n",
       "      <td>78</td>\n",
       "      <td>3</td>\n",
       "      <td>1.0</td>\n",
       "      <td>3.0</td>\n",
       "      <td>...</td>\n",
       "      <td>132.0</td>\n",
       "      <td>44.0</td>\n",
       "      <td>83.4</td>\n",
       "      <td>170.1</td>\n",
       "      <td>28.8</td>\n",
       "      <td>35.6</td>\n",
       "      <td>37.0</td>\n",
       "      <td>31.0</td>\n",
       "      <td>116.5</td>\n",
       "      <td>2.0</td>\n",
       "    </tr>\n",
       "    <tr>\n",
       "      <th>3</th>\n",
       "      <td>83735</td>\n",
       "      <td>2.0</td>\n",
       "      <td>1.0</td>\n",
       "      <td>1.0</td>\n",
       "      <td>2</td>\n",
       "      <td>2</td>\n",
       "      <td>56</td>\n",
       "      <td>3</td>\n",
       "      <td>1.0</td>\n",
       "      <td>5.0</td>\n",
       "      <td>...</td>\n",
       "      <td>134.0</td>\n",
       "      <td>68.0</td>\n",
       "      <td>109.8</td>\n",
       "      <td>160.9</td>\n",
       "      <td>42.4</td>\n",
       "      <td>38.5</td>\n",
       "      <td>37.7</td>\n",
       "      <td>38.3</td>\n",
       "      <td>110.1</td>\n",
       "      <td>2.0</td>\n",
       "    </tr>\n",
       "    <tr>\n",
       "      <th>4</th>\n",
       "      <td>83736</td>\n",
       "      <td>2.0</td>\n",
       "      <td>1.0</td>\n",
       "      <td>1.0</td>\n",
       "      <td>2</td>\n",
       "      <td>2</td>\n",
       "      <td>42</td>\n",
       "      <td>4</td>\n",
       "      <td>1.0</td>\n",
       "      <td>4.0</td>\n",
       "      <td>...</td>\n",
       "      <td>114.0</td>\n",
       "      <td>54.0</td>\n",
       "      <td>55.2</td>\n",
       "      <td>164.9</td>\n",
       "      <td>20.3</td>\n",
       "      <td>37.4</td>\n",
       "      <td>36.0</td>\n",
       "      <td>27.2</td>\n",
       "      <td>80.4</td>\n",
       "      <td>2.0</td>\n",
       "    </tr>\n",
       "  </tbody>\n",
       "</table>\n",
       "<p>5 rows × 28 columns</p>\n",
       "</div>"
      ],
      "text/plain": [
       "    SEQN  ALQ101  ALQ110  ALQ130  SMQ020  RIAGENDR  RIDAGEYR  RIDRETH1  \\\n",
       "0  83732     1.0     NaN     1.0       1         1        62         3   \n",
       "1  83733     1.0     NaN     6.0       1         1        53         3   \n",
       "2  83734     1.0     NaN     NaN       1         1        78         3   \n",
       "3  83735     2.0     1.0     1.0       2         2        56         3   \n",
       "4  83736     2.0     1.0     1.0       2         2        42         4   \n",
       "\n",
       "   DMDCITZN  DMDEDUC2  ...  BPXSY2  BPXDI2  BMXWT  BMXHT  BMXBMI  BMXLEG  \\\n",
       "0       1.0       5.0  ...   124.0    64.0   94.8  184.5    27.8    43.3   \n",
       "1       2.0       3.0  ...   140.0    88.0   90.4  171.4    30.8    38.0   \n",
       "2       1.0       3.0  ...   132.0    44.0   83.4  170.1    28.8    35.6   \n",
       "3       1.0       5.0  ...   134.0    68.0  109.8  160.9    42.4    38.5   \n",
       "4       1.0       4.0  ...   114.0    54.0   55.2  164.9    20.3    37.4   \n",
       "\n",
       "   BMXARML  BMXARMC  BMXWAIST  HIQ210  \n",
       "0     43.6     35.9     101.1     2.0  \n",
       "1     40.0     33.2     107.9     NaN  \n",
       "2     37.0     31.0     116.5     2.0  \n",
       "3     37.7     38.3     110.1     2.0  \n",
       "4     36.0     27.2      80.4     2.0  \n",
       "\n",
       "[5 rows x 28 columns]"
      ]
     },
     "execution_count": 83,
     "metadata": {},
     "output_type": "execute_result"
    }
   ],
   "source": [
    "url = \"https://raw.githubusercontent.com/ardhiraka/PFDS_sources/master/nhanes_2015_2016.csv\"\n",
    "da = pd.read_csv(url)\n",
    "da.head()"
   ]
  },
  {
   "cell_type": "code",
   "execution_count": 84,
   "id": "84b7b4d8",
   "metadata": {},
   "outputs": [
    {
     "data": {
      "text/plain": [
       "(2976, 29.939945652173996, 7.75331880954568)"
      ]
     },
     "execution_count": 84,
     "metadata": {},
     "output_type": "execute_result"
    }
   ],
   "source": [
    "females = da[da[\"RIAGENDR\"] == 2]\n",
    "male = da[da[\"RIAGENDR\"] == 1]\n",
    "n1 = len(females)\n",
    "mu1 = females[\"BMXBMI\"].mean()\n",
    "sd1 = females[\"BMXBMI\"].std()\n",
    "\n",
    "(n1, mu1, sd1)"
   ]
  },
  {
   "cell_type": "code",
   "execution_count": 85,
   "id": "ee8516a4",
   "metadata": {},
   "outputs": [
    {
     "data": {
      "text/plain": [
       "(2759, 28.778072111846985, 6.252567616801485)"
      ]
     },
     "execution_count": 85,
     "metadata": {},
     "output_type": "execute_result"
    }
   ],
   "source": [
    "n2 = len(male)\n",
    "mu2 = male[\"BMXBMI\"].mean()\n",
    "sd2 = male[\"BMXBMI\"].std()\n",
    "\n",
    "(n2, mu2, sd2)"
   ]
  },
  {
   "cell_type": "code",
   "execution_count": 86,
   "id": "32deb0ac",
   "metadata": {},
   "outputs": [
    {
     "data": {
      "text/plain": [
       "(6.1755933531383205, 6.591544431126401e-10)"
      ]
     },
     "execution_count": 86,
     "metadata": {},
     "output_type": "execute_result"
    }
   ],
   "source": [
    "sm.stats.ztest(females[\"BMXBMI\"].dropna(), male[\"BMXBMI\"].dropna(),alternative='two-sided')"
   ]
  },
  {
   "cell_type": "code",
   "execution_count": 88,
   "id": "361af49f",
   "metadata": {},
   "outputs": [
    {
     "data": {
      "image/png": "[encoded data removed]",
      "text/plain": [
       "<Figure size 504x288 with 1 Axes>"
      ]
     },
     "metadata": {},
     "output_type": "display_data"
    }
   ],
   "source": [
    "# Kita juga dapat memplot histogram dari data untuk memeriksa apakah kira-kira distribusinya mengikuti distribusi Normal.\n",
    "\n",
    "plt.figure(figsize=(7,4))\n",
    "plt.title(\"Female BMI histogram\",fontsize=16)\n",
    "plt.hist(females[\"BMXBMI\"].dropna(),edgecolor='k',color='blue',bins=25)\n",
    "plt.show()"
   ]
  },
  {
   "cell_type": "code",
   "execution_count": 89,
   "id": "9172fd63",
   "metadata": {},
   "outputs": [
    {
     "data": {
      "image/png": "[encoded data removed]",
      "text/plain": [
       "<Figure size 504x288 with 1 Axes>"
      ]
     },
     "metadata": {},
     "output_type": "display_data"
    }
   ],
   "source": [
    "plt.figure(figsize=(7,4))\n",
    "plt.title(\"Male BMI histogram\",fontsize=16)\n",
    "plt.hist(male[\"BMXBMI\"].dropna(),edgecolor='k',color='Yellow',bins=25)\n",
    "plt.show()\n"
   ]
  },
  {
   "cell_type": "code",
   "execution_count": 90,
   "id": "bfbddf11",
   "metadata": {},
   "outputs": [
    {
     "data": {
      "text/html": [
       "<div>\n",
       "<style scoped>\n",
       "    .dataframe tbody tr th:only-of-type {\n",
       "        vertical-align: middle;\n",
       "    }\n",
       "\n",
       "    .dataframe tbody tr th {\n",
       "        vertical-align: top;\n",
       "    }\n",
       "\n",
       "    .dataframe thead th {\n",
       "        text-align: right;\n",
       "    }\n",
       "</style>\n",
       "<table border=\"1\" class=\"dataframe\">\n",
       "  <thead>\n",
       "    <tr style=\"text-align: right;\">\n",
       "      <th></th>\n",
       "      <th>age</th>\n",
       "      <th>sex</th>\n",
       "      <th>cp</th>\n",
       "      <th>trestbps</th>\n",
       "      <th>chol</th>\n",
       "      <th>fbs</th>\n",
       "      <th>restecg</th>\n",
       "      <th>thalach</th>\n",
       "      <th>exang</th>\n",
       "      <th>oldpeak</th>\n",
       "      <th>slope</th>\n",
       "      <th>ca</th>\n",
       "      <th>thal</th>\n",
       "      <th>target</th>\n",
       "    </tr>\n",
       "  </thead>\n",
       "  <tbody>\n",
       "    <tr>\n",
       "      <th>0</th>\n",
       "      <td>52</td>\n",
       "      <td>1</td>\n",
       "      <td>0</td>\n",
       "      <td>125</td>\n",
       "      <td>212</td>\n",
       "      <td>0</td>\n",
       "      <td>1</td>\n",
       "      <td>168</td>\n",
       "      <td>0</td>\n",
       "      <td>1.0</td>\n",
       "      <td>2</td>\n",
       "      <td>2</td>\n",
       "      <td>3</td>\n",
       "      <td>0</td>\n",
       "    </tr>\n",
       "    <tr>\n",
       "      <th>1</th>\n",
       "      <td>53</td>\n",
       "      <td>1</td>\n",
       "      <td>0</td>\n",
       "      <td>140</td>\n",
       "      <td>203</td>\n",
       "      <td>1</td>\n",
       "      <td>0</td>\n",
       "      <td>155</td>\n",
       "      <td>1</td>\n",
       "      <td>3.1</td>\n",
       "      <td>0</td>\n",
       "      <td>0</td>\n",
       "      <td>3</td>\n",
       "      <td>0</td>\n",
       "    </tr>\n",
       "    <tr>\n",
       "      <th>2</th>\n",
       "      <td>70</td>\n",
       "      <td>1</td>\n",
       "      <td>0</td>\n",
       "      <td>145</td>\n",
       "      <td>174</td>\n",
       "      <td>0</td>\n",
       "      <td>1</td>\n",
       "      <td>125</td>\n",
       "      <td>1</td>\n",
       "      <td>2.6</td>\n",
       "      <td>0</td>\n",
       "      <td>0</td>\n",
       "      <td>3</td>\n",
       "      <td>0</td>\n",
       "    </tr>\n",
       "    <tr>\n",
       "      <th>3</th>\n",
       "      <td>61</td>\n",
       "      <td>1</td>\n",
       "      <td>0</td>\n",
       "      <td>148</td>\n",
       "      <td>203</td>\n",
       "      <td>0</td>\n",
       "      <td>1</td>\n",
       "      <td>161</td>\n",
       "      <td>0</td>\n",
       "      <td>0.0</td>\n",
       "      <td>2</td>\n",
       "      <td>1</td>\n",
       "      <td>3</td>\n",
       "      <td>0</td>\n",
       "    </tr>\n",
       "    <tr>\n",
       "      <th>4</th>\n",
       "      <td>62</td>\n",
       "      <td>0</td>\n",
       "      <td>0</td>\n",
       "      <td>138</td>\n",
       "      <td>294</td>\n",
       "      <td>1</td>\n",
       "      <td>1</td>\n",
       "      <td>106</td>\n",
       "      <td>0</td>\n",
       "      <td>1.9</td>\n",
       "      <td>1</td>\n",
       "      <td>3</td>\n",
       "      <td>2</td>\n",
       "      <td>0</td>\n",
       "    </tr>\n",
       "  </tbody>\n",
       "</table>\n",
       "</div>"
      ],
      "text/plain": [
       "   age  sex  cp  trestbps  chol  fbs  restecg  thalach  exang  oldpeak  slope  \\\n",
       "0   52    1   0       125   212    0        1      168      0      1.0      2   \n",
       "1   53    1   0       140   203    1        0      155      1      3.1      0   \n",
       "2   70    1   0       145   174    0        1      125      1      2.6      0   \n",
       "3   61    1   0       148   203    0        1      161      0      0.0      2   \n",
       "4   62    0   0       138   294    1        1      106      0      1.9      1   \n",
       "\n",
       "   ca  thal  target  \n",
       "0   2     3       0  \n",
       "1   0     3       0  \n",
       "2   0     3       0  \n",
       "3   1     3       0  \n",
       "4   3     2       0  "
      ]
     },
     "execution_count": 90,
     "metadata": {},
     "output_type": "execute_result"
    }
   ],
   "source": [
    "import pandas as pd\n",
    "import numpy as np\n",
    "import statsmodels.api as sm\n",
    "import scipy.stats.distributions as dist\n",
    "df = pd.read_csv('dataset/Heart.csv')\n",
    "df.head()"
   ]
  },
  {
   "cell_type": "code",
   "execution_count": 91,
   "id": "bac461ad",
   "metadata": {},
   "outputs": [],
   "source": [
    "# Step 1: define the null hypothesis and alternative hypothesis.\n",
    "# Ho: p0 = 0.42  #null hypothesis\n",
    "# Ha: p > 0.42   #alternative hypothesis"
   ]
  },
  {
   "cell_type": "code",
   "execution_count": 92,
   "id": "bcd9c4d5",
   "metadata": {},
   "outputs": [],
   "source": [
    "# # Step 2: Assume that the dataset above is a representative \n",
    "# sample from the population of the US. So, calculate the \n",
    "# population proportion of the US having heart disease.\n",
    "\n",
    "p_us = len(df[df['target']=='1'])/len(df)"
   ]
  },
  {
   "cell_type": "code",
   "execution_count": 93,
   "id": "cc1d9d64",
   "metadata": {},
   "outputs": [],
   "source": [
    "# Step 3: Calculate the Test Statistic:\n",
    "se = np.sqrt(0.42 * (1-0.42) / len(df))\n",
    "\n",
    "#Best estimate\n",
    "be = p_us\n",
    "\n",
    "#hypothesized estimate\n",
    "he = 0.42\n",
    "test_stat = (be - he)/se\n",
    "\n",
    "# Step 4: Calculate the p-value\n",
    "pvalue = 2*dist.norm.cdf(-np.abs(test_stat))\n",
    "\n",
    "# Step 5: Infer the conclusion from the p-value Pertimbangkan significance level alpha adalah 5% atau 0.05. Tingkat signifikansi 5% atau kurang berarti ada kemungkin"
   ]
  },
  {
   "cell_type": "markdown",
   "id": "bf63ccfa",
   "metadata": {},
   "source": [
    "## Statistical Hypothesis Test Cheat Sheet( optional)"
   ]
  },
  {
   "cell_type": "markdown",
   "id": "8adba876",
   "metadata": {},
   "source": [
    "## Normaliy Test"
   ]
  },
  {
   "cell_type": "code",
   "execution_count": 94,
   "id": "c8bc08a0",
   "metadata": {},
   "outputs": [
    {
     "name": "stdout",
     "output_type": "stream",
     "text": [
      "stat=0.895, p=0.193\n",
      "Probably Gaussian\n"
     ]
    }
   ],
   "source": [
    "# Example of the Shapiro-Wilk Normality Test\n",
    "\n",
    "from scipy.stats import shapiro\n",
    "data = [0.873, 2.817, 0.121, -0.945, -0.055, -1.436, 0.360, -1.478, -1.637, -1.869]\n",
    "stat, p = shapiro(data)\n",
    "print('stat=%.3f, p=%.3f' % (stat, p))\n",
    "if p > 0.05:\n",
    "    print('Probably Gaussian')\n",
    "else:\n",
    "    print('Probably not Gaussian')"
   ]
  },
  {
   "cell_type": "markdown",
   "id": "d63fbf91",
   "metadata": {},
   "source": [
    "## D'Agostino's K^2 Test"
   ]
  },
  {
   "cell_type": "code",
   "execution_count": 95,
   "id": "7163e554",
   "metadata": {},
   "outputs": [
    {
     "name": "stdout",
     "output_type": "stream",
     "text": [
      "stat=3.392, p=0.183\n",
      "Probably Gaussian\n"
     ]
    },
    {
     "name": "stderr",
     "output_type": "stream",
     "text": [
      "C:\\Users\\Administrator\\anaconda3\\lib\\site-packages\\scipy\\stats\\stats.py:1541: UserWarning: kurtosistest only valid for n>=20 ... continuing anyway, n=10\n",
      "  warnings.warn(\"kurtosistest only valid for n>=20 ... continuing \"\n"
     ]
    }
   ],
   "source": [
    "# Example of the D'Agostino's K^2 Normality Test\n",
    "from scipy.stats import normaltest\n",
    "data = [0.873, 2.817, 0.121, -0.945, -0.055, -1.436, 0.360, -1.478, -1.637, -1.869]\n",
    "stat, p = normaltest(data)\n",
    "print('stat=%.3f, p=%.3f' % (stat, p))\n",
    "if p > 0.05:\n",
    "    print('Probably Gaussian')\n",
    "else:\n",
    "    print('Probably not Gaussian')"
   ]
  },
  {
   "cell_type": "markdown",
   "id": "80121de3",
   "metadata": {},
   "source": [
    "## Anderson - Darling Test"
   ]
  },
  {
   "cell_type": "code",
   "execution_count": 96,
   "id": "609c767c",
   "metadata": {},
   "outputs": [
    {
     "name": "stdout",
     "output_type": "stream",
     "text": [
      "stat=0.424\n",
      "Probably Gaussian at the 15.0% level\n",
      "Probably Gaussian at the 10.0% level\n",
      "Probably Gaussian at the 5.0% level\n",
      "Probably Gaussian at the 2.5% level\n",
      "Probably Gaussian at the 1.0% level\n"
     ]
    }
   ],
   "source": [
    "# Example of the Anderson-Darling Normality Test\n",
    "from scipy.stats import anderson\n",
    "data = [0.873, 2.817, 0.121, -0.945, -0.055, -1.436, 0.360, -1.478, -1.637, -1.869]\n",
    "result = anderson(data)\n",
    "print('stat=%.3f' % (result.statistic))\n",
    "for i in range(len(result.critical_values)):\n",
    "    sl, cv = result.significance_level[i], result.critical_values[i]\n",
    "    if result.statistic < cv:\n",
    "        print('Probably Gaussian at the %.1f%% level' % (sl))\n",
    "    else:\n",
    "        print('Probably not Gaussian at the %.1f%% level' % (sl))"
   ]
  },
  {
   "cell_type": "markdown",
   "id": "0d0c3a94",
   "metadata": {},
   "source": [
    "## Spearman's Rank Correlation"
   ]
  },
  {
   "cell_type": "code",
   "execution_count": 97,
   "id": "f66f6a72",
   "metadata": {},
   "outputs": [
    {
     "name": "stdout",
     "output_type": "stream",
     "text": [
      "stat=0.855, p=0.002\n",
      "Probably dependent\n"
     ]
    }
   ],
   "source": [
    "# Example of the Spearman's Rank Correlation Test\n",
    "from scipy.stats import spearmanr\n",
    "data1 = [0.873, 2.817, 0.121, -0.945, -0.055, -1.436, 0.360, -1.478, -1.637, -1.869]\n",
    "data2 = [0.353, 3.517, 0.125, -7.545, -0.555, -1.536, 3.350, -1.578, -3.537, -1.579]\n",
    "stat, p = spearmanr(data1, data2)\n",
    "print('stat=%.3f, p=%.3f' % (stat, p))\n",
    "if p > 0.05:\n",
    "    print('Probably independent')\n",
    "else:\n",
    "    print('Probably dependent')"
   ]
  },
  {
   "cell_type": "markdown",
   "id": "02094535",
   "metadata": {},
   "source": [
    "## Kendall's Rank Correlation"
   ]
  },
  {
   "cell_type": "code",
   "execution_count": 98,
   "id": "1080920b",
   "metadata": {},
   "outputs": [
    {
     "name": "stdout",
     "output_type": "stream",
     "text": [
      "stat=0.733, p=0.002\n",
      "Probably dependent\n"
     ]
    }
   ],
   "source": [
    "# Example of the Kendall's Rank Correlation Test\n",
    "from scipy.stats import kendalltau\n",
    "data1 = [0.873, 2.817, 0.121, -0.945, -0.055, -1.436, 0.360, -1.478, -1.637, -1.869]\n",
    "data2 = [0.353, 3.517, 0.125, -7.545, -0.555, -1.536, 3.350, -1.578, -3.537, -1.579]\n",
    "stat, p = kendalltau(data1, data2)\n",
    "print('stat=%.3f, p=%.3f' % (stat, p))\n",
    "if p > 0.05:\n",
    "    print('Probably independent')\n",
    "else:\n",
    "    print('Probably dependent')"
   ]
  },
  {
   "cell_type": "markdown",
   "id": "e0c2687f",
   "metadata": {},
   "source": [
    "## Chi- Squared Test"
   ]
  },
  {
   "cell_type": "code",
   "execution_count": 99,
   "id": "124e9eb3",
   "metadata": {},
   "outputs": [
    {
     "name": "stdout",
     "output_type": "stream",
     "text": [
      "stat=0.272, p=0.873\n",
      "Probably independent\n"
     ]
    }
   ],
   "source": [
    "# Example of the Chi-Squared Test\n",
    "from scipy.stats import chi2_contingency\n",
    "table = [[10, 20, 30],[6,  9,  17]]\n",
    "stat, p, dof, expected = chi2_contingency(table)\n",
    "print('stat=%.3f, p=%.3f' % (stat, p))\n",
    "if p > 0.05:\n",
    "    print('Probably independent')\n",
    "else:\n",
    "    print('Probably dependent')"
   ]
  },
  {
   "cell_type": "markdown",
   "id": "bb89148c",
   "metadata": {},
   "source": [
    "## Stationary Test"
   ]
  },
  {
   "cell_type": "code",
   "execution_count": 100,
   "id": "2d06e44d",
   "metadata": {},
   "outputs": [
    {
     "name": "stdout",
     "output_type": "stream",
     "text": [
      "stat=nan, p=nan\n",
      "Probably Stationary\n"
     ]
    },
    {
     "name": "stderr",
     "output_type": "stream",
     "text": [
      "C:\\Users\\Administrator\\anaconda3\\lib\\site-packages\\statsmodels\\regression\\linear_model.py:924: RuntimeWarning: divide by zero encountered in log\n",
      "  llf = -nobs2*np.log(2*np.pi) - nobs2*np.log(ssr / nobs) - nobs2\n"
     ]
    }
   ],
   "source": [
    "# Example of the Augmented Dickey-Fuller unit root test\n",
    "from statsmodels.tsa.stattools import adfuller\n",
    "data = [0, 1, 2, 3, 4, 5, 6, 7, 8, 9]\n",
    "stat, p, lags, obs, crit, t = adfuller(data)\n",
    "print('stat=%.3f, p=%.3f' % (stat, p))\n",
    "if p > 0.05:\n",
    "    print('Probably not Stationary')\n",
    "else:\n",
    "    print('Probably Stationary')"
   ]
  },
  {
   "cell_type": "markdown",
   "id": "9a9460ac",
   "metadata": {},
   "source": [
    "## Kwiatkowski-Phillips-Schmidts-shin"
   ]
  },
  {
   "cell_type": "code",
   "execution_count": 101,
   "id": "00d45b56",
   "metadata": {},
   "outputs": [
    {
     "name": "stdout",
     "output_type": "stream",
     "text": [
      "stat=0.594, p=0.023\n",
      "Probably Stationary\n"
     ]
    }
   ],
   "source": [
    "# Example of the Kwiatkowski-Phillips-Schmidt-Shin test\n",
    "from statsmodels.tsa.stattools import kpss\n",
    "data = [0, 1, 2, 3, 4, 5, 6, 7, 8, 9]\n",
    "stat, p, lags, crit = kpss(data)\n",
    "print('stat=%.3f, p=%.3f' % (stat, p))\n",
    "if p > 0.05:\n",
    "    print('Probably not Stationary')\n",
    "else:\n",
    "    print('Probably Stationary')"
   ]
  },
  {
   "cell_type": "markdown",
   "id": "8a2f4ac6",
   "metadata": {},
   "source": [
    "## Parametric Statistical Hypothesis Tests"
   ]
  },
  {
   "cell_type": "code",
   "execution_count": 102,
   "id": "09b284b4",
   "metadata": {},
   "outputs": [
    {
     "name": "stdout",
     "output_type": "stream",
     "text": [
      "stat=-0.326, p=0.748\n",
      "Probably the same distribution\n"
     ]
    }
   ],
   "source": [
    "# Example of the Student's t-test\n",
    "from scipy.stats import ttest_ind\n",
    "data1 = [0.873, 2.817, 0.121, -0.945, -0.055, -1.436, 0.360, -1.478, -1.637, -1.869]\n",
    "data2 = [1.142, -0.432, -0.938, -0.729, -0.846, -0.157, 0.500, 1.183, -1.075, -0.169]\n",
    "stat, p = ttest_ind(data1, data2)\n",
    "print('stat=%.3f, p=%.3f' % (stat, p))\n",
    "if p > 0.05:\n",
    "    print('Probably the same distribution')\n",
    "else:\n",
    "    print('Probably different distributions')"
   ]
  },
  {
   "cell_type": "markdown",
   "id": "66efbe56",
   "metadata": {},
   "source": [
    "## Paired Student's t-test"
   ]
  },
  {
   "cell_type": "code",
   "execution_count": 103,
   "id": "93f3f56c",
   "metadata": {},
   "outputs": [
    {
     "name": "stdout",
     "output_type": "stream",
     "text": [
      "stat=-0.334, p=0.746\n",
      "Probably the same distribution\n"
     ]
    }
   ],
   "source": [
    "# Example of the Paired Student's t-test\n",
    "from scipy.stats import ttest_rel\n",
    "data1 = [0.873, 2.817, 0.121, -0.945, -0.055, -1.436, 0.360, -1.478, -1.637, -1.869]\n",
    "data2 = [1.142, -0.432, -0.938, -0.729, -0.846, -0.157, 0.500, 1.183, -1.075, -0.169]\n",
    "stat, p = ttest_rel(data1, data2)\n",
    "print('stat=%.3f, p=%.3f' % (stat, p))\n",
    "if p > 0.05:\n",
    "    print('Probably the same distribution')\n",
    "else:\n",
    "    print('Probably different distributions')"
   ]
  },
  {
   "cell_type": "markdown",
   "id": "f6139d07",
   "metadata": {},
   "source": [
    "## Analysis of Variance Test (ANOVA)"
   ]
  },
  {
   "cell_type": "code",
   "execution_count": 104,
   "id": "74e47cb5",
   "metadata": {},
   "outputs": [
    {
     "name": "stdout",
     "output_type": "stream",
     "text": [
      "stat=0.096, p=0.908\n",
      "Probably the same distribution\n"
     ]
    }
   ],
   "source": [
    "# Example of the Analysis of Variance Test\n",
    "from scipy.stats import f_oneway\n",
    "data1 = [0.873, 2.817, 0.121, -0.945, -0.055, -1.436, 0.360, -1.478, -1.637, -1.869]\n",
    "data2 = [1.142, -0.432, -0.938, -0.729, -0.846, -0.157, 0.500, 1.183, -1.075, -0.169]\n",
    "data3 = [-0.208, 0.696, 0.928, -1.148, -0.213, 0.229, 0.137, 0.269, -0.870, -1.204]\n",
    "stat, p = f_oneway(data1, data2, data3)\n",
    "print('stat=%.3f, p=%.3f' % (stat, p))\n",
    "if p > 0.05:\n",
    "    print('Probably the same distribution')\n",
    "else:\n",
    "    print('Probably different distributions')"
   ]
  },
  {
   "cell_type": "markdown",
   "id": "866dbac9",
   "metadata": {},
   "source": [
    "## Nonparametric Statistical Hypothesis Test"
   ]
  },
  {
   "cell_type": "markdown",
   "id": "68d0d7bf",
   "metadata": {},
   "source": [
    "## Mann - Whitney U Test"
   ]
  },
  {
   "cell_type": "code",
   "execution_count": 106,
   "id": "81a8c275",
   "metadata": {},
   "outputs": [
    {
     "name": "stdout",
     "output_type": "stream",
     "text": [
      "stat=40.000, p=0.473\n",
      "Probably the same distribution\n"
     ]
    }
   ],
   "source": [
    "# Example of the Mann-Whitney U Test\n",
    "from scipy.stats import mannwhitneyu\n",
    "data1 = [0.873, 2.817, 0.121, -0.945, -0.055, -1.436, 0.360, -1.478, -1.637, -1.869]\n",
    "data2 = [1.142, -0.432, -0.938, -0.729, -0.846, -0.157, 0.500, 1.183, -1.075, -0.169]\n",
    "stat, p = mannwhitneyu(data1, data2)\n",
    "print('stat=%.3f, p=%.3f' % (stat, p))\n",
    "if p > 0.05:\n",
    "    print('Probably the same distribution')\n",
    "else:\n",
    "    print('Probably different distributions')"
   ]
  },
  {
   "cell_type": "markdown",
   "id": "1a4eefa2",
   "metadata": {},
   "source": [
    "## Wilcoxon signed - Rank Test"
   ]
  },
  {
   "cell_type": "code",
   "execution_count": 107,
   "id": "e8e3da8f",
   "metadata": {},
   "outputs": [
    {
     "name": "stdout",
     "output_type": "stream",
     "text": [
      "stat=21.000, p=0.557\n",
      "Probably the same distribution\n"
     ]
    }
   ],
   "source": [
    "# Example of the Wilcoxon Signed-Rank Test\n",
    "from scipy.stats import wilcoxon\n",
    "data1 = [0.873, 2.817, 0.121, -0.945, -0.055, -1.436, 0.360, -1.478, -1.637, -1.869]\n",
    "data2 = [1.142, -0.432, -0.938, -0.729, -0.846, -0.157, 0.500, 1.183, -1.075, -0.169]\n",
    "stat, p = wilcoxon(data1, data2)\n",
    "print('stat=%.3f, p=%.3f' % (stat, p))\n",
    "if p > 0.05:\n",
    "    print('Probably the same distribution')\n",
    "else:\n",
    "    print('Probably different distributions')"
   ]
  },
  {
   "cell_type": "markdown",
   "id": "8f4e04d0",
   "metadata": {},
   "source": [
    "## Kruskal - Wallis H Test"
   ]
  },
  {
   "cell_type": "code",
   "execution_count": 108,
   "id": "2004c019",
   "metadata": {},
   "outputs": [
    {
     "name": "stdout",
     "output_type": "stream",
     "text": [
      "stat=0.571, p=0.450\n",
      "Probably the same distribution\n"
     ]
    }
   ],
   "source": [
    "# Example of the Kruskal-Wallis H Test\n",
    "from scipy.stats import kruskal\n",
    "data1 = [0.873, 2.817, 0.121, -0.945, -0.055, -1.436, 0.360, -1.478, -1.637, -1.869]\n",
    "data2 = [1.142, -0.432, -0.938, -0.729, -0.846, -0.157, 0.500, 1.183, -1.075, -0.169]\n",
    "stat, p = kruskal(data1, data2)\n",
    "print('stat=%.3f, p=%.3f' % (stat, p))\n",
    "if p > 0.05:\n",
    "    print('Probably the same distribution')\n",
    "else:\n",
    "    print('Probably different distributions')"
   ]
  },
  {
   "cell_type": "markdown",
   "id": "876dc705",
   "metadata": {},
   "source": [
    "## Friedman Test "
   ]
  },
  {
   "cell_type": "code",
   "execution_count": 109,
   "id": "f6d51263",
   "metadata": {},
   "outputs": [
    {
     "name": "stdout",
     "output_type": "stream",
     "text": [
      "stat=0.800, p=0.670\n",
      "Probably the same distribution\n"
     ]
    }
   ],
   "source": [
    "# Example of the Friedman Test\n",
    "from scipy.stats import friedmanchisquare\n",
    "data1 = [0.873, 2.817, 0.121, -0.945, -0.055, -1.436, 0.360, -1.478, -1.637, -1.869]\n",
    "data2 = [1.142, -0.432, -0.938, -0.729, -0.846, -0.157, 0.500, 1.183, -1.075, -0.169]\n",
    "data3 = [-0.208, 0.696, 0.928, -1.148, -0.213, 0.229, 0.137, 0.269, -0.870, -1.204]\n",
    "stat, p = friedmanchisquare(data1, data2, data3)\n",
    "print('stat=%.3f, p=%.3f' % (stat, p))\n",
    "if p > 0.05:\n",
    "    print('Probably the same distribution')\n",
    "else:\n",
    "    print('Probably different distributions')"
   ]
  },
  {
   "cell_type": "code",
   "execution_count": null,
   "id": "1d4bb0fc",
   "metadata": {},
   "outputs": [],
   "source": []
  }
 ],
 "metadata": {
  "kernelspec": {
   "display_name": "Python 3 (ipykernel)",
   "language": "python",
   "name": "python3"
  },
  "language_info": {
   "codemirror_mode": {
    "name": "ipython",
    "version": 3
   },
   "file_extension": ".py",
   "mimetype": "text/x-python",
   "name": "python",
   "nbconvert_exporter": "python",
   "pygments_lexer": "ipython3",
   "version": "3.9.12"
  }
 },
 "nbformat": 4,
 "nbformat_minor": 5
}
