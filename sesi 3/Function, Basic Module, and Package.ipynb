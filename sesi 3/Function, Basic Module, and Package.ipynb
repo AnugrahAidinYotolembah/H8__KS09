{
 "cells": [
  {
   "cell_type": "markdown",
   "id": "8266a88d",
   "metadata": {},
   "source": [
    "# 1. Python Function"
   ]
  },
  {
   "cell_type": "markdown",
   "id": "858ff3cf",
   "metadata": {},
   "source": [
    "Function adalah blok kode yang terorganisir dan dapat digunakan kembali,yang di gunakan untuk melakukan satu tindakan yang terkait. functions adalah modularitas yang lebih baik untuk aplikasi \n",
    "kalian dan code reusing\n"
   ]
  },
  {
   "cell_type": "markdown",
   "id": "bc669db8",
   "metadata": {},
   "source": [
    "A. Defining a Function\n",
    "   Defining a function dapat membuat functions untuk menyediakan  \n",
    "   fungsionalitas yang di perlukan. berikut adalah aturan  \n",
    "   sederhana untuk mendefinisikan functions dengan python\n",
    "   \n",
    "   functions blocks dimulai dengan keyword def diikuti dengan nama  \n",
    "   fungsi dan tanda kurung (()).\n",
    "   \n",
    "   parameter atau argumen masukan apapun harus ditempatkan di  \n",
    "   dalam tanda kurung ini, kalian juga dapat menentukan parameter \n",
    "   didalam tanda kurung. statement awal dari suatu fungsi dapat  \n",
    "   berupa optonal statement - dokumentasi dari fungsi atau \n",
    "   docstring blok kode dalam setiap function dimulai dengan titik    dua (:) dan diberi indentasi\n",
    "   "
   ]
  },
  {
   "cell_type": "code",
   "execution_count": 6,
   "id": "fd1b9f54",
   "metadata": {},
   "outputs": [],
   "source": [
    "# # contoh 1 Defining a Function\n",
    "\n",
    "#   def fungction_name(parameters):\n",
    "#         print(\"docstring\")\n",
    "#     print(s)\n",
    "        "
   ]
  },
  {
   "cell_type": "code",
   "execution_count": 2,
   "id": "167205ef",
   "metadata": {},
   "outputs": [
    {
     "name": "stdout",
     "output_type": "stream",
     "text": [
      "8\n",
      "None\n"
     ]
    }
   ],
   "source": [
    "# contoh 2 Defining a function\n",
    "\n",
    "def my_function(p, l):\n",
    "    \"function untuk menghitung luas\"\n",
    "    print(p*l)\n",
    "print(my_function(2,4))\n",
    "    "
   ]
  },
  {
   "cell_type": "code",
   "execution_count": 9,
   "id": "d42b63bb",
   "metadata": {},
   "outputs": [
    {
     "name": "stdout",
     "output_type": "stream",
     "text": [
      "12\n",
      "None\n"
     ]
    }
   ],
   "source": [
    "# contoh 3 Defining a function\n",
    "\n",
    "def nama_buah(mangga, apel):\n",
    "    \"mendefinisikan nama buah\"\n",
    "    print(mangga * apel)\n",
    "print(nama_buah(3,4))"
   ]
  },
  {
   "cell_type": "code",
   "execution_count": 4,
   "id": "9a10743e",
   "metadata": {},
   "outputs": [
    {
     "name": "stdout",
     "output_type": "stream",
     "text": [
      "20\n"
     ]
    }
   ],
   "source": [
    "# contoh 4 Defining a function\n",
    "\n",
    "def nama_mobil(yaris, inova):\n",
    "    \"ini adalah nama mobil\"\n",
    "    print(yaris * inova)\n",
    "nama_mobil(4,5)"
   ]
  },
  {
   "cell_type": "markdown",
   "id": "a87db84f",
   "metadata": {},
   "source": [
    "B. Calling a Function\n",
    "   \n",
    "   Mendifinisikan function hanya memberi nama, menentukan  \n",
    "   parameter yang akan disertakan dalam fungsi dan menyusun blok \n",
    "   kode.\n",
    "   \n",
    "   Setelah struktur dasar suatu function diselesaikan, kalian  \n",
    "   dapat menjalankannya dengan memanggil dari fungsi lain atau \n",
    "   langsung dari prompt python. berikut adalah contoh untuk \n",
    "   memanggil fungsi printme():"
   ]
  },
  {
   "cell_type": "code",
   "execution_count": 154,
   "id": "98b9d781",
   "metadata": {},
   "outputs": [
    {
     "name": "stdout",
     "output_type": "stream",
     "text": [
      " I'm first call to user defined function\n",
      " agaian second call to the same function\n"
     ]
    }
   ],
   "source": [
    "# contoh calling a function\n",
    "\n",
    "# function definition is here   \n",
    "def didi( str ):\n",
    "        \"this prints a passed string into this function\"\n",
    "        print(str)\n",
    "        return;\n",
    "\n",
    "\n",
    "# now you can call didi function\n",
    "didi(\" I'm first call to user defined function\")\n",
    "didi(\" agaian second call to the same function\")\n"
   ]
  },
  {
   "cell_type": "markdown",
   "id": "58718405",
   "metadata": {},
   "source": [
    "C. PASS BY REFERENCE VS VALUE\n",
    "   \n",
    "   Semua parameter(arguments) dalam python di passed by referene, \n",
    "   artinya jika kalian mengubah apa yang dirujuk oleh parameter \n",
    "   dalam suatu fungsi, perubahan tersebut juga kembali pemanggil"
   ]
  },
  {
   "cell_type": "code",
   "execution_count": 41,
   "id": "304a2925",
   "metadata": {},
   "outputs": [
    {
     "name": "stdout",
     "output_type": "stream",
     "text": [
      "values inside the function :  [10, 20, 30, [1, 2, 3, 4]]\n",
      "values outside the function :  [10, 20, 30, [1, 2, 3, 4]]\n"
     ]
    }
   ],
   "source": [
    "# contoh 1 pass by reference vs value\n",
    "\n",
    "\n",
    "# function definition is here\n",
    "def changename(mylist):\n",
    "        \"this is changes a passed list into this function\"\n",
    "        mylist.append([1,2,3,4]);\n",
    "        print(\"values inside the function : \", mylist)\n",
    "    \n",
    "\n",
    "# now you can call changeme function\n",
    "mylist = [10,20,30];\n",
    "changename(mylist );\n",
    "print(\"values outside the function : \", mylist)"
   ]
  },
  {
   "cell_type": "code",
   "execution_count": 18,
   "id": "4ce466ab",
   "metadata": {},
   "outputs": [
    {
     "name": "stdout",
     "output_type": "stream",
     "text": [
      "ini adalah list warna ke 1 ['warna hitam', 'warna oranye', 'warna hijau', ['warna kuning', 'warna merah', 'warna biru']]\n",
      "ini adalah list warna ke 2 ['warna hitam', 'warna oranye', 'warna hijau', ['warna kuning', 'warna merah', 'warna biru']]\n"
     ]
    }
   ],
   "source": [
    "# contoh 2 pass by reference vs value\n",
    "\n",
    "def warna_kesukaan_didi(list_warna):\n",
    "    \"ini adalah warna kesukaan didi\"\n",
    "    list_warna.append(['warna kuning', 'warna merah', 'warna biru'])\n",
    "    print(\"ini adalah list warna ke 1\", list_warna)\n",
    "    \n",
    "\n",
    "list_warna = ['warna hitam', 'warna oranye', 'warna hijau'];\n",
    "warna_kesukaan_didi(list_warna);\n",
    "print(\"ini adalah list warna ke 2\", list_warna)\n",
    "    "
   ]
  },
  {
   "cell_type": "code",
   "execution_count": 21,
   "id": "65b93edf",
   "metadata": {},
   "outputs": [
    {
     "name": "stdout",
     "output_type": "stream",
     "text": [
      "values inside the fucntion :  [1, 2, 3, 4]\n",
      "values outside the function :  [10, 20, 30]\n"
     ]
    }
   ],
   "source": [
    "'''\n",
    "ada satu contoh lagi dimana argumen diteruskan oleh reference \n",
    "dan reference kemudian dioverwritte di dalam fungsi yang \n",
    "di panggil\n",
    "'''\n",
    "\n",
    "# contoh\n",
    "\n",
    "def changeme(mylist):\n",
    "    \"this is changes a passed list into this function\"\n",
    "    mylist = [1,2,3,4];\n",
    "    print(\"values inside the fucntion : \", mylist)\n",
    "    return\n",
    "\n",
    "\n",
    "mylist = [10,20,30];\n",
    "changeme(mylist);\n",
    "print('values outside the function : ', mylist)"
   ]
  },
  {
   "cell_type": "markdown",
   "id": "62550532",
   "metadata": {},
   "source": [
    "D. REQUIRED ARGUMENTS\n",
    "   \n",
    "   Required arguments adalah argumen yang diteruskan kesuatu fungsi dalam urutan posisi yang benar. di sini, jumlah argumen dalam pemanggilan fungsi harus sama persis dengan function difinitons\n",
    "   \n",
    "untuk memanggil fungsi printme(), kalian pasti perlu memberikan satu argumen jika tidak maka akan eror sebagai berikut\n",
    "\n",
    "contoh yang tidak benar :\n",
    "\n",
    "def printme(str):\n",
    "    \"this is prints a passed string into this function\"\n",
    "   print(str)\n",
    "   return\n",
    "\n",
    "printme()"
   ]
  },
  {
   "cell_type": "markdown",
   "id": "c817d3d0",
   "metadata": {},
   "source": [
    "E. KEYWORD ARGUMENTS\n",
    "\n",
    "   Keyword arguments berkaitan dengan pemanggilan fungsi. saat kalian menggunakan keyword arguments dalam memanggil fungsi, pemanggil mengidentifikasi argumen dengan nama parameter.\n",
    "   \n",
    "   Hal ini memungkinkan kalian untuk melwati argumen atau menepatkannya tidak berurutan karna interpreter python dapat menggunakan kata kunci disediakan untuk mencocokkan nilai dengan parameter. kalian juga dapat membuat panggilan kata kunci ke fungsi printme() dengan cara berikut:"
   ]
  },
  {
   "cell_type": "code",
   "execution_count": 36,
   "id": "c3234882",
   "metadata": {},
   "outputs": [
    {
     "name": "stdout",
     "output_type": "stream",
     "text": [
      "hacktiv8\n"
     ]
    }
   ],
   "source": [
    "# contoh keyword argument\n",
    "\n",
    "def printme(str):\n",
    "    \"this is prints a passed string into this function\"\n",
    "    print(str)\n",
    "    return\n",
    "\n",
    "printme(str = \"hacktiv8\")"
   ]
  },
  {
   "cell_type": "code",
   "execution_count": 48,
   "id": "a0a9d068",
   "metadata": {},
   "outputs": [
    {
     "name": "stdout",
     "output_type": "stream",
     "text": [
      "name :  didi\n",
      "age :  4\n"
     ]
    }
   ],
   "source": [
    "# contoh berikut memberikan gambaran yang lebih jelas, \n",
    "# perhatikan bahwa urutan parameter tidak menjadi masalah.\n",
    "\n",
    "# contoh 1\n",
    "# function definition is here\n",
    "def print_info(name, age):\n",
    "    \"this is prints a passed info intro this function\"\n",
    "    print(\"name : \", name)\n",
    "    print(\"age : \", age)\n",
    "    return;\n",
    "\n",
    "\n",
    "# now yo can call printinfo function\n",
    "print_info(age = 4, name = \"didi\")\n"
   ]
  },
  {
   "cell_type": "code",
   "execution_count": 62,
   "id": "65919951",
   "metadata": {},
   "outputs": [
    {
     "name": "stdout",
     "output_type": "stream",
     "text": [
      "nama :  didi\n",
      "umur :  20\n"
     ]
    }
   ],
   "source": [
    "# contoh 2\n",
    "\n",
    "def data_siswa(nama, umur):\n",
    "    \"ini adalah fungsi data siswa\"\n",
    "    print(\"nama : \", nama)\n",
    "    print(\"umur : \", umur)\n",
    "\n",
    "    \n",
    "data_siswa(nama = \"didi\", umur = 20)\n"
   ]
  },
  {
   "cell_type": "markdown",
   "id": "e3b28226",
   "metadata": {},
   "source": [
    "F. Default arguments\n",
    "   \n",
    "   Default argument adalah argumen yang mengasumsikan nilai default jika nilai tidak disediakan dalam pemanggilan fungsi untuk argumen tersebut. "
   ]
  },
  {
   "cell_type": "code",
   "execution_count": 58,
   "id": "742bc01c",
   "metadata": {},
   "outputs": [
    {
     "name": "stdout",
     "output_type": "stream",
     "text": [
      "name :  didi\n",
      "age :   50\n",
      "name :  afgim\n",
      "age :   26\n"
     ]
    }
   ],
   "source": [
    "# contoh 1 default argument\n",
    "\n",
    "def print_info(name, age=26):\n",
    "    \"this prints a passed info into this function\"\n",
    "    print(\"name : \", name)\n",
    "    print(\"age :  \", age)\n",
    "    return\n",
    "\n",
    "print_info(age = 50, name = \"didi\")\n",
    "print_info(name = \"afgim\")"
   ]
  },
  {
   "cell_type": "code",
   "execution_count": 78,
   "id": "f2899698",
   "metadata": {},
   "outputs": [
    {
     "name": "stdout",
     "output_type": "stream",
     "text": [
      "nama :  didi\n",
      "umur :  40\n",
      "hobi :  bola\n",
      "nama :  afgim\n",
      "umur :  20\n",
      "hobi :  ps3\n"
     ]
    }
   ],
   "source": [
    "# contoh 2 default argument\n",
    "\n",
    "\n",
    "def data_siswa(nama, hobi, umur = 20):\n",
    "    \"ini adalah data siswa\"\n",
    "    print(\"nama : \", nama)\n",
    "    print(\"umur : \", umur)\n",
    "    print(\"hobi : \", hobi)\n",
    "    return\n",
    "    \n",
    "\n",
    "data_siswa(nama = \"didi\", hobi = \"bola\", umur = 40)\n",
    "data_siswa(nama = \"afgim\", hobi = \"ps3\")\n",
    "    "
   ]
  },
  {
   "cell_type": "markdown",
   "id": "5cfcdceb",
   "metadata": {},
   "source": [
    "G. VARIABLE LENGTH ARGUMENT\n",
    "   \n",
    "   kalian mungkin perlu memproses suatu fungsi untuk menerima lebih banyak argumen daripada yang kalian tentukan saat mendifinisikan fungsi. argumen ini disebut variable length argument dan tidak diberi nama ketika definisi fungsi. tidak seperti requird dan default argument. \n",
    "   \n",
    "   sintaks untuk fungsi dengan non keyword variable argument adalah sebagai berikut. "
   ]
  },
  {
   "cell_type": "code",
   "execution_count": 84,
   "id": "d5f8bfe4",
   "metadata": {},
   "outputs": [
    {
     "name": "stdout",
     "output_type": "stream",
     "text": [
      "output is : \n",
      "10\n",
      "output is : \n",
      "70\n",
      "60\n",
      "50\n",
      "a\n"
     ]
    }
   ],
   "source": [
    "# contoh 1\n",
    "\n",
    "# function definition is here\n",
    "def print_info(arg1, *vartuple):\n",
    "    \"this is prints a variable passed arguments\"\n",
    "    print(\"output is : \")\n",
    "    print(arg1)\n",
    "    for var in vartuple:\n",
    "        print(var)\n",
    "    return\n",
    "\n",
    "# now you can call printinfo function\n",
    "print_info(10)\n",
    "print_info(70,60,50, \"a\")"
   ]
  },
  {
   "cell_type": "markdown",
   "id": "a0953dff",
   "metadata": {},
   "source": [
    "H. the Anonymous functions\n",
    "   \n",
    "   functions ini disebut anonymous karena tidak dideklarisikan dengan cara standar dengan menggunakan keyword def. kalian dapat menggunakan keyword lambda untuk membuat anonymous functions\n",
    "   \n",
    "   lambda :\n",
    "   dapat mengambil berapapun argument tetapi hanya mengembalikan \n",
    "   satu nilai dalam bentuk expression. lamda tidak boleh berisi  \n",
    "   commands atau multiple expressions\n",
    "   \n",
    "   lambda functions memiliki namespace local sendiri dan tidak dapat mengakses variable selain yang ada di daftar parameternya dan yang ada di namespace global."
   ]
  },
  {
   "cell_type": "code",
   "execution_count": 97,
   "id": "da3212fe",
   "metadata": {},
   "outputs": [
    {
     "name": "stdout",
     "output_type": "stream",
     "text": [
      "30\n",
      "value of total :  None\n",
      "40\n",
      "value of total :  None\n"
     ]
    }
   ],
   "source": [
    "# contoh 1 \n",
    "\n",
    "# function definition is here\n",
    "\n",
    "sum = lambda arg1, arg2 : arg1 + arg2;\n",
    "\n",
    "def sum(arg1, arg2):\n",
    "    print(arg1 + arg2)\n",
    "\n",
    "# now you can call sum as a function\n",
    "print(\"value of total : \", sum(10, 20 ))\n",
    "print(\"value of total : \", sum(20, 20 ))"
   ]
  },
  {
   "cell_type": "markdown",
   "id": "97e5dcbf",
   "metadata": {},
   "source": [
    "I. return statement\n",
    "   statement return menyebabkan kita keluar dari suatu fungsi dan secara opsional meneruskan eksperesi ke pemanggil. pernyataan return tanpa argumen sama dengan return none"
   ]
  },
  {
   "cell_type": "code",
   "execution_count": 104,
   "id": "e043a7e9",
   "metadata": {},
   "outputs": [
    {
     "name": "stdout",
     "output_type": "stream",
     "text": [
      "inside the function :  30\n",
      "outside the function :  40\n"
     ]
    }
   ],
   "source": [
    "# contoh 1 :\n",
    "\n",
    "# function definition is here \n",
    "\n",
    "def sum(arg1, arg2):\n",
    "    total1 = arg1 + arg2\n",
    "    total2 = total1 + arg1\n",
    "    print(\"inside the function : \", total1)\n",
    "    return total2\n",
    "\n",
    "# now you can call sum function\n",
    "total1 = sum(10, 20)\n",
    "print(\"outside the function : \", total1)"
   ]
  },
  {
   "cell_type": "code",
   "execution_count": 108,
   "id": "0403522d",
   "metadata": {},
   "outputs": [
    {
     "name": "stdout",
     "output_type": "stream",
     "text": [
      "inside the function local total :  30\n",
      "outside the function global total :  0\n"
     ]
    }
   ],
   "source": [
    "# global vs local variables\n",
    "\n",
    "#contoh 1\n",
    "total = 0\n",
    "\n",
    "def sum(arg1, arg2):\n",
    "    total = arg1 + arg2;\n",
    "    print(\"inside the function local total : \", total)\n",
    "    return total;\n",
    "\n",
    "\n",
    "sum(10, 20);\n",
    "print(\"outside the function global total : \", total)"
   ]
  },
  {
   "cell_type": "code",
   "execution_count": 116,
   "id": "d0bf19f3",
   "metadata": {},
   "outputs": [
    {
     "name": "stdout",
     "output_type": "stream",
     "text": [
      "50\n",
      "40\n"
     ]
    }
   ],
   "source": [
    "# contoh 2\n",
    "\n",
    "jumlah_kucing = 20\n",
    "\n",
    "def jumlah_hewan():\n",
    "    jumlah_anjing = 30\n",
    "    return jumlah_kucing + jumlah_anjing\n",
    "\n",
    "def jumlah_kelinci():\n",
    "    return jumlah_kucing + jumlah_kucing\n",
    "\n",
    "print(jumlah_hewan())\n",
    "print(jumlah_kelinci())"
   ]
  },
  {
   "cell_type": "code",
   "execution_count": 117,
   "id": "9606063f",
   "metadata": {},
   "outputs": [
    {
     "name": "stdout",
     "output_type": "stream",
     "text": [
      "90\n",
      "80\n"
     ]
    }
   ],
   "source": [
    "# contoh 3\n",
    "\n",
    "jumlah_hp_didi = 40\n",
    "\n",
    "def hp_didi():\n",
    "    jumlah_hp_didi_baru = 50\n",
    "    return jumlah_hp_didi + jumlah_hp_didi_baru\n",
    "\n",
    "def hp_afgim():\n",
    "    return jumlah_hp_didi + jumlah_hp_didi\n",
    "\n",
    "print(hp_didi())\n",
    "print(hp_afgim())"
   ]
  },
  {
   "cell_type": "code",
   "execution_count": 155,
   "id": "3c84d9b2",
   "metadata": {},
   "outputs": [
    {
     "name": "stdout",
     "output_type": "stream",
     "text": [
      "80\n"
     ]
    }
   ],
   "source": [
    "def calculate_area(p, l):\n",
    "\t'''Function untuk menghitung luas'''\n",
    "# \tprint(p * l)\n",
    "\n",
    "# \treturn p * l\n",
    "\n",
    "\tresult = p *l\n",
    "\treturn result\n",
    "# \treturn result, \"AAAA\"\n",
    "\n",
    "area = calculate_area(10, 8)\n",
    "# area = 80\n",
    "print(area)\n",
    "\n"
   ]
  },
  {
   "cell_type": "markdown",
   "id": "76f666c8",
   "metadata": {},
   "source": [
    "# 2. module"
   ]
  },
  {
   "cell_type": "code",
   "execution_count": 118,
   "id": "98de743c",
   "metadata": {},
   "outputs": [],
   "source": [
    "import mod"
   ]
  },
  {
   "cell_type": "code",
   "execution_count": 120,
   "id": "714e9052",
   "metadata": {},
   "outputs": [
    {
     "name": "stdout",
     "output_type": "stream",
     "text": [
      "[100, 200, 300]\n"
     ]
    }
   ],
   "source": [
    "print(mod.a)"
   ]
  },
  {
   "cell_type": "code",
   "execution_count": 121,
   "id": "cbdde754",
   "metadata": {},
   "outputs": [
    {
     "name": "stdout",
     "output_type": "stream",
     "text": [
      "<class 'mod.foo'>\n"
     ]
    }
   ],
   "source": [
    "print(mod.foo)"
   ]
  },
  {
   "cell_type": "code",
   "execution_count": 122,
   "id": "8c1fabc4",
   "metadata": {},
   "outputs": [
    {
     "name": "stdout",
     "output_type": "stream",
     "text": [
      "hacktiv8 - ptp python for data science\n"
     ]
    }
   ],
   "source": [
    "print(mod.s)"
   ]
  },
  {
   "cell_type": "code",
   "execution_count": 125,
   "id": "9d4fa484",
   "metadata": {},
   "outputs": [],
   "source": [
    "from mod import s"
   ]
  },
  {
   "cell_type": "code",
   "execution_count": 126,
   "id": "d8019beb",
   "metadata": {},
   "outputs": [
    {
     "name": "stdout",
     "output_type": "stream",
     "text": [
      "hacktiv8 - ptp python for data science\n"
     ]
    }
   ],
   "source": [
    "print(s)"
   ]
  },
  {
   "cell_type": "code",
   "execution_count": 127,
   "id": "637cb613",
   "metadata": {},
   "outputs": [
    {
     "name": "stdout",
     "output_type": "stream",
     "text": [
      "<class 'mod.foo'>\n"
     ]
    }
   ],
   "source": [
    "print(foo)"
   ]
  },
  {
   "cell_type": "code",
   "execution_count": 149,
   "id": "b0a9e532",
   "metadata": {},
   "outputs": [],
   "source": [
    "import merek_mobil"
   ]
  },
  {
   "cell_type": "code",
   "execution_count": 150,
   "id": "f46b41bd",
   "metadata": {},
   "outputs": [
    {
     "name": "stdout",
     "output_type": "stream",
     "text": [
      "yaris\n"
     ]
    }
   ],
   "source": [
    "print(merek_mobil.mobil_didi)"
   ]
  },
  {
   "cell_type": "code",
   "execution_count": 151,
   "id": "96ab4703",
   "metadata": {},
   "outputs": [],
   "source": [
    "from merek_mobil import mobil_didi"
   ]
  },
  {
   "cell_type": "code",
   "execution_count": 152,
   "id": "f2941d82",
   "metadata": {},
   "outputs": [
    {
     "name": "stdout",
     "output_type": "stream",
     "text": [
      "yaris\n"
     ]
    }
   ],
   "source": [
    "print(mobil_didi)"
   ]
  },
  {
   "cell_type": "markdown",
   "id": "b076245e",
   "metadata": {},
   "source": [
    "# 3. PACKAGE"
   ]
  },
  {
   "cell_type": "code",
   "execution_count": 162,
   "id": "e78f1f93",
   "metadata": {},
   "outputs": [],
   "source": [
    "import pkg.mod1, pkg.mod2"
   ]
  },
  {
   "cell_type": "code",
   "execution_count": 164,
   "id": "c8602b7d",
   "metadata": {},
   "outputs": [
    {
     "name": "stdout",
     "output_type": "stream",
     "text": [
      "[mod1] foo()\n"
     ]
    }
   ],
   "source": [
    "pkg.mod1.foo()"
   ]
  },
  {
   "cell_type": "code",
   "execution_count": 165,
   "id": "92183a22",
   "metadata": {},
   "outputs": [],
   "source": [
    "x = pkg.mod2.Bar()"
   ]
  },
  {
   "cell_type": "code",
   "execution_count": 167,
   "id": "5380b450",
   "metadata": {},
   "outputs": [
    {
     "name": "stdout",
     "output_type": "stream",
     "text": [
      "<pkg.mod2.Bar object at 0x000001431E0BF340>\n"
     ]
    }
   ],
   "source": [
    "print(x)"
   ]
  },
  {
   "cell_type": "code",
   "execution_count": null,
   "id": "bb851a0f",
   "metadata": {},
   "outputs": [],
   "source": []
  }
 ],
 "metadata": {
  "kernelspec": {
   "display_name": "Python 3 (ipykernel)",
   "language": "python",
   "name": "python3"
  },
  "language_info": {
   "codemirror_mode": {
    "name": "ipython",
    "version": 3
   },
   "file_extension": ".py",
   "mimetype": "text/x-python",
   "name": "python",
   "nbconvert_exporter": "python",
   "pygments_lexer": "ipython3",
   "version": "3.9.12"
  }
 },
 "nbformat": 4,
 "nbformat_minor": 5
}
