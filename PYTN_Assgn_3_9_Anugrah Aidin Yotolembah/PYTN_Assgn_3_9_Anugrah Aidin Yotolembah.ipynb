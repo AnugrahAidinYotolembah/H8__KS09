{
 "cells": [
  {
   "attachments": {
    "download.png": {
     "image/png": "[encoded data removed]"
    }
   },
   "cell_type": "markdown",
   "id": "69ad865b",
   "metadata": {},
   "source": [
    "![download.png](attachment:download.png)"
   ]
  },
  {
   "cell_type": "markdown",
   "id": "8275995f",
   "metadata": {},
   "source": [
    "# Assgiment 3\n",
    "Anugrah Aidin Yotolembah\n",
    "\n",
    "PYTN -KS09-023\n",
    "\n",
    "Python for Data Science - Studi Independen - kampus Merdeka"
   ]
  },
  {
   "cell_type": "markdown",
   "id": "1211d013",
   "metadata": {},
   "source": [
    "## Import Library\n",
    "\n",
    "Langkah pertama untuk memulai membuat kode program pada kali ini, kita harus melakukan import library yang akan kita pakai"
   ]
  },
  {
   "cell_type": "code",
   "execution_count": 145,
   "id": "f13a33a6",
   "metadata": {},
   "outputs": [],
   "source": [
    "import numpy as np\n",
    "import pandas as pd\n",
    "import matplotlib.pyplot as plt\n",
    "import seaborn as sns \n",
    "from sklearn.linear_model import LogisticRegression\n",
    "from sklearn.neighbors import KNeighborsClassifier\n",
    "from sklearn import svm\n",
    "from sklearn.tree import DecisionTreeClassifier\n",
    "from sklearn.ensemble import RandomForestClassifier\n",
    "from sklearn.ensemble import ExtraTreesClassifier\n",
    "from sklearn.naive_bayes import GaussianNB\n",
    "from sklearn.metrics import confusion_matrix, classification_report, accuracy_score\n",
    "from sklearn.model_selection import train_test_split\n",
    "from sklearn import preprocessing"
   ]
  },
  {
   "cell_type": "markdown",
   "id": "d3e9495a",
   "metadata": {},
   "source": [
    "di atas merupakan library yang kita pakai berdasarkan arahan yang di minta"
   ]
  },
  {
   "cell_type": "markdown",
   "id": "58956cb3",
   "metadata": {},
   "source": [
    "selanjutnya, kita akan import dataset yang akan kita pakai dalam program ini"
   ]
  },
  {
   "cell_type": "markdown",
   "id": "ec056053",
   "metadata": {},
   "source": [
    "# Import Dataset\n",
    "\n",
    "Selanjutnya, kita akan memasukkan dataset kedalam program ini agar kita bisa membaca dan mengolah data yang berada di dalam dataset ini"
   ]
  },
  {
   "cell_type": "code",
   "execution_count": 146,
   "id": "c9d4608b",
   "metadata": {},
   "outputs": [
    {
     "name": "stdout",
     "output_type": "stream",
     "text": [
      "dataset is ready now !!!\n"
     ]
    }
   ],
   "source": [
    "bank_data = pd.read_csv('dataset/bank-full.csv', delimiter=';')\n",
    "bank_data\n",
    "\n",
    "print('dataset is ready now !!!')"
   ]
  },
  {
   "cell_type": "markdown",
   "id": "dfc02cb6",
   "metadata": {},
   "source": [
    "jika dataset berhasil di masukkan ke dalam program, selanjutnya kita akan mengexplore data yang berada di dalam dataset"
   ]
  },
  {
   "cell_type": "markdown",
   "id": "7d916860",
   "metadata": {},
   "source": [
    "## Exploratory Data "
   ]
  },
  {
   "cell_type": "markdown",
   "id": "a9c2df47",
   "metadata": {},
   "source": [
    "langkah pertama menampilkan dan membacakan informasi 5 baris teratas di dalam dataset"
   ]
  },
  {
   "cell_type": "code",
   "execution_count": 147,
   "id": "038ac751",
   "metadata": {},
   "outputs": [
    {
     "data": {
      "text/html": [
       "<div>\n",
       "<style scoped>\n",
       "    .dataframe tbody tr th:only-of-type {\n",
       "        vertical-align: middle;\n",
       "    }\n",
       "\n",
       "    .dataframe tbody tr th {\n",
       "        vertical-align: top;\n",
       "    }\n",
       "\n",
       "    .dataframe thead th {\n",
       "        text-align: right;\n",
       "    }\n",
       "</style>\n",
       "<table border=\"1\" class=\"dataframe\">\n",
       "  <thead>\n",
       "    <tr style=\"text-align: right;\">\n",
       "      <th></th>\n",
       "      <th>age</th>\n",
       "      <th>job</th>\n",
       "      <th>marital</th>\n",
       "      <th>education</th>\n",
       "      <th>default</th>\n",
       "      <th>balance</th>\n",
       "      <th>housing</th>\n",
       "      <th>loan</th>\n",
       "      <th>contact</th>\n",
       "      <th>day</th>\n",
       "      <th>month</th>\n",
       "      <th>duration</th>\n",
       "      <th>campaign</th>\n",
       "      <th>pdays</th>\n",
       "      <th>previous</th>\n",
       "      <th>poutcome</th>\n",
       "      <th>y</th>\n",
       "    </tr>\n",
       "  </thead>\n",
       "  <tbody>\n",
       "    <tr>\n",
       "      <th>0</th>\n",
       "      <td>58</td>\n",
       "      <td>management</td>\n",
       "      <td>married</td>\n",
       "      <td>tertiary</td>\n",
       "      <td>no</td>\n",
       "      <td>2143</td>\n",
       "      <td>yes</td>\n",
       "      <td>no</td>\n",
       "      <td>unknown</td>\n",
       "      <td>5</td>\n",
       "      <td>may</td>\n",
       "      <td>261</td>\n",
       "      <td>1</td>\n",
       "      <td>-1</td>\n",
       "      <td>0</td>\n",
       "      <td>unknown</td>\n",
       "      <td>no</td>\n",
       "    </tr>\n",
       "    <tr>\n",
       "      <th>1</th>\n",
       "      <td>44</td>\n",
       "      <td>technician</td>\n",
       "      <td>single</td>\n",
       "      <td>secondary</td>\n",
       "      <td>no</td>\n",
       "      <td>29</td>\n",
       "      <td>yes</td>\n",
       "      <td>no</td>\n",
       "      <td>unknown</td>\n",
       "      <td>5</td>\n",
       "      <td>may</td>\n",
       "      <td>151</td>\n",
       "      <td>1</td>\n",
       "      <td>-1</td>\n",
       "      <td>0</td>\n",
       "      <td>unknown</td>\n",
       "      <td>no</td>\n",
       "    </tr>\n",
       "    <tr>\n",
       "      <th>2</th>\n",
       "      <td>33</td>\n",
       "      <td>entrepreneur</td>\n",
       "      <td>married</td>\n",
       "      <td>secondary</td>\n",
       "      <td>no</td>\n",
       "      <td>2</td>\n",
       "      <td>yes</td>\n",
       "      <td>yes</td>\n",
       "      <td>unknown</td>\n",
       "      <td>5</td>\n",
       "      <td>may</td>\n",
       "      <td>76</td>\n",
       "      <td>1</td>\n",
       "      <td>-1</td>\n",
       "      <td>0</td>\n",
       "      <td>unknown</td>\n",
       "      <td>no</td>\n",
       "    </tr>\n",
       "    <tr>\n",
       "      <th>3</th>\n",
       "      <td>47</td>\n",
       "      <td>blue-collar</td>\n",
       "      <td>married</td>\n",
       "      <td>unknown</td>\n",
       "      <td>no</td>\n",
       "      <td>1506</td>\n",
       "      <td>yes</td>\n",
       "      <td>no</td>\n",
       "      <td>unknown</td>\n",
       "      <td>5</td>\n",
       "      <td>may</td>\n",
       "      <td>92</td>\n",
       "      <td>1</td>\n",
       "      <td>-1</td>\n",
       "      <td>0</td>\n",
       "      <td>unknown</td>\n",
       "      <td>no</td>\n",
       "    </tr>\n",
       "    <tr>\n",
       "      <th>4</th>\n",
       "      <td>33</td>\n",
       "      <td>unknown</td>\n",
       "      <td>single</td>\n",
       "      <td>unknown</td>\n",
       "      <td>no</td>\n",
       "      <td>1</td>\n",
       "      <td>no</td>\n",
       "      <td>no</td>\n",
       "      <td>unknown</td>\n",
       "      <td>5</td>\n",
       "      <td>may</td>\n",
       "      <td>198</td>\n",
       "      <td>1</td>\n",
       "      <td>-1</td>\n",
       "      <td>0</td>\n",
       "      <td>unknown</td>\n",
       "      <td>no</td>\n",
       "    </tr>\n",
       "  </tbody>\n",
       "</table>\n",
       "</div>"
      ],
      "text/plain": [
       "   age           job  marital  education default  balance housing loan  \\\n",
       "0   58    management  married   tertiary      no     2143     yes   no   \n",
       "1   44    technician   single  secondary      no       29     yes   no   \n",
       "2   33  entrepreneur  married  secondary      no        2     yes  yes   \n",
       "3   47   blue-collar  married    unknown      no     1506     yes   no   \n",
       "4   33       unknown   single    unknown      no        1      no   no   \n",
       "\n",
       "   contact  day month  duration  campaign  pdays  previous poutcome   y  \n",
       "0  unknown    5   may       261         1     -1         0  unknown  no  \n",
       "1  unknown    5   may       151         1     -1         0  unknown  no  \n",
       "2  unknown    5   may        76         1     -1         0  unknown  no  \n",
       "3  unknown    5   may        92         1     -1         0  unknown  no  \n",
       "4  unknown    5   may       198         1     -1         0  unknown  no  "
      ]
     },
     "execution_count": 147,
     "metadata": {},
     "output_type": "execute_result"
    }
   ],
   "source": [
    "bank_data.head()"
   ]
  },
  {
   "cell_type": "markdown",
   "id": "fbaee6fd",
   "metadata": {},
   "source": [
    "bisa di lihat, setelah kita menampilkan informasi 5 baris teratas di dalam dataset, terdapat 5 besar informasi penting di dalamnya seperti data di atas"
   ]
  },
  {
   "cell_type": "markdown",
   "id": "786c8eab",
   "metadata": {},
   "source": [
    "selanjutnya, menampilkan dan membacakan informasi dan 5 baris terbawah di dalam dataset"
   ]
  },
  {
   "cell_type": "code",
   "execution_count": 148,
   "id": "a6d3b89c",
   "metadata": {},
   "outputs": [
    {
     "data": {
      "text/html": [
       "<div>\n",
       "<style scoped>\n",
       "    .dataframe tbody tr th:only-of-type {\n",
       "        vertical-align: middle;\n",
       "    }\n",
       "\n",
       "    .dataframe tbody tr th {\n",
       "        vertical-align: top;\n",
       "    }\n",
       "\n",
       "    .dataframe thead th {\n",
       "        text-align: right;\n",
       "    }\n",
       "</style>\n",
       "<table border=\"1\" class=\"dataframe\">\n",
       "  <thead>\n",
       "    <tr style=\"text-align: right;\">\n",
       "      <th></th>\n",
       "      <th>age</th>\n",
       "      <th>job</th>\n",
       "      <th>marital</th>\n",
       "      <th>education</th>\n",
       "      <th>default</th>\n",
       "      <th>balance</th>\n",
       "      <th>housing</th>\n",
       "      <th>loan</th>\n",
       "      <th>contact</th>\n",
       "      <th>day</th>\n",
       "      <th>month</th>\n",
       "      <th>duration</th>\n",
       "      <th>campaign</th>\n",
       "      <th>pdays</th>\n",
       "      <th>previous</th>\n",
       "      <th>poutcome</th>\n",
       "      <th>y</th>\n",
       "    </tr>\n",
       "  </thead>\n",
       "  <tbody>\n",
       "    <tr>\n",
       "      <th>45206</th>\n",
       "      <td>51</td>\n",
       "      <td>technician</td>\n",
       "      <td>married</td>\n",
       "      <td>tertiary</td>\n",
       "      <td>no</td>\n",
       "      <td>825</td>\n",
       "      <td>no</td>\n",
       "      <td>no</td>\n",
       "      <td>cellular</td>\n",
       "      <td>17</td>\n",
       "      <td>nov</td>\n",
       "      <td>977</td>\n",
       "      <td>3</td>\n",
       "      <td>-1</td>\n",
       "      <td>0</td>\n",
       "      <td>unknown</td>\n",
       "      <td>yes</td>\n",
       "    </tr>\n",
       "    <tr>\n",
       "      <th>45207</th>\n",
       "      <td>71</td>\n",
       "      <td>retired</td>\n",
       "      <td>divorced</td>\n",
       "      <td>primary</td>\n",
       "      <td>no</td>\n",
       "      <td>1729</td>\n",
       "      <td>no</td>\n",
       "      <td>no</td>\n",
       "      <td>cellular</td>\n",
       "      <td>17</td>\n",
       "      <td>nov</td>\n",
       "      <td>456</td>\n",
       "      <td>2</td>\n",
       "      <td>-1</td>\n",
       "      <td>0</td>\n",
       "      <td>unknown</td>\n",
       "      <td>yes</td>\n",
       "    </tr>\n",
       "    <tr>\n",
       "      <th>45208</th>\n",
       "      <td>72</td>\n",
       "      <td>retired</td>\n",
       "      <td>married</td>\n",
       "      <td>secondary</td>\n",
       "      <td>no</td>\n",
       "      <td>5715</td>\n",
       "      <td>no</td>\n",
       "      <td>no</td>\n",
       "      <td>cellular</td>\n",
       "      <td>17</td>\n",
       "      <td>nov</td>\n",
       "      <td>1127</td>\n",
       "      <td>5</td>\n",
       "      <td>184</td>\n",
       "      <td>3</td>\n",
       "      <td>success</td>\n",
       "      <td>yes</td>\n",
       "    </tr>\n",
       "    <tr>\n",
       "      <th>45209</th>\n",
       "      <td>57</td>\n",
       "      <td>blue-collar</td>\n",
       "      <td>married</td>\n",
       "      <td>secondary</td>\n",
       "      <td>no</td>\n",
       "      <td>668</td>\n",
       "      <td>no</td>\n",
       "      <td>no</td>\n",
       "      <td>telephone</td>\n",
       "      <td>17</td>\n",
       "      <td>nov</td>\n",
       "      <td>508</td>\n",
       "      <td>4</td>\n",
       "      <td>-1</td>\n",
       "      <td>0</td>\n",
       "      <td>unknown</td>\n",
       "      <td>no</td>\n",
       "    </tr>\n",
       "    <tr>\n",
       "      <th>45210</th>\n",
       "      <td>37</td>\n",
       "      <td>entrepreneur</td>\n",
       "      <td>married</td>\n",
       "      <td>secondary</td>\n",
       "      <td>no</td>\n",
       "      <td>2971</td>\n",
       "      <td>no</td>\n",
       "      <td>no</td>\n",
       "      <td>cellular</td>\n",
       "      <td>17</td>\n",
       "      <td>nov</td>\n",
       "      <td>361</td>\n",
       "      <td>2</td>\n",
       "      <td>188</td>\n",
       "      <td>11</td>\n",
       "      <td>other</td>\n",
       "      <td>no</td>\n",
       "    </tr>\n",
       "  </tbody>\n",
       "</table>\n",
       "</div>"
      ],
      "text/plain": [
       "       age           job   marital  education default  balance housing loan  \\\n",
       "45206   51    technician   married   tertiary      no      825      no   no   \n",
       "45207   71       retired  divorced    primary      no     1729      no   no   \n",
       "45208   72       retired   married  secondary      no     5715      no   no   \n",
       "45209   57   blue-collar   married  secondary      no      668      no   no   \n",
       "45210   37  entrepreneur   married  secondary      no     2971      no   no   \n",
       "\n",
       "         contact  day month  duration  campaign  pdays  previous poutcome    y  \n",
       "45206   cellular   17   nov       977         3     -1         0  unknown  yes  \n",
       "45207   cellular   17   nov       456         2     -1         0  unknown  yes  \n",
       "45208   cellular   17   nov      1127         5    184         3  success  yes  \n",
       "45209  telephone   17   nov       508         4     -1         0  unknown   no  \n",
       "45210   cellular   17   nov       361         2    188        11    other   no  "
      ]
     },
     "execution_count": 148,
     "metadata": {},
     "output_type": "execute_result"
    }
   ],
   "source": [
    "bank_data.tail()"
   ]
  },
  {
   "cell_type": "markdown",
   "id": "075dce76",
   "metadata": {},
   "source": [
    "bisa di lihat, setelah kita menampilkan informasi 5 baris terbawah di dalam dataset, terdapat 5 besar informasi penting di dalamnya seperti data di atas"
   ]
  },
  {
   "cell_type": "markdown",
   "id": "30f73396",
   "metadata": {},
   "source": [
    "selanjutnya, mencari tau informasi tentang data type yang berada di dalam dataset yang kita gunakan"
   ]
  },
  {
   "cell_type": "code",
   "execution_count": 149,
   "id": "c736c2a6",
   "metadata": {},
   "outputs": [
    {
     "name": "stdout",
     "output_type": "stream",
     "text": [
      "<class 'pandas.core.frame.DataFrame'>\n",
      "RangeIndex: 45211 entries, 0 to 45210\n",
      "Data columns (total 17 columns):\n",
      " #   Column     Non-Null Count  Dtype \n",
      "---  ------     --------------  ----- \n",
      " 0   age        45211 non-null  int64 \n",
      " 1   job        45211 non-null  object\n",
      " 2   marital    45211 non-null  object\n",
      " 3   education  45211 non-null  object\n",
      " 4   default    45211 non-null  object\n",
      " 5   balance    45211 non-null  int64 \n",
      " 6   housing    45211 non-null  object\n",
      " 7   loan       45211 non-null  object\n",
      " 8   contact    45211 non-null  object\n",
      " 9   day        45211 non-null  int64 \n",
      " 10  month      45211 non-null  object\n",
      " 11  duration   45211 non-null  int64 \n",
      " 12  campaign   45211 non-null  int64 \n",
      " 13  pdays      45211 non-null  int64 \n",
      " 14  previous   45211 non-null  int64 \n",
      " 15  poutcome   45211 non-null  object\n",
      " 16  y          45211 non-null  object\n",
      "dtypes: int64(7), object(10)\n",
      "memory usage: 5.9+ MB\n"
     ]
    }
   ],
   "source": [
    "bank_data.info()"
   ]
  },
  {
   "cell_type": "markdown",
   "id": "601b2072",
   "metadata": {},
   "source": [
    "bisa di lihat data di atas, bahwa menurut informasi yang telah kita tampilkan terdapat 2 Dtype yang penting ialah Dtype int64 dan object, tetapi Dtype yang sering di pakai ialah tipe data object"
   ]
  },
  {
   "cell_type": "markdown",
   "id": "9a99a4ea",
   "metadata": {},
   "source": [
    "selanjutnya, mencari tahu dan menampilkan informasi statistik dari data yang kita peroleh"
   ]
  },
  {
   "cell_type": "code",
   "execution_count": 150,
   "id": "ab7d3066",
   "metadata": {},
   "outputs": [
    {
     "data": {
      "text/html": [
       "<div>\n",
       "<style scoped>\n",
       "    .dataframe tbody tr th:only-of-type {\n",
       "        vertical-align: middle;\n",
       "    }\n",
       "\n",
       "    .dataframe tbody tr th {\n",
       "        vertical-align: top;\n",
       "    }\n",
       "\n",
       "    .dataframe thead th {\n",
       "        text-align: right;\n",
       "    }\n",
       "</style>\n",
       "<table border=\"1\" class=\"dataframe\">\n",
       "  <thead>\n",
       "    <tr style=\"text-align: right;\">\n",
       "      <th></th>\n",
       "      <th>age</th>\n",
       "      <th>balance</th>\n",
       "      <th>day</th>\n",
       "      <th>duration</th>\n",
       "      <th>campaign</th>\n",
       "      <th>pdays</th>\n",
       "      <th>previous</th>\n",
       "    </tr>\n",
       "  </thead>\n",
       "  <tbody>\n",
       "    <tr>\n",
       "      <th>count</th>\n",
       "      <td>45211.000000</td>\n",
       "      <td>45211.000000</td>\n",
       "      <td>45211.000000</td>\n",
       "      <td>45211.000000</td>\n",
       "      <td>45211.000000</td>\n",
       "      <td>45211.000000</td>\n",
       "      <td>45211.000000</td>\n",
       "    </tr>\n",
       "    <tr>\n",
       "      <th>mean</th>\n",
       "      <td>40.936210</td>\n",
       "      <td>1362.272058</td>\n",
       "      <td>15.806419</td>\n",
       "      <td>258.163080</td>\n",
       "      <td>2.763841</td>\n",
       "      <td>40.197828</td>\n",
       "      <td>0.580323</td>\n",
       "    </tr>\n",
       "    <tr>\n",
       "      <th>std</th>\n",
       "      <td>10.618762</td>\n",
       "      <td>3044.765829</td>\n",
       "      <td>8.322476</td>\n",
       "      <td>257.527812</td>\n",
       "      <td>3.098021</td>\n",
       "      <td>100.128746</td>\n",
       "      <td>2.303441</td>\n",
       "    </tr>\n",
       "    <tr>\n",
       "      <th>min</th>\n",
       "      <td>18.000000</td>\n",
       "      <td>-8019.000000</td>\n",
       "      <td>1.000000</td>\n",
       "      <td>0.000000</td>\n",
       "      <td>1.000000</td>\n",
       "      <td>-1.000000</td>\n",
       "      <td>0.000000</td>\n",
       "    </tr>\n",
       "    <tr>\n",
       "      <th>25%</th>\n",
       "      <td>33.000000</td>\n",
       "      <td>72.000000</td>\n",
       "      <td>8.000000</td>\n",
       "      <td>103.000000</td>\n",
       "      <td>1.000000</td>\n",
       "      <td>-1.000000</td>\n",
       "      <td>0.000000</td>\n",
       "    </tr>\n",
       "    <tr>\n",
       "      <th>50%</th>\n",
       "      <td>39.000000</td>\n",
       "      <td>448.000000</td>\n",
       "      <td>16.000000</td>\n",
       "      <td>180.000000</td>\n",
       "      <td>2.000000</td>\n",
       "      <td>-1.000000</td>\n",
       "      <td>0.000000</td>\n",
       "    </tr>\n",
       "    <tr>\n",
       "      <th>75%</th>\n",
       "      <td>48.000000</td>\n",
       "      <td>1428.000000</td>\n",
       "      <td>21.000000</td>\n",
       "      <td>319.000000</td>\n",
       "      <td>3.000000</td>\n",
       "      <td>-1.000000</td>\n",
       "      <td>0.000000</td>\n",
       "    </tr>\n",
       "    <tr>\n",
       "      <th>max</th>\n",
       "      <td>95.000000</td>\n",
       "      <td>102127.000000</td>\n",
       "      <td>31.000000</td>\n",
       "      <td>4918.000000</td>\n",
       "      <td>63.000000</td>\n",
       "      <td>871.000000</td>\n",
       "      <td>275.000000</td>\n",
       "    </tr>\n",
       "  </tbody>\n",
       "</table>\n",
       "</div>"
      ],
      "text/plain": [
       "                age        balance           day      duration      campaign  \\\n",
       "count  45211.000000   45211.000000  45211.000000  45211.000000  45211.000000   \n",
       "mean      40.936210    1362.272058     15.806419    258.163080      2.763841   \n",
       "std       10.618762    3044.765829      8.322476    257.527812      3.098021   \n",
       "min       18.000000   -8019.000000      1.000000      0.000000      1.000000   \n",
       "25%       33.000000      72.000000      8.000000    103.000000      1.000000   \n",
       "50%       39.000000     448.000000     16.000000    180.000000      2.000000   \n",
       "75%       48.000000    1428.000000     21.000000    319.000000      3.000000   \n",
       "max       95.000000  102127.000000     31.000000   4918.000000     63.000000   \n",
       "\n",
       "              pdays      previous  \n",
       "count  45211.000000  45211.000000  \n",
       "mean      40.197828      0.580323  \n",
       "std      100.128746      2.303441  \n",
       "min       -1.000000      0.000000  \n",
       "25%       -1.000000      0.000000  \n",
       "50%       -1.000000      0.000000  \n",
       "75%       -1.000000      0.000000  \n",
       "max      871.000000    275.000000  "
      ]
     },
     "execution_count": 150,
     "metadata": {},
     "output_type": "execute_result"
    }
   ],
   "source": [
    "bank_data.describe()"
   ]
  },
  {
   "cell_type": "markdown",
   "id": "94f59baf",
   "metadata": {},
   "source": [
    "bisa di lihat seperti data di atas yang telah kita peroleh informasinya, terdapat informasi mengenai count, mean, min, max dan lain sebagai yang sangat berguna "
   ]
  },
  {
   "cell_type": "markdown",
   "id": "365d4edd",
   "metadata": {},
   "source": [
    "selanjutnya, menampilkan dan mencari tau kolom apa saja yang terdapat di dalam dataset tersebut"
   ]
  },
  {
   "cell_type": "code",
   "execution_count": 151,
   "id": "803394de",
   "metadata": {},
   "outputs": [
    {
     "data": {
      "text/plain": [
       "Index(['age', 'job', 'marital', 'education', 'default', 'balance', 'housing',\n",
       "       'loan', 'contact', 'day', 'month', 'duration', 'campaign', 'pdays',\n",
       "       'previous', 'poutcome', 'y'],\n",
       "      dtype='object')"
      ]
     },
     "execution_count": 151,
     "metadata": {},
     "output_type": "execute_result"
    }
   ],
   "source": [
    "bank_data.columns"
   ]
  },
  {
   "cell_type": "markdown",
   "id": "a4b8b6ea",
   "metadata": {},
   "source": [
    "bisa di lihat seperti data di atas, terdapat 17 kolom yang berada di dalam dataset ini"
   ]
  },
  {
   "cell_type": "markdown",
   "id": "b46aafd1",
   "metadata": {},
   "source": [
    "selanjutnya, mencari tahu jumlah baris dan kolom dari data"
   ]
  },
  {
   "cell_type": "code",
   "execution_count": 152,
   "id": "23597ba1",
   "metadata": {},
   "outputs": [
    {
     "data": {
      "text/plain": [
       "(45211, 17)"
      ]
     },
     "execution_count": 152,
     "metadata": {},
     "output_type": "execute_result"
    }
   ],
   "source": [
    "bank_data.shape"
   ]
  },
  {
   "cell_type": "markdown",
   "id": "9f31a390",
   "metadata": {},
   "source": [
    "setelah kita mencari tahu jumlah baris dan kolom terhadap dataset ini, dapat di peroleh dalam dataset ini memiliki 45211 baris dan 17 kolom "
   ]
  },
  {
   "cell_type": "markdown",
   "id": "5aadd9a0",
   "metadata": {},
   "source": [
    "selanjutnya kita mencari tahu jumlah size yang terdapat dan terpakai pada dataset ini"
   ]
  },
  {
   "cell_type": "code",
   "execution_count": 153,
   "id": "d9553468",
   "metadata": {},
   "outputs": [
    {
     "data": {
      "text/plain": [
       "768587"
      ]
     },
     "execution_count": 153,
     "metadata": {},
     "output_type": "execute_result"
    }
   ],
   "source": [
    "bank_data.size"
   ]
  },
  {
   "cell_type": "markdown",
   "id": "26e38262",
   "metadata": {},
   "source": [
    "setelah kita mencari tahu, terdapat 768587 size pada dataset ini  "
   ]
  },
  {
   "cell_type": "markdown",
   "id": "b15fb773",
   "metadata": {},
   "source": [
    "# Cleaning Data "
   ]
  },
  {
   "cell_type": "markdown",
   "id": "232dd901",
   "metadata": {},
   "source": [
    "langkah pertama, melihat kembali informasi 5 data teratas berdasarkan dataset   "
   ]
  },
  {
   "cell_type": "code",
   "execution_count": 154,
   "id": "0c537ed8",
   "metadata": {},
   "outputs": [
    {
     "data": {
      "text/html": [
       "<div>\n",
       "<style scoped>\n",
       "    .dataframe tbody tr th:only-of-type {\n",
       "        vertical-align: middle;\n",
       "    }\n",
       "\n",
       "    .dataframe tbody tr th {\n",
       "        vertical-align: top;\n",
       "    }\n",
       "\n",
       "    .dataframe thead th {\n",
       "        text-align: right;\n",
       "    }\n",
       "</style>\n",
       "<table border=\"1\" class=\"dataframe\">\n",
       "  <thead>\n",
       "    <tr style=\"text-align: right;\">\n",
       "      <th></th>\n",
       "      <th>age</th>\n",
       "      <th>job</th>\n",
       "      <th>marital</th>\n",
       "      <th>education</th>\n",
       "      <th>default</th>\n",
       "      <th>balance</th>\n",
       "      <th>housing</th>\n",
       "      <th>loan</th>\n",
       "      <th>contact</th>\n",
       "      <th>day</th>\n",
       "      <th>month</th>\n",
       "      <th>duration</th>\n",
       "      <th>campaign</th>\n",
       "      <th>pdays</th>\n",
       "      <th>previous</th>\n",
       "      <th>poutcome</th>\n",
       "      <th>y</th>\n",
       "    </tr>\n",
       "  </thead>\n",
       "  <tbody>\n",
       "    <tr>\n",
       "      <th>0</th>\n",
       "      <td>58</td>\n",
       "      <td>management</td>\n",
       "      <td>married</td>\n",
       "      <td>tertiary</td>\n",
       "      <td>no</td>\n",
       "      <td>2143</td>\n",
       "      <td>yes</td>\n",
       "      <td>no</td>\n",
       "      <td>unknown</td>\n",
       "      <td>5</td>\n",
       "      <td>may</td>\n",
       "      <td>261</td>\n",
       "      <td>1</td>\n",
       "      <td>-1</td>\n",
       "      <td>0</td>\n",
       "      <td>unknown</td>\n",
       "      <td>no</td>\n",
       "    </tr>\n",
       "    <tr>\n",
       "      <th>1</th>\n",
       "      <td>44</td>\n",
       "      <td>technician</td>\n",
       "      <td>single</td>\n",
       "      <td>secondary</td>\n",
       "      <td>no</td>\n",
       "      <td>29</td>\n",
       "      <td>yes</td>\n",
       "      <td>no</td>\n",
       "      <td>unknown</td>\n",
       "      <td>5</td>\n",
       "      <td>may</td>\n",
       "      <td>151</td>\n",
       "      <td>1</td>\n",
       "      <td>-1</td>\n",
       "      <td>0</td>\n",
       "      <td>unknown</td>\n",
       "      <td>no</td>\n",
       "    </tr>\n",
       "    <tr>\n",
       "      <th>2</th>\n",
       "      <td>33</td>\n",
       "      <td>entrepreneur</td>\n",
       "      <td>married</td>\n",
       "      <td>secondary</td>\n",
       "      <td>no</td>\n",
       "      <td>2</td>\n",
       "      <td>yes</td>\n",
       "      <td>yes</td>\n",
       "      <td>unknown</td>\n",
       "      <td>5</td>\n",
       "      <td>may</td>\n",
       "      <td>76</td>\n",
       "      <td>1</td>\n",
       "      <td>-1</td>\n",
       "      <td>0</td>\n",
       "      <td>unknown</td>\n",
       "      <td>no</td>\n",
       "    </tr>\n",
       "    <tr>\n",
       "      <th>3</th>\n",
       "      <td>47</td>\n",
       "      <td>blue-collar</td>\n",
       "      <td>married</td>\n",
       "      <td>unknown</td>\n",
       "      <td>no</td>\n",
       "      <td>1506</td>\n",
       "      <td>yes</td>\n",
       "      <td>no</td>\n",
       "      <td>unknown</td>\n",
       "      <td>5</td>\n",
       "      <td>may</td>\n",
       "      <td>92</td>\n",
       "      <td>1</td>\n",
       "      <td>-1</td>\n",
       "      <td>0</td>\n",
       "      <td>unknown</td>\n",
       "      <td>no</td>\n",
       "    </tr>\n",
       "    <tr>\n",
       "      <th>4</th>\n",
       "      <td>33</td>\n",
       "      <td>unknown</td>\n",
       "      <td>single</td>\n",
       "      <td>unknown</td>\n",
       "      <td>no</td>\n",
       "      <td>1</td>\n",
       "      <td>no</td>\n",
       "      <td>no</td>\n",
       "      <td>unknown</td>\n",
       "      <td>5</td>\n",
       "      <td>may</td>\n",
       "      <td>198</td>\n",
       "      <td>1</td>\n",
       "      <td>-1</td>\n",
       "      <td>0</td>\n",
       "      <td>unknown</td>\n",
       "      <td>no</td>\n",
       "    </tr>\n",
       "  </tbody>\n",
       "</table>\n",
       "</div>"
      ],
      "text/plain": [
       "   age           job  marital  education default  balance housing loan  \\\n",
       "0   58    management  married   tertiary      no     2143     yes   no   \n",
       "1   44    technician   single  secondary      no       29     yes   no   \n",
       "2   33  entrepreneur  married  secondary      no        2     yes  yes   \n",
       "3   47   blue-collar  married    unknown      no     1506     yes   no   \n",
       "4   33       unknown   single    unknown      no        1      no   no   \n",
       "\n",
       "   contact  day month  duration  campaign  pdays  previous poutcome   y  \n",
       "0  unknown    5   may       261         1     -1         0  unknown  no  \n",
       "1  unknown    5   may       151         1     -1         0  unknown  no  \n",
       "2  unknown    5   may        76         1     -1         0  unknown  no  \n",
       "3  unknown    5   may        92         1     -1         0  unknown  no  \n",
       "4  unknown    5   may       198         1     -1         0  unknown  no  "
      ]
     },
     "execution_count": 154,
     "metadata": {},
     "output_type": "execute_result"
    }
   ],
   "source": [
    "bank_data.head()"
   ]
  },
  {
   "cell_type": "markdown",
   "id": "092ce1da",
   "metadata": {},
   "source": [
    "bisa di lihat bahwa data berdasarkan dataset sudah tersedia"
   ]
  },
  {
   "cell_type": "markdown",
   "id": "a9c7275c",
   "metadata": {},
   "source": [
    "selanjutnya mengecek missing value  di dalam dataset ini yang bertujuan, jika terdapat missing value kita akan mencleaning data , dengan cara melihat kembali informasi dataset yang berada di dalam dataset ini"
   ]
  },
  {
   "cell_type": "code",
   "execution_count": 155,
   "id": "fe6a8501",
   "metadata": {},
   "outputs": [
    {
     "name": "stdout",
     "output_type": "stream",
     "text": [
      "<class 'pandas.core.frame.DataFrame'>\n",
      "RangeIndex: 45211 entries, 0 to 45210\n",
      "Data columns (total 17 columns):\n",
      " #   Column     Non-Null Count  Dtype \n",
      "---  ------     --------------  ----- \n",
      " 0   age        45211 non-null  int64 \n",
      " 1   job        45211 non-null  object\n",
      " 2   marital    45211 non-null  object\n",
      " 3   education  45211 non-null  object\n",
      " 4   default    45211 non-null  object\n",
      " 5   balance    45211 non-null  int64 \n",
      " 6   housing    45211 non-null  object\n",
      " 7   loan       45211 non-null  object\n",
      " 8   contact    45211 non-null  object\n",
      " 9   day        45211 non-null  int64 \n",
      " 10  month      45211 non-null  object\n",
      " 11  duration   45211 non-null  int64 \n",
      " 12  campaign   45211 non-null  int64 \n",
      " 13  pdays      45211 non-null  int64 \n",
      " 14  previous   45211 non-null  int64 \n",
      " 15  poutcome   45211 non-null  object\n",
      " 16  y          45211 non-null  object\n",
      "dtypes: int64(7), object(10)\n",
      "memory usage: 5.9+ MB\n"
     ]
    }
   ],
   "source": [
    "bank_data.info()"
   ]
  },
  {
   "cell_type": "markdown",
   "id": "25856c97",
   "metadata": {},
   "source": [
    "selanjutnya mengecek apakah dalam dataset ini terdapat missing value atau tidak terdapat missing value"
   ]
  },
  {
   "cell_type": "code",
   "execution_count": 156,
   "id": "5b560ef4",
   "metadata": {},
   "outputs": [
    {
     "data": {
      "text/plain": [
       "age          0\n",
       "job          0\n",
       "marital      0\n",
       "education    0\n",
       "default      0\n",
       "balance      0\n",
       "housing      0\n",
       "loan         0\n",
       "contact      0\n",
       "day          0\n",
       "month        0\n",
       "duration     0\n",
       "campaign     0\n",
       "pdays        0\n",
       "previous     0\n",
       "poutcome     0\n",
       "y            0\n",
       "dtype: int64"
      ]
     },
     "execution_count": 156,
     "metadata": {},
     "output_type": "execute_result"
    }
   ],
   "source": [
    "bank_data.isnull().sum()"
   ]
  },
  {
   "cell_type": "markdown",
   "id": "9d3344b1",
   "metadata": {},
   "source": [
    "setelah kita mengecek apakah terdapat missing value atau tidak di dalam dataset ini, ternyata di setiap kolom di dataset ini bernilai 0 yang berarti tidak terdapat missing value"
   ]
  },
  {
   "cell_type": "markdown",
   "id": "3762afce",
   "metadata": {},
   "source": [
    "## Pre-Processing Data"
   ]
  },
  {
   "cell_type": "markdown",
   "id": "94a59468",
   "metadata": {},
   "source": [
    "dalam melakukan Pre-Processing Data, pertama  menampilkan informasi data terlebih dahulu dan menvisualisasikan  kolom yang akan di visualisasikan"
   ]
  },
  {
   "cell_type": "markdown",
   "id": "35f113aa",
   "metadata": {},
   "source": [
    "menampilkan informasi data terlebih dahulu, seperti menampilkan 5 informasi data teratas dan 5 informasi data terbawah berdasarkan dataset yang kita masukan ke dalam kode program"
   ]
  },
  {
   "cell_type": "code",
   "execution_count": 157,
   "id": "681a4ce2",
   "metadata": {},
   "outputs": [
    {
     "data": {
      "text/html": [
       "<div>\n",
       "<style scoped>\n",
       "    .dataframe tbody tr th:only-of-type {\n",
       "        vertical-align: middle;\n",
       "    }\n",
       "\n",
       "    .dataframe tbody tr th {\n",
       "        vertical-align: top;\n",
       "    }\n",
       "\n",
       "    .dataframe thead th {\n",
       "        text-align: right;\n",
       "    }\n",
       "</style>\n",
       "<table border=\"1\" class=\"dataframe\">\n",
       "  <thead>\n",
       "    <tr style=\"text-align: right;\">\n",
       "      <th></th>\n",
       "      <th>age</th>\n",
       "      <th>job</th>\n",
       "      <th>marital</th>\n",
       "      <th>education</th>\n",
       "      <th>default</th>\n",
       "      <th>balance</th>\n",
       "      <th>housing</th>\n",
       "      <th>loan</th>\n",
       "      <th>contact</th>\n",
       "      <th>day</th>\n",
       "      <th>month</th>\n",
       "      <th>duration</th>\n",
       "      <th>campaign</th>\n",
       "      <th>pdays</th>\n",
       "      <th>previous</th>\n",
       "      <th>poutcome</th>\n",
       "      <th>y</th>\n",
       "    </tr>\n",
       "  </thead>\n",
       "  <tbody>\n",
       "    <tr>\n",
       "      <th>0</th>\n",
       "      <td>58</td>\n",
       "      <td>management</td>\n",
       "      <td>married</td>\n",
       "      <td>tertiary</td>\n",
       "      <td>no</td>\n",
       "      <td>2143</td>\n",
       "      <td>yes</td>\n",
       "      <td>no</td>\n",
       "      <td>unknown</td>\n",
       "      <td>5</td>\n",
       "      <td>may</td>\n",
       "      <td>261</td>\n",
       "      <td>1</td>\n",
       "      <td>-1</td>\n",
       "      <td>0</td>\n",
       "      <td>unknown</td>\n",
       "      <td>no</td>\n",
       "    </tr>\n",
       "    <tr>\n",
       "      <th>1</th>\n",
       "      <td>44</td>\n",
       "      <td>technician</td>\n",
       "      <td>single</td>\n",
       "      <td>secondary</td>\n",
       "      <td>no</td>\n",
       "      <td>29</td>\n",
       "      <td>yes</td>\n",
       "      <td>no</td>\n",
       "      <td>unknown</td>\n",
       "      <td>5</td>\n",
       "      <td>may</td>\n",
       "      <td>151</td>\n",
       "      <td>1</td>\n",
       "      <td>-1</td>\n",
       "      <td>0</td>\n",
       "      <td>unknown</td>\n",
       "      <td>no</td>\n",
       "    </tr>\n",
       "    <tr>\n",
       "      <th>2</th>\n",
       "      <td>33</td>\n",
       "      <td>entrepreneur</td>\n",
       "      <td>married</td>\n",
       "      <td>secondary</td>\n",
       "      <td>no</td>\n",
       "      <td>2</td>\n",
       "      <td>yes</td>\n",
       "      <td>yes</td>\n",
       "      <td>unknown</td>\n",
       "      <td>5</td>\n",
       "      <td>may</td>\n",
       "      <td>76</td>\n",
       "      <td>1</td>\n",
       "      <td>-1</td>\n",
       "      <td>0</td>\n",
       "      <td>unknown</td>\n",
       "      <td>no</td>\n",
       "    </tr>\n",
       "    <tr>\n",
       "      <th>3</th>\n",
       "      <td>47</td>\n",
       "      <td>blue-collar</td>\n",
       "      <td>married</td>\n",
       "      <td>unknown</td>\n",
       "      <td>no</td>\n",
       "      <td>1506</td>\n",
       "      <td>yes</td>\n",
       "      <td>no</td>\n",
       "      <td>unknown</td>\n",
       "      <td>5</td>\n",
       "      <td>may</td>\n",
       "      <td>92</td>\n",
       "      <td>1</td>\n",
       "      <td>-1</td>\n",
       "      <td>0</td>\n",
       "      <td>unknown</td>\n",
       "      <td>no</td>\n",
       "    </tr>\n",
       "    <tr>\n",
       "      <th>4</th>\n",
       "      <td>33</td>\n",
       "      <td>unknown</td>\n",
       "      <td>single</td>\n",
       "      <td>unknown</td>\n",
       "      <td>no</td>\n",
       "      <td>1</td>\n",
       "      <td>no</td>\n",
       "      <td>no</td>\n",
       "      <td>unknown</td>\n",
       "      <td>5</td>\n",
       "      <td>may</td>\n",
       "      <td>198</td>\n",
       "      <td>1</td>\n",
       "      <td>-1</td>\n",
       "      <td>0</td>\n",
       "      <td>unknown</td>\n",
       "      <td>no</td>\n",
       "    </tr>\n",
       "  </tbody>\n",
       "</table>\n",
       "</div>"
      ],
      "text/plain": [
       "   age           job  marital  education default  balance housing loan  \\\n",
       "0   58    management  married   tertiary      no     2143     yes   no   \n",
       "1   44    technician   single  secondary      no       29     yes   no   \n",
       "2   33  entrepreneur  married  secondary      no        2     yes  yes   \n",
       "3   47   blue-collar  married    unknown      no     1506     yes   no   \n",
       "4   33       unknown   single    unknown      no        1      no   no   \n",
       "\n",
       "   contact  day month  duration  campaign  pdays  previous poutcome   y  \n",
       "0  unknown    5   may       261         1     -1         0  unknown  no  \n",
       "1  unknown    5   may       151         1     -1         0  unknown  no  \n",
       "2  unknown    5   may        76         1     -1         0  unknown  no  \n",
       "3  unknown    5   may        92         1     -1         0  unknown  no  \n",
       "4  unknown    5   may       198         1     -1         0  unknown  no  "
      ]
     },
     "execution_count": 157,
     "metadata": {},
     "output_type": "execute_result"
    }
   ],
   "source": [
    "bank_data.head()"
   ]
  },
  {
   "cell_type": "markdown",
   "id": "9faa8ffc",
   "metadata": {},
   "source": [
    "bisa di lihat bahwa informasi 5 data teratas berdasarkan dataset yang kita masukkan ke dalam kode program, terdapat berbagai informasi yang kita dapatkan, seperti informasi di kolom age, job, marital, education dan lain sebagainya"
   ]
  },
  {
   "cell_type": "code",
   "execution_count": 158,
   "id": "11bec972",
   "metadata": {},
   "outputs": [
    {
     "data": {
      "text/html": [
       "<div>\n",
       "<style scoped>\n",
       "    .dataframe tbody tr th:only-of-type {\n",
       "        vertical-align: middle;\n",
       "    }\n",
       "\n",
       "    .dataframe tbody tr th {\n",
       "        vertical-align: top;\n",
       "    }\n",
       "\n",
       "    .dataframe thead th {\n",
       "        text-align: right;\n",
       "    }\n",
       "</style>\n",
       "<table border=\"1\" class=\"dataframe\">\n",
       "  <thead>\n",
       "    <tr style=\"text-align: right;\">\n",
       "      <th></th>\n",
       "      <th>age</th>\n",
       "      <th>job</th>\n",
       "      <th>marital</th>\n",
       "      <th>education</th>\n",
       "      <th>default</th>\n",
       "      <th>balance</th>\n",
       "      <th>housing</th>\n",
       "      <th>loan</th>\n",
       "      <th>contact</th>\n",
       "      <th>day</th>\n",
       "      <th>month</th>\n",
       "      <th>duration</th>\n",
       "      <th>campaign</th>\n",
       "      <th>pdays</th>\n",
       "      <th>previous</th>\n",
       "      <th>poutcome</th>\n",
       "      <th>y</th>\n",
       "    </tr>\n",
       "  </thead>\n",
       "  <tbody>\n",
       "    <tr>\n",
       "      <th>45206</th>\n",
       "      <td>51</td>\n",
       "      <td>technician</td>\n",
       "      <td>married</td>\n",
       "      <td>tertiary</td>\n",
       "      <td>no</td>\n",
       "      <td>825</td>\n",
       "      <td>no</td>\n",
       "      <td>no</td>\n",
       "      <td>cellular</td>\n",
       "      <td>17</td>\n",
       "      <td>nov</td>\n",
       "      <td>977</td>\n",
       "      <td>3</td>\n",
       "      <td>-1</td>\n",
       "      <td>0</td>\n",
       "      <td>unknown</td>\n",
       "      <td>yes</td>\n",
       "    </tr>\n",
       "    <tr>\n",
       "      <th>45207</th>\n",
       "      <td>71</td>\n",
       "      <td>retired</td>\n",
       "      <td>divorced</td>\n",
       "      <td>primary</td>\n",
       "      <td>no</td>\n",
       "      <td>1729</td>\n",
       "      <td>no</td>\n",
       "      <td>no</td>\n",
       "      <td>cellular</td>\n",
       "      <td>17</td>\n",
       "      <td>nov</td>\n",
       "      <td>456</td>\n",
       "      <td>2</td>\n",
       "      <td>-1</td>\n",
       "      <td>0</td>\n",
       "      <td>unknown</td>\n",
       "      <td>yes</td>\n",
       "    </tr>\n",
       "    <tr>\n",
       "      <th>45208</th>\n",
       "      <td>72</td>\n",
       "      <td>retired</td>\n",
       "      <td>married</td>\n",
       "      <td>secondary</td>\n",
       "      <td>no</td>\n",
       "      <td>5715</td>\n",
       "      <td>no</td>\n",
       "      <td>no</td>\n",
       "      <td>cellular</td>\n",
       "      <td>17</td>\n",
       "      <td>nov</td>\n",
       "      <td>1127</td>\n",
       "      <td>5</td>\n",
       "      <td>184</td>\n",
       "      <td>3</td>\n",
       "      <td>success</td>\n",
       "      <td>yes</td>\n",
       "    </tr>\n",
       "    <tr>\n",
       "      <th>45209</th>\n",
       "      <td>57</td>\n",
       "      <td>blue-collar</td>\n",
       "      <td>married</td>\n",
       "      <td>secondary</td>\n",
       "      <td>no</td>\n",
       "      <td>668</td>\n",
       "      <td>no</td>\n",
       "      <td>no</td>\n",
       "      <td>telephone</td>\n",
       "      <td>17</td>\n",
       "      <td>nov</td>\n",
       "      <td>508</td>\n",
       "      <td>4</td>\n",
       "      <td>-1</td>\n",
       "      <td>0</td>\n",
       "      <td>unknown</td>\n",
       "      <td>no</td>\n",
       "    </tr>\n",
       "    <tr>\n",
       "      <th>45210</th>\n",
       "      <td>37</td>\n",
       "      <td>entrepreneur</td>\n",
       "      <td>married</td>\n",
       "      <td>secondary</td>\n",
       "      <td>no</td>\n",
       "      <td>2971</td>\n",
       "      <td>no</td>\n",
       "      <td>no</td>\n",
       "      <td>cellular</td>\n",
       "      <td>17</td>\n",
       "      <td>nov</td>\n",
       "      <td>361</td>\n",
       "      <td>2</td>\n",
       "      <td>188</td>\n",
       "      <td>11</td>\n",
       "      <td>other</td>\n",
       "      <td>no</td>\n",
       "    </tr>\n",
       "  </tbody>\n",
       "</table>\n",
       "</div>"
      ],
      "text/plain": [
       "       age           job   marital  education default  balance housing loan  \\\n",
       "45206   51    technician   married   tertiary      no      825      no   no   \n",
       "45207   71       retired  divorced    primary      no     1729      no   no   \n",
       "45208   72       retired   married  secondary      no     5715      no   no   \n",
       "45209   57   blue-collar   married  secondary      no      668      no   no   \n",
       "45210   37  entrepreneur   married  secondary      no     2971      no   no   \n",
       "\n",
       "         contact  day month  duration  campaign  pdays  previous poutcome    y  \n",
       "45206   cellular   17   nov       977         3     -1         0  unknown  yes  \n",
       "45207   cellular   17   nov       456         2     -1         0  unknown  yes  \n",
       "45208   cellular   17   nov      1127         5    184         3  success  yes  \n",
       "45209  telephone   17   nov       508         4     -1         0  unknown   no  \n",
       "45210   cellular   17   nov       361         2    188        11    other   no  "
      ]
     },
     "execution_count": 158,
     "metadata": {},
     "output_type": "execute_result"
    }
   ],
   "source": [
    "bank_data.tail()"
   ]
  },
  {
   "cell_type": "markdown",
   "id": "4d1de2b2",
   "metadata": {},
   "source": [
    "bisa di lihat bahwa informasi 5 data terbawah berdasarkan dataset yang kita masukkan ke dalam kode program, terdapat berbagai informasi yang kita dapatkan, seperti informasi di kolom age, job, marital, education dan lain sebagainya"
   ]
  },
  {
   "cell_type": "markdown",
   "id": "85d8df5b",
   "metadata": {},
   "source": [
    "selanjutnya kita bisa melihat informasi, tipe data apa saja yang di pakai di dalam dataset ini"
   ]
  },
  {
   "cell_type": "code",
   "execution_count": 159,
   "id": "820446ab",
   "metadata": {},
   "outputs": [
    {
     "name": "stdout",
     "output_type": "stream",
     "text": [
      "<class 'pandas.core.frame.DataFrame'>\n",
      "RangeIndex: 45211 entries, 0 to 45210\n",
      "Data columns (total 17 columns):\n",
      " #   Column     Non-Null Count  Dtype \n",
      "---  ------     --------------  ----- \n",
      " 0   age        45211 non-null  int64 \n",
      " 1   job        45211 non-null  object\n",
      " 2   marital    45211 non-null  object\n",
      " 3   education  45211 non-null  object\n",
      " 4   default    45211 non-null  object\n",
      " 5   balance    45211 non-null  int64 \n",
      " 6   housing    45211 non-null  object\n",
      " 7   loan       45211 non-null  object\n",
      " 8   contact    45211 non-null  object\n",
      " 9   day        45211 non-null  int64 \n",
      " 10  month      45211 non-null  object\n",
      " 11  duration   45211 non-null  int64 \n",
      " 12  campaign   45211 non-null  int64 \n",
      " 13  pdays      45211 non-null  int64 \n",
      " 14  previous   45211 non-null  int64 \n",
      " 15  poutcome   45211 non-null  object\n",
      " 16  y          45211 non-null  object\n",
      "dtypes: int64(7), object(10)\n",
      "memory usage: 5.9+ MB\n"
     ]
    }
   ],
   "source": [
    "bank_data.info()"
   ]
  },
  {
   "cell_type": "markdown",
   "id": "892d471b",
   "metadata": {},
   "source": [
    "berdasarkan informasi yang telah kita temukan, bahwa di setiap kolom range index dan total count itu sama, artinya tidak terdapat missing value, dan dalam informasi ini terdapat 2 tipe data yang di pakai, seperti tipe data int64 dan object"
   ]
  },
  {
   "cell_type": "markdown",
   "id": "84129993",
   "metadata": {},
   "source": [
    "## Visualization Data "
   ]
  },
  {
   "cell_type": "markdown",
   "id": "756f10f5",
   "metadata": {},
   "source": [
    "ini masi bagian dari pre-processing data, selanjutnya ialah menvisualization data berdasarkan kolom yang kita inginkan, agar informasi lebih baik dan jelas. "
   ]
  },
  {
   "cell_type": "markdown",
   "id": "b7a98fed",
   "metadata": {},
   "source": [
    "### Visualization Data by job columns\n",
    "\n",
    "menvisualisasikan data berdasarkan pekerjaan yang akan berlangganan deposit"
   ]
  },
  {
   "cell_type": "markdown",
   "id": "dcf1f378",
   "metadata": {},
   "source": [
    "pertama, menampilkan kolom yang akan kita visualisasikan"
   ]
  },
  {
   "cell_type": "code",
   "execution_count": 160,
   "id": "719f5e1e",
   "metadata": {},
   "outputs": [
    {
     "data": {
      "text/html": [
       "<div>\n",
       "<style scoped>\n",
       "    .dataframe tbody tr th:only-of-type {\n",
       "        vertical-align: middle;\n",
       "    }\n",
       "\n",
       "    .dataframe tbody tr th {\n",
       "        vertical-align: top;\n",
       "    }\n",
       "\n",
       "    .dataframe thead th {\n",
       "        text-align: right;\n",
       "    }\n",
       "</style>\n",
       "<table border=\"1\" class=\"dataframe\">\n",
       "  <thead>\n",
       "    <tr style=\"text-align: right;\">\n",
       "      <th></th>\n",
       "      <th>job</th>\n",
       "    </tr>\n",
       "  </thead>\n",
       "  <tbody>\n",
       "    <tr>\n",
       "      <th>0</th>\n",
       "      <td>management</td>\n",
       "    </tr>\n",
       "    <tr>\n",
       "      <th>1</th>\n",
       "      <td>technician</td>\n",
       "    </tr>\n",
       "    <tr>\n",
       "      <th>2</th>\n",
       "      <td>entrepreneur</td>\n",
       "    </tr>\n",
       "    <tr>\n",
       "      <th>3</th>\n",
       "      <td>blue-collar</td>\n",
       "    </tr>\n",
       "    <tr>\n",
       "      <th>4</th>\n",
       "      <td>unknown</td>\n",
       "    </tr>\n",
       "    <tr>\n",
       "      <th>...</th>\n",
       "      <td>...</td>\n",
       "    </tr>\n",
       "    <tr>\n",
       "      <th>45206</th>\n",
       "      <td>technician</td>\n",
       "    </tr>\n",
       "    <tr>\n",
       "      <th>45207</th>\n",
       "      <td>retired</td>\n",
       "    </tr>\n",
       "    <tr>\n",
       "      <th>45208</th>\n",
       "      <td>retired</td>\n",
       "    </tr>\n",
       "    <tr>\n",
       "      <th>45209</th>\n",
       "      <td>blue-collar</td>\n",
       "    </tr>\n",
       "    <tr>\n",
       "      <th>45210</th>\n",
       "      <td>entrepreneur</td>\n",
       "    </tr>\n",
       "  </tbody>\n",
       "</table>\n",
       "<p>45211 rows × 1 columns</p>\n",
       "</div>"
      ],
      "text/plain": [
       "                job\n",
       "0        management\n",
       "1        technician\n",
       "2      entrepreneur\n",
       "3       blue-collar\n",
       "4           unknown\n",
       "...             ...\n",
       "45206    technician\n",
       "45207       retired\n",
       "45208       retired\n",
       "45209   blue-collar\n",
       "45210  entrepreneur\n",
       "\n",
       "[45211 rows x 1 columns]"
      ]
     },
     "execution_count": 160,
     "metadata": {},
     "output_type": "execute_result"
    }
   ],
   "source": [
    "bank_data[['job']]"
   ]
  },
  {
   "cell_type": "markdown",
   "id": "d7b9fde6",
   "metadata": {},
   "source": [
    "bisa di lihat, terdapat banyak daftar pekerjaan di dalam kolom pekerjaan"
   ]
  },
  {
   "cell_type": "markdown",
   "id": "782c7a27",
   "metadata": {},
   "source": [
    "selanjutnya, kita akan menvisualisasikan data berdasarkan kolom job"
   ]
  },
  {
   "cell_type": "code",
   "execution_count": 161,
   "id": "8807dc55",
   "metadata": {},
   "outputs": [
    {
     "data": {
      "text/plain": [
       "<seaborn.axisgrid.FacetGrid at 0x241611e72b0>"
      ]
     },
     "execution_count": 161,
     "metadata": {},
     "output_type": "execute_result"
    },
    {
     "data": {
      "image/png": "[encoded data removed]",
      "text/plain": [
       "<Figure size 1133.25x360 with 1 Axes>"
      ]
     },
     "metadata": {
      "needs_background": "light"
     },
     "output_type": "display_data"
    }
   ],
   "source": [
    "sns.catplot(x='job',hue='y',kind='count',data=bank_data, aspect=3, height=5)"
   ]
  },
  {
   "cell_type": "markdown",
   "id": "2ebb1744",
   "metadata": {},
   "source": [
    "berdasarkan data grafik visualisasi di atas bisa di lihat bahwa pekerjaan management paling banyak melakukan langganan dan membuka deposit di bank ini, dan pekerjaan blue-collar yang paling sedikit melakukan langaganan dan membuka deposit di bank ini"
   ]
  },
  {
   "cell_type": "markdown",
   "id": "6c368e9b",
   "metadata": {},
   "source": [
    "selanjutnya, kita akan melihat data grafik visualisasi jumlah langganan dan membuka deposit"
   ]
  },
  {
   "cell_type": "code",
   "execution_count": 162,
   "id": "cd51b1b9",
   "metadata": {},
   "outputs": [
    {
     "data": {
      "image/png": "[encoded data removed]",
      "text/plain": [
       "<Figure size 720x648 with 1 Axes>"
      ]
     },
     "metadata": {
      "needs_background": "light"
     },
     "output_type": "display_data"
    }
   ],
   "source": [
    "bank_data[\"y\"].value_counts().plot(kind=\"barh\", figsize=(10,9))\n",
    "plt.xticks(rotation=0)\n",
    "plt.title(\"Jumlah Langganan dan membuka Deposit \")\n",
    "plt.ylabel(\"Jumlah Client\") \n",
    "plt.xlabel(\"Berlangganan dan membuka Deposit\")\n",
    "plt.show()"
   ]
  },
  {
   "cell_type": "markdown",
   "id": "47c8dc75",
   "metadata": {},
   "source": [
    "berdasarkan visualisasi grafik di atas, bahwa banyak client yang menyatakan tidak untuk membuka dan berlangganan deposit di bank ini"
   ]
  },
  {
   "cell_type": "markdown",
   "id": "5b42838a",
   "metadata": {},
   "source": [
    "## Conclutions :\n"
   ]
  },
  {
   "cell_type": "markdown",
   "id": "499e437f",
   "metadata": {},
   "source": [
    "berdasarkan data yang telah kita visualisasikan dapat di simpulkan bahwa :\n",
    "1. pekerjaan management paling banyak membuka deposit ke dalam bank di bandingkan dengan pekerjaan lain\n",
    "2. pekerjaan unknown paling sedikit dan menolak  membuka deposit ke dalam bank\n",
    "3. jika dilihat secara keseluruhan, untuk tiap bidang pekerjaan, menolak untuk membuka deposit"
   ]
  },
  {
   "cell_type": "markdown",
   "id": "4f9455b7",
   "metadata": {},
   "source": [
    "## Visualization by education\n",
    "\n",
    "selanjutnya menvisualisikan kolom education, agar banyak mendapatkan informasi tentang pendidikan apa saja yang membuka dan berlangganan deposit di bank ini dan apakah berhubungan dengan data grafik visualisasi pada kolom job"
   ]
  },
  {
   "cell_type": "markdown",
   "id": "573cea0c",
   "metadata": {},
   "source": [
    "pertama, kita lihat dulu data dalam kolom education"
   ]
  },
  {
   "cell_type": "code",
   "execution_count": 163,
   "id": "1e79497c",
   "metadata": {},
   "outputs": [
    {
     "data": {
      "text/html": [
       "<div>\n",
       "<style scoped>\n",
       "    .dataframe tbody tr th:only-of-type {\n",
       "        vertical-align: middle;\n",
       "    }\n",
       "\n",
       "    .dataframe tbody tr th {\n",
       "        vertical-align: top;\n",
       "    }\n",
       "\n",
       "    .dataframe thead th {\n",
       "        text-align: right;\n",
       "    }\n",
       "</style>\n",
       "<table border=\"1\" class=\"dataframe\">\n",
       "  <thead>\n",
       "    <tr style=\"text-align: right;\">\n",
       "      <th></th>\n",
       "      <th>education</th>\n",
       "    </tr>\n",
       "  </thead>\n",
       "  <tbody>\n",
       "    <tr>\n",
       "      <th>0</th>\n",
       "      <td>tertiary</td>\n",
       "    </tr>\n",
       "    <tr>\n",
       "      <th>1</th>\n",
       "      <td>secondary</td>\n",
       "    </tr>\n",
       "    <tr>\n",
       "      <th>2</th>\n",
       "      <td>secondary</td>\n",
       "    </tr>\n",
       "    <tr>\n",
       "      <th>3</th>\n",
       "      <td>unknown</td>\n",
       "    </tr>\n",
       "    <tr>\n",
       "      <th>4</th>\n",
       "      <td>unknown</td>\n",
       "    </tr>\n",
       "    <tr>\n",
       "      <th>...</th>\n",
       "      <td>...</td>\n",
       "    </tr>\n",
       "    <tr>\n",
       "      <th>45206</th>\n",
       "      <td>tertiary</td>\n",
       "    </tr>\n",
       "    <tr>\n",
       "      <th>45207</th>\n",
       "      <td>primary</td>\n",
       "    </tr>\n",
       "    <tr>\n",
       "      <th>45208</th>\n",
       "      <td>secondary</td>\n",
       "    </tr>\n",
       "    <tr>\n",
       "      <th>45209</th>\n",
       "      <td>secondary</td>\n",
       "    </tr>\n",
       "    <tr>\n",
       "      <th>45210</th>\n",
       "      <td>secondary</td>\n",
       "    </tr>\n",
       "  </tbody>\n",
       "</table>\n",
       "<p>45211 rows × 1 columns</p>\n",
       "</div>"
      ],
      "text/plain": [
       "       education\n",
       "0       tertiary\n",
       "1      secondary\n",
       "2      secondary\n",
       "3        unknown\n",
       "4        unknown\n",
       "...          ...\n",
       "45206   tertiary\n",
       "45207    primary\n",
       "45208  secondary\n",
       "45209  secondary\n",
       "45210  secondary\n",
       "\n",
       "[45211 rows x 1 columns]"
      ]
     },
     "execution_count": 163,
     "metadata": {},
     "output_type": "execute_result"
    }
   ],
   "source": [
    "ve = bank_data[['education']]\n",
    "ve"
   ]
  },
  {
   "cell_type": "markdown",
   "id": "f9327ae8",
   "metadata": {},
   "source": [
    "bisa di lihat informasi di atas, terdapat banyak riwayat pendidikan yang membuka dan berlanganan deposit di bank ini"
   ]
  },
  {
   "cell_type": "markdown",
   "id": "2e5af4c7",
   "metadata": {},
   "source": [
    "pertama melihat data grafik visualisasi pada kolom education tanpa di hubungkan dengan kolom job "
   ]
  },
  {
   "cell_type": "code",
   "execution_count": 164,
   "id": "8bb6627d",
   "metadata": {},
   "outputs": [
    {
     "data": {
      "text/plain": [
       "<seaborn.axisgrid.FacetGrid at 0x24164932d00>"
      ]
     },
     "execution_count": 164,
     "metadata": {},
     "output_type": "execute_result"
    },
    {
     "data": {
      "image/png": "[encoded data removed]",
      "text/plain": [
       "<Figure size 917.25x432 with 1 Axes>"
      ]
     },
     "metadata": {
      "needs_background": "light"
     },
     "output_type": "display_data"
    }
   ],
   "source": [
    "sns.catplot(x='education', hue='y', kind='count', data=bank_data, aspect= 2 , height = 6)"
   ]
  },
  {
   "cell_type": "markdown",
   "id": "c4a5ce43",
   "metadata": {},
   "source": [
    "berdasarkan data grafik visualisasi di atas, memberikan informasi bahwa education paling banyak  yang berlanggan dan membuka deposit pada bank ini ialah tertiary education dan yang paling sedikit dan banyak memilih tidak melakukan langganan dan membuka deposit ialah secondary education"
   ]
  },
  {
   "cell_type": "markdown",
   "id": "348a0f12",
   "metadata": {},
   "source": [
    "selanjutnya, membuat data grafik visualisasi yang menggabungkan antara educaiton dan job"
   ]
  },
  {
   "cell_type": "code",
   "execution_count": 165,
   "id": "420dbae1",
   "metadata": {},
   "outputs": [
    {
     "data": {
      "text/plain": [
       "<seaborn.axisgrid.FacetGrid at 0x24166caab50>"
      ]
     },
     "execution_count": 165,
     "metadata": {},
     "output_type": "execute_result"
    },
    {
     "data": {
      "image/png": "[encoded data removed]",
      "text/plain": [
       "<Figure size 970.25x432 with 1 Axes>"
      ]
     },
     "metadata": {
      "needs_background": "light"
     },
     "output_type": "display_data"
    }
   ],
   "source": [
    "sns.catplot(x='education', hue='job', kind='count', data=bank_data, aspect=2, height=6)"
   ]
  },
  {
   "cell_type": "markdown",
   "id": "51664f47",
   "metadata": {},
   "source": [
    "berdasarkan data grafik visualisasi di atas setelah menggabungkan data grafik job dan education, bisa dilihat bahwa Kebanyakan dari client bank di tiap bidang pekerjaan telah menyelesaikan secondary education dan tertiary education"
   ]
  },
  {
   "cell_type": "markdown",
   "id": "984f0fa5",
   "metadata": {},
   "source": [
    "## Conclutions :\n",
    "1. education paling banyak yang berlanggan dan membuka deposit pada bank ini ialah tertiary education dan yang paling sedikit dan banyak memilih tidak melakukan langganan dan membuka deposit ialah secondary education\n",
    "2. setelah menggabungkan data grafik job dan education, bisa dilihat bahwa Kebanyakan dari client bank di tiap bidang pekerjaan telah menyelesaikan secondary education dan tertiary education"
   ]
  },
  {
   "cell_type": "markdown",
   "id": "39e9dc8e",
   "metadata": {},
   "source": [
    "## Correlation\n",
    "membuat korelasi  data antar kolom berdasarkan dataset"
   ]
  },
  {
   "cell_type": "markdown",
   "id": "66d9e6b6",
   "metadata": {},
   "source": [
    "pertama kita akan membuat korelasi data antar kolom"
   ]
  },
  {
   "cell_type": "code",
   "execution_count": 166,
   "id": "5d5608f3",
   "metadata": {},
   "outputs": [
    {
     "data": {
      "image/png": "[encoded data removed]",
      "text/plain": [
       "<Figure size 432x288 with 2 Axes>"
      ]
     },
     "metadata": {
      "needs_background": "light"
     },
     "output_type": "display_data"
    },
    {
     "data": {
      "text/plain": [
       "<Figure size 1440x1440 with 0 Axes>"
      ]
     },
     "metadata": {},
     "output_type": "display_data"
    }
   ],
   "source": [
    "cat_col_list = bank_data.columns[bank_data.dtypes == 'category'].to_list()\n",
    "for col in cat_col_list:\n",
    "    bank_data[col] = preprocessing.LabelEncoder().fit_transform(bank_data[col])\n",
    "\n",
    "x = bank_data.iloc[:, 0:16]\n",
    "y = bank_data.iloc[:, -1]\n",
    "\n",
    "corrmat = bank_data.corr()\n",
    "sns.heatmap(bank_data[corrmat.index].corr(),cmap=\"RdBu_r\")\n",
    "plt.title(\"Correlation Matrix\", fontsize=16)\n",
    "plt.figure(figsize=(20, 20))\n",
    "plt.show()"
   ]
  },
  {
   "cell_type": "markdown",
   "id": "7dbea67e",
   "metadata": {},
   "source": [
    "## Conclutions"
   ]
  },
  {
   "cell_type": "markdown",
   "id": "95b76ca6",
   "metadata": {},
   "source": [
    "Dari hasil visualisasi heatmap di atas, kolom duration memiliki korelasi paling kuat terhadap y dibandingkan kolom lainnya."
   ]
  },
  {
   "cell_type": "markdown",
   "id": "886829b6",
   "metadata": {},
   "source": [
    "## Modelling"
   ]
  },
  {
   "cell_type": "markdown",
   "id": "098ce4de",
   "metadata": {},
   "source": [
    "sebelum kita melahkah ke classification modelling, pertama kita akan menghapus kolom yang tidak penting, agar saat menerapkan classification modelling lebih akurat "
   ]
  },
  {
   "cell_type": "markdown",
   "id": "3f48a023",
   "metadata": {},
   "source": [
    "pertama, menampilkan 5 data teratas berdasarkan informasi dalam dataset"
   ]
  },
  {
   "cell_type": "code",
   "execution_count": 167,
   "id": "121d643f",
   "metadata": {},
   "outputs": [
    {
     "data": {
      "text/html": [
       "<div>\n",
       "<style scoped>\n",
       "    .dataframe tbody tr th:only-of-type {\n",
       "        vertical-align: middle;\n",
       "    }\n",
       "\n",
       "    .dataframe tbody tr th {\n",
       "        vertical-align: top;\n",
       "    }\n",
       "\n",
       "    .dataframe thead th {\n",
       "        text-align: right;\n",
       "    }\n",
       "</style>\n",
       "<table border=\"1\" class=\"dataframe\">\n",
       "  <thead>\n",
       "    <tr style=\"text-align: right;\">\n",
       "      <th></th>\n",
       "      <th>age</th>\n",
       "      <th>job</th>\n",
       "      <th>marital</th>\n",
       "      <th>education</th>\n",
       "      <th>default</th>\n",
       "      <th>balance</th>\n",
       "      <th>housing</th>\n",
       "      <th>loan</th>\n",
       "      <th>contact</th>\n",
       "      <th>day</th>\n",
       "      <th>month</th>\n",
       "      <th>duration</th>\n",
       "      <th>campaign</th>\n",
       "      <th>pdays</th>\n",
       "      <th>previous</th>\n",
       "      <th>poutcome</th>\n",
       "      <th>y</th>\n",
       "    </tr>\n",
       "  </thead>\n",
       "  <tbody>\n",
       "    <tr>\n",
       "      <th>0</th>\n",
       "      <td>58</td>\n",
       "      <td>management</td>\n",
       "      <td>married</td>\n",
       "      <td>tertiary</td>\n",
       "      <td>no</td>\n",
       "      <td>2143</td>\n",
       "      <td>yes</td>\n",
       "      <td>no</td>\n",
       "      <td>unknown</td>\n",
       "      <td>5</td>\n",
       "      <td>may</td>\n",
       "      <td>261</td>\n",
       "      <td>1</td>\n",
       "      <td>-1</td>\n",
       "      <td>0</td>\n",
       "      <td>unknown</td>\n",
       "      <td>no</td>\n",
       "    </tr>\n",
       "    <tr>\n",
       "      <th>1</th>\n",
       "      <td>44</td>\n",
       "      <td>technician</td>\n",
       "      <td>single</td>\n",
       "      <td>secondary</td>\n",
       "      <td>no</td>\n",
       "      <td>29</td>\n",
       "      <td>yes</td>\n",
       "      <td>no</td>\n",
       "      <td>unknown</td>\n",
       "      <td>5</td>\n",
       "      <td>may</td>\n",
       "      <td>151</td>\n",
       "      <td>1</td>\n",
       "      <td>-1</td>\n",
       "      <td>0</td>\n",
       "      <td>unknown</td>\n",
       "      <td>no</td>\n",
       "    </tr>\n",
       "    <tr>\n",
       "      <th>2</th>\n",
       "      <td>33</td>\n",
       "      <td>entrepreneur</td>\n",
       "      <td>married</td>\n",
       "      <td>secondary</td>\n",
       "      <td>no</td>\n",
       "      <td>2</td>\n",
       "      <td>yes</td>\n",
       "      <td>yes</td>\n",
       "      <td>unknown</td>\n",
       "      <td>5</td>\n",
       "      <td>may</td>\n",
       "      <td>76</td>\n",
       "      <td>1</td>\n",
       "      <td>-1</td>\n",
       "      <td>0</td>\n",
       "      <td>unknown</td>\n",
       "      <td>no</td>\n",
       "    </tr>\n",
       "    <tr>\n",
       "      <th>3</th>\n",
       "      <td>47</td>\n",
       "      <td>blue-collar</td>\n",
       "      <td>married</td>\n",
       "      <td>unknown</td>\n",
       "      <td>no</td>\n",
       "      <td>1506</td>\n",
       "      <td>yes</td>\n",
       "      <td>no</td>\n",
       "      <td>unknown</td>\n",
       "      <td>5</td>\n",
       "      <td>may</td>\n",
       "      <td>92</td>\n",
       "      <td>1</td>\n",
       "      <td>-1</td>\n",
       "      <td>0</td>\n",
       "      <td>unknown</td>\n",
       "      <td>no</td>\n",
       "    </tr>\n",
       "    <tr>\n",
       "      <th>4</th>\n",
       "      <td>33</td>\n",
       "      <td>unknown</td>\n",
       "      <td>single</td>\n",
       "      <td>unknown</td>\n",
       "      <td>no</td>\n",
       "      <td>1</td>\n",
       "      <td>no</td>\n",
       "      <td>no</td>\n",
       "      <td>unknown</td>\n",
       "      <td>5</td>\n",
       "      <td>may</td>\n",
       "      <td>198</td>\n",
       "      <td>1</td>\n",
       "      <td>-1</td>\n",
       "      <td>0</td>\n",
       "      <td>unknown</td>\n",
       "      <td>no</td>\n",
       "    </tr>\n",
       "  </tbody>\n",
       "</table>\n",
       "</div>"
      ],
      "text/plain": [
       "   age           job  marital  education default  balance housing loan  \\\n",
       "0   58    management  married   tertiary      no     2143     yes   no   \n",
       "1   44    technician   single  secondary      no       29     yes   no   \n",
       "2   33  entrepreneur  married  secondary      no        2     yes  yes   \n",
       "3   47   blue-collar  married    unknown      no     1506     yes   no   \n",
       "4   33       unknown   single    unknown      no        1      no   no   \n",
       "\n",
       "   contact  day month  duration  campaign  pdays  previous poutcome   y  \n",
       "0  unknown    5   may       261         1     -1         0  unknown  no  \n",
       "1  unknown    5   may       151         1     -1         0  unknown  no  \n",
       "2  unknown    5   may        76         1     -1         0  unknown  no  \n",
       "3  unknown    5   may        92         1     -1         0  unknown  no  \n",
       "4  unknown    5   may       198         1     -1         0  unknown  no  "
      ]
     },
     "execution_count": 167,
     "metadata": {},
     "output_type": "execute_result"
    }
   ],
   "source": [
    "bank_data.head()"
   ]
  },
  {
   "cell_type": "markdown",
   "id": "2d18f8c2",
   "metadata": {},
   "source": [
    "selanjutnya menghapus kolom atau label yang tidak penting seperti contact, poutcome, default, mounth."
   ]
  },
  {
   "cell_type": "code",
   "execution_count": 168,
   "id": "15dfa40c",
   "metadata": {},
   "outputs": [
    {
     "data": {
      "text/html": [
       "<div>\n",
       "<style scoped>\n",
       "    .dataframe tbody tr th:only-of-type {\n",
       "        vertical-align: middle;\n",
       "    }\n",
       "\n",
       "    .dataframe tbody tr th {\n",
       "        vertical-align: top;\n",
       "    }\n",
       "\n",
       "    .dataframe thead th {\n",
       "        text-align: right;\n",
       "    }\n",
       "</style>\n",
       "<table border=\"1\" class=\"dataframe\">\n",
       "  <thead>\n",
       "    <tr style=\"text-align: right;\">\n",
       "      <th></th>\n",
       "      <th>age</th>\n",
       "      <th>job</th>\n",
       "      <th>marital</th>\n",
       "      <th>education</th>\n",
       "      <th>balance</th>\n",
       "      <th>housing</th>\n",
       "      <th>loan</th>\n",
       "      <th>day</th>\n",
       "      <th>duration</th>\n",
       "      <th>campaign</th>\n",
       "      <th>pdays</th>\n",
       "      <th>previous</th>\n",
       "      <th>y</th>\n",
       "    </tr>\n",
       "  </thead>\n",
       "  <tbody>\n",
       "    <tr>\n",
       "      <th>0</th>\n",
       "      <td>58</td>\n",
       "      <td>management</td>\n",
       "      <td>married</td>\n",
       "      <td>tertiary</td>\n",
       "      <td>2143</td>\n",
       "      <td>yes</td>\n",
       "      <td>no</td>\n",
       "      <td>5</td>\n",
       "      <td>261</td>\n",
       "      <td>1</td>\n",
       "      <td>-1</td>\n",
       "      <td>0</td>\n",
       "      <td>no</td>\n",
       "    </tr>\n",
       "    <tr>\n",
       "      <th>1</th>\n",
       "      <td>44</td>\n",
       "      <td>technician</td>\n",
       "      <td>single</td>\n",
       "      <td>secondary</td>\n",
       "      <td>29</td>\n",
       "      <td>yes</td>\n",
       "      <td>no</td>\n",
       "      <td>5</td>\n",
       "      <td>151</td>\n",
       "      <td>1</td>\n",
       "      <td>-1</td>\n",
       "      <td>0</td>\n",
       "      <td>no</td>\n",
       "    </tr>\n",
       "    <tr>\n",
       "      <th>2</th>\n",
       "      <td>33</td>\n",
       "      <td>entrepreneur</td>\n",
       "      <td>married</td>\n",
       "      <td>secondary</td>\n",
       "      <td>2</td>\n",
       "      <td>yes</td>\n",
       "      <td>yes</td>\n",
       "      <td>5</td>\n",
       "      <td>76</td>\n",
       "      <td>1</td>\n",
       "      <td>-1</td>\n",
       "      <td>0</td>\n",
       "      <td>no</td>\n",
       "    </tr>\n",
       "    <tr>\n",
       "      <th>3</th>\n",
       "      <td>47</td>\n",
       "      <td>blue-collar</td>\n",
       "      <td>married</td>\n",
       "      <td>unknown</td>\n",
       "      <td>1506</td>\n",
       "      <td>yes</td>\n",
       "      <td>no</td>\n",
       "      <td>5</td>\n",
       "      <td>92</td>\n",
       "      <td>1</td>\n",
       "      <td>-1</td>\n",
       "      <td>0</td>\n",
       "      <td>no</td>\n",
       "    </tr>\n",
       "    <tr>\n",
       "      <th>4</th>\n",
       "      <td>33</td>\n",
       "      <td>unknown</td>\n",
       "      <td>single</td>\n",
       "      <td>unknown</td>\n",
       "      <td>1</td>\n",
       "      <td>no</td>\n",
       "      <td>no</td>\n",
       "      <td>5</td>\n",
       "      <td>198</td>\n",
       "      <td>1</td>\n",
       "      <td>-1</td>\n",
       "      <td>0</td>\n",
       "      <td>no</td>\n",
       "    </tr>\n",
       "  </tbody>\n",
       "</table>\n",
       "</div>"
      ],
      "text/plain": [
       "   age           job  marital  education  balance housing loan  day  duration  \\\n",
       "0   58    management  married   tertiary     2143     yes   no    5       261   \n",
       "1   44    technician   single  secondary       29     yes   no    5       151   \n",
       "2   33  entrepreneur  married  secondary        2     yes  yes    5        76   \n",
       "3   47   blue-collar  married    unknown     1506     yes   no    5        92   \n",
       "4   33       unknown   single    unknown        1      no   no    5       198   \n",
       "\n",
       "   campaign  pdays  previous   y  \n",
       "0         1     -1         0  no  \n",
       "1         1     -1         0  no  \n",
       "2         1     -1         0  no  \n",
       "3         1     -1         0  no  \n",
       "4         1     -1         0  no  "
      ]
     },
     "execution_count": 168,
     "metadata": {},
     "output_type": "execute_result"
    }
   ],
   "source": [
    "bank_data = bank_data.drop(columns=['contact', 'poutcome', 'default', 'month'])\n",
    "bank_data.head()"
   ]
  },
  {
   "cell_type": "markdown",
   "id": "2f08882e",
   "metadata": {},
   "source": [
    "bisa di lihat, bahwa kolom yang tidak penting sudah kita hapus"
   ]
  },
  {
   "cell_type": "markdown",
   "id": "433e05f4",
   "metadata": {},
   "source": [
    "selanjutnya kita akan memodellingkan data"
   ]
  },
  {
   "cell_type": "markdown",
   "id": "6bf71a3e",
   "metadata": {},
   "source": [
    "untuk memodellingkan data pertama kita harus membuat dan mencari  tahu encode data pada kolom ini tepatnya pada dataset ini agar kita bisa merubah dari data kategorik menjadi numerik"
   ]
  },
  {
   "cell_type": "code",
   "execution_count": 169,
   "id": "e0ce87e1",
   "metadata": {},
   "outputs": [
    {
     "data": {
      "text/plain": [
       "0    0\n",
       "1    0\n",
       "2    0\n",
       "3    0\n",
       "4    0\n",
       "Name: y, dtype: int32"
      ]
     },
     "execution_count": 169,
     "metadata": {},
     "output_type": "execute_result"
    }
   ],
   "source": [
    "bank_data['y'] = encoder.fit_transform(bank_data['y'])\n",
    "bank_data['y'].head()"
   ]
  },
  {
   "cell_type": "markdown",
   "id": "6c320051",
   "metadata": {},
   "source": [
    "berdasarkan hasil encode di atas kolom \"y\"sudah berubah tipe datanya menjadi numerik atau int"
   ]
  },
  {
   "cell_type": "markdown",
   "id": "6b0f4ac5",
   "metadata": {},
   "source": [
    "selanjutnya kita akan membuat variabel dan list yang berisi kolom yang masi tipe datanya kategorik, yang nantinya kita akan ubah ke kategorikal"
   ]
  },
  {
   "cell_type": "code",
   "execution_count": 170,
   "id": "e28cac1d",
   "metadata": {},
   "outputs": [],
   "source": [
    "X = bank_data[['age', 'balance', 'day', 'duration', 'campaign', 'job', 'marital']]\n",
    "y = bank_data['y']"
   ]
  },
  {
   "cell_type": "code",
   "execution_count": 171,
   "id": "dbd2f82f",
   "metadata": {},
   "outputs": [
    {
     "data": {
      "text/html": [
       "<div>\n",
       "<style scoped>\n",
       "    .dataframe tbody tr th:only-of-type {\n",
       "        vertical-align: middle;\n",
       "    }\n",
       "\n",
       "    .dataframe tbody tr th {\n",
       "        vertical-align: top;\n",
       "    }\n",
       "\n",
       "    .dataframe thead th {\n",
       "        text-align: right;\n",
       "    }\n",
       "</style>\n",
       "<table border=\"1\" class=\"dataframe\">\n",
       "  <thead>\n",
       "    <tr style=\"text-align: right;\">\n",
       "      <th></th>\n",
       "      <th>age</th>\n",
       "      <th>balance</th>\n",
       "      <th>day</th>\n",
       "      <th>duration</th>\n",
       "      <th>campaign</th>\n",
       "      <th>job_admin.</th>\n",
       "      <th>job_blue-collar</th>\n",
       "      <th>job_entrepreneur</th>\n",
       "      <th>job_housemaid</th>\n",
       "      <th>job_management</th>\n",
       "      <th>job_retired</th>\n",
       "      <th>job_self-employed</th>\n",
       "      <th>job_services</th>\n",
       "      <th>job_student</th>\n",
       "      <th>job_technician</th>\n",
       "      <th>job_unemployed</th>\n",
       "      <th>job_unknown</th>\n",
       "      <th>marital_divorced</th>\n",
       "      <th>marital_married</th>\n",
       "      <th>marital_single</th>\n",
       "    </tr>\n",
       "  </thead>\n",
       "  <tbody>\n",
       "    <tr>\n",
       "      <th>0</th>\n",
       "      <td>58</td>\n",
       "      <td>2143</td>\n",
       "      <td>5</td>\n",
       "      <td>261</td>\n",
       "      <td>1</td>\n",
       "      <td>0</td>\n",
       "      <td>0</td>\n",
       "      <td>0</td>\n",
       "      <td>0</td>\n",
       "      <td>1</td>\n",
       "      <td>0</td>\n",
       "      <td>0</td>\n",
       "      <td>0</td>\n",
       "      <td>0</td>\n",
       "      <td>0</td>\n",
       "      <td>0</td>\n",
       "      <td>0</td>\n",
       "      <td>0</td>\n",
       "      <td>1</td>\n",
       "      <td>0</td>\n",
       "    </tr>\n",
       "    <tr>\n",
       "      <th>1</th>\n",
       "      <td>44</td>\n",
       "      <td>29</td>\n",
       "      <td>5</td>\n",
       "      <td>151</td>\n",
       "      <td>1</td>\n",
       "      <td>0</td>\n",
       "      <td>0</td>\n",
       "      <td>0</td>\n",
       "      <td>0</td>\n",
       "      <td>0</td>\n",
       "      <td>0</td>\n",
       "      <td>0</td>\n",
       "      <td>0</td>\n",
       "      <td>0</td>\n",
       "      <td>1</td>\n",
       "      <td>0</td>\n",
       "      <td>0</td>\n",
       "      <td>0</td>\n",
       "      <td>0</td>\n",
       "      <td>1</td>\n",
       "    </tr>\n",
       "    <tr>\n",
       "      <th>2</th>\n",
       "      <td>33</td>\n",
       "      <td>2</td>\n",
       "      <td>5</td>\n",
       "      <td>76</td>\n",
       "      <td>1</td>\n",
       "      <td>0</td>\n",
       "      <td>0</td>\n",
       "      <td>1</td>\n",
       "      <td>0</td>\n",
       "      <td>0</td>\n",
       "      <td>0</td>\n",
       "      <td>0</td>\n",
       "      <td>0</td>\n",
       "      <td>0</td>\n",
       "      <td>0</td>\n",
       "      <td>0</td>\n",
       "      <td>0</td>\n",
       "      <td>0</td>\n",
       "      <td>1</td>\n",
       "      <td>0</td>\n",
       "    </tr>\n",
       "    <tr>\n",
       "      <th>3</th>\n",
       "      <td>47</td>\n",
       "      <td>1506</td>\n",
       "      <td>5</td>\n",
       "      <td>92</td>\n",
       "      <td>1</td>\n",
       "      <td>0</td>\n",
       "      <td>1</td>\n",
       "      <td>0</td>\n",
       "      <td>0</td>\n",
       "      <td>0</td>\n",
       "      <td>0</td>\n",
       "      <td>0</td>\n",
       "      <td>0</td>\n",
       "      <td>0</td>\n",
       "      <td>0</td>\n",
       "      <td>0</td>\n",
       "      <td>0</td>\n",
       "      <td>0</td>\n",
       "      <td>1</td>\n",
       "      <td>0</td>\n",
       "    </tr>\n",
       "    <tr>\n",
       "      <th>4</th>\n",
       "      <td>33</td>\n",
       "      <td>1</td>\n",
       "      <td>5</td>\n",
       "      <td>198</td>\n",
       "      <td>1</td>\n",
       "      <td>0</td>\n",
       "      <td>0</td>\n",
       "      <td>0</td>\n",
       "      <td>0</td>\n",
       "      <td>0</td>\n",
       "      <td>0</td>\n",
       "      <td>0</td>\n",
       "      <td>0</td>\n",
       "      <td>0</td>\n",
       "      <td>0</td>\n",
       "      <td>0</td>\n",
       "      <td>1</td>\n",
       "      <td>0</td>\n",
       "      <td>0</td>\n",
       "      <td>1</td>\n",
       "    </tr>\n",
       "  </tbody>\n",
       "</table>\n",
       "</div>"
      ],
      "text/plain": [
       "   age  balance  day  duration  campaign  job_admin.  job_blue-collar  \\\n",
       "0   58     2143    5       261         1           0                0   \n",
       "1   44       29    5       151         1           0                0   \n",
       "2   33        2    5        76         1           0                0   \n",
       "3   47     1506    5        92         1           0                1   \n",
       "4   33        1    5       198         1           0                0   \n",
       "\n",
       "   job_entrepreneur  job_housemaid  job_management  job_retired  \\\n",
       "0                 0              0               1            0   \n",
       "1                 0              0               0            0   \n",
       "2                 1              0               0            0   \n",
       "3                 0              0               0            0   \n",
       "4                 0              0               0            0   \n",
       "\n",
       "   job_self-employed  job_services  job_student  job_technician  \\\n",
       "0                  0             0            0               0   \n",
       "1                  0             0            0               1   \n",
       "2                  0             0            0               0   \n",
       "3                  0             0            0               0   \n",
       "4                  0             0            0               0   \n",
       "\n",
       "   job_unemployed  job_unknown  marital_divorced  marital_married  \\\n",
       "0               0            0                 0                1   \n",
       "1               0            0                 0                0   \n",
       "2               0            0                 0                1   \n",
       "3               0            0                 0                1   \n",
       "4               0            1                 0                0   \n",
       "\n",
       "   marital_single  \n",
       "0               0  \n",
       "1               1  \n",
       "2               0  \n",
       "3               0  \n",
       "4               1  "
      ]
     },
     "execution_count": 171,
     "metadata": {},
     "output_type": "execute_result"
    }
   ],
   "source": [
    "X = pd.get_dummies(X)\n",
    "X.head()"
   ]
  },
  {
   "cell_type": "markdown",
   "id": "a0be9f45",
   "metadata": {},
   "source": [
    "bisa di lihat dari data di atas, bahwa variabel x sudah berubah tipe data menjadi numerik atau int"
   ]
  },
  {
   "cell_type": "markdown",
   "id": "ca43c08d",
   "metadata": {},
   "source": [
    "setelah kita merubah isi semua isi dataset menjadi numerik atau int, kita bisa langsung melakukan training pada data "
   ]
  },
  {
   "cell_type": "code",
   "execution_count": 172,
   "id": "aa877453",
   "metadata": {},
   "outputs": [],
   "source": [
    "#split data menjadi 70% training dan 30% testing\n",
    "\n",
    "X_train, X_test, y_train, y_test = train_test_split(X, y, test_size=0.3, random_state=3)"
   ]
  },
  {
   "cell_type": "markdown",
   "id": "2aab18bb",
   "metadata": {},
   "source": [
    "bisa di lihat untuk model data training di atas :\n",
    "- X_train berguna untuk menampung nilai dan data source yang akan  ditraining\n",
    "\n",
    "- y_train berguna untuk menampung nilai dan data source yang akan di training\n",
    "\n",
    "- X_test berguna untuk menampung data target yang akan di training\n",
    "- y__test berguna untuk menampung data target yang akan di training\n",
    "- random state berguna untuk mengulang proses jalannya program yang hasilnya bisa random atau berubah rubah. \n",
    "- test_size berugna untuk ukuran data testing yang di latih, dan ukuran sebesar 30%\n",
    "\n",
    "selanjutnya, kita akan melakukan me modelling data"
   ]
  },
  {
   "cell_type": "markdown",
   "id": "e6093432",
   "metadata": {},
   "source": [
    "## Logistic Regression"
   ]
  },
  {
   "cell_type": "markdown",
   "id": "d786e53c",
   "metadata": {},
   "source": [
    "### Pre-processing data"
   ]
  },
  {
   "cell_type": "markdown",
   "id": "421992d0",
   "metadata": {},
   "source": [
    "pertama kita akan melakukan pre-processing data dan  memasukkan model logistic regression pada program kita"
   ]
  },
  {
   "cell_type": "code",
   "execution_count": 173,
   "id": "f1354033",
   "metadata": {},
   "outputs": [
    {
     "name": "stderr",
     "output_type": "stream",
     "text": [
      "C:\\Users\\Administrator\\anaconda3\\lib\\site-packages\\sklearn\\linear_model\\_logistic.py:444: ConvergenceWarning: lbfgs failed to converge (status=1):\n",
      "STOP: TOTAL NO. of ITERATIONS REACHED LIMIT.\n",
      "\n",
      "Increase the number of iterations (max_iter) or scale the data as shown in:\n",
      "    https://scikit-learn.org/stable/modules/preprocessing.html\n",
      "Please also refer to the documentation for alternative solver options:\n",
      "    https://scikit-learn.org/stable/modules/linear_model.html#logistic-regression\n",
      "  n_iter_i = _check_optimize_result(\n"
     ]
    }
   ],
   "source": [
    "model = LogisticRegression()\n",
    "\n",
    "#training model\n",
    "model.fit(X_train, y_train)\n",
    "\n",
    "#prediksi respon untuk dataset test\n",
    "y_pred = model.predict(X_test)"
   ]
  },
  {
   "cell_type": "markdown",
   "id": "8513efef",
   "metadata": {},
   "source": [
    "berdasarkan informasi di atas, bahwa model logistic regression yang akan di latih dan di prediksi berhasil di masukkan "
   ]
  },
  {
   "cell_type": "markdown",
   "id": "b611b887",
   "metadata": {},
   "source": [
    "### Confusion Matriks\n",
    "selanjutnya, melakukan Confusion_matrix yang berguna untuk mengetahui informasi data confusion matrix menggunakan y_test dan y_pred\n"
   ]
  },
  {
   "cell_type": "code",
   "execution_count": 174,
   "id": "534e4ef4",
   "metadata": {},
   "outputs": [
    {
     "name": "stdout",
     "output_type": "stream",
     "text": [
      "[[11763   206]\n",
      " [ 1299   296]]\n"
     ]
    }
   ],
   "source": [
    "matrix = confusion_matrix(y_test, y_pred)\n",
    "print(matrix)"
   ]
  },
  {
   "cell_type": "markdown",
   "id": "38f70581",
   "metadata": {},
   "source": [
    "berdasarkan informasi di atas bahwa confusion matrix pada data ini menghasilkan nilai 11763 + 296 merupakan nilai untuk prediksi benar dan 1299 + 206 merupakan nilai untuk prediksi salah "
   ]
  },
  {
   "cell_type": "markdown",
   "id": "3c06c0ac",
   "metadata": {},
   "source": [
    "selanjutnya membuat visualisasi pada confusion matriks"
   ]
  },
  {
   "cell_type": "code",
   "execution_count": 175,
   "id": "e85b3e54",
   "metadata": {},
   "outputs": [
    {
     "data": {
      "image/png": "[encoded data removed]",
      "text/plain": [
       "<Figure size 576x576 with 1 Axes>"
      ]
     },
     "metadata": {
      "needs_background": "light"
     },
     "output_type": "display_data"
    }
   ],
   "source": [
    "cm = confusion_matrix(y_test, y_pred)\n",
    "\n",
    "fig, ax = plt.subplots(figsize=(8,8))\n",
    "ax.imshow(cm)\n",
    "ax.grid(False)\n",
    "ax.xaxis.set(ticks=(0,1), ticklabels=('Predicted 0s', 'Predicted 1s'))\n",
    "ax.yaxis.set(ticks=(0,1), ticklabels=('Actual 0s', 'Actual 1s'))\n",
    "ax.set_ylim(1.5, -0.5)\n",
    "for i in range(2):\n",
    "    for j in range(2):\n",
    "        ax.text(j, i, cm[i, j], ha='center', va='center', color='red')\n",
    "\n",
    "plt.show()"
   ]
  },
  {
   "cell_type": "markdown",
   "id": "3f0f92af",
   "metadata": {},
   "source": [
    "berdasarkan grafik di atas dapat di lihat : \n",
    "\n",
    "- terdapat nilai pada confusion matrix pada visualisasi di atas yang bernilai 11763 merupakan nilai prediksi negatif  benar dengan sebagai 0 atau prediksi benar\n",
    "\n",
    "- terdapat nilai pada confusion matrix pada visualisasi di atas bernilai 1299 merupakan nilai prediksi negatif benar sebagai 0 atau diprediksi dengan benar\n",
    "\n",
    "- terdapat nilai pada confusion matrix pada visualisasi di atas bernilai 206 merupakan nilai prediksi positif benar  dengan 0 sebagai salah di prediksi sebagai 1 atau yes\n",
    "\n",
    "- terdapat nilai pada confusion matrix pada visualisasi di atas bernilai 296 merupakan nilai prediksi positif benar yang di prediksi dengan benar sebagi 1 atau yes "
   ]
  },
  {
   "cell_type": "markdown",
   "id": "954efb1a",
   "metadata": {},
   "source": [
    "### Evaluasi Model\n",
    "selanjutnya kita akan mengevalusi model training dan mencari tahu berapa accuracy score pada model ini"
   ]
  },
  {
   "cell_type": "code",
   "execution_count": 176,
   "id": "42001e6c",
   "metadata": {},
   "outputs": [
    {
     "name": "stdout",
     "output_type": "stream",
     "text": [
      "0.8890445296372751\n"
     ]
    }
   ],
   "source": [
    "print(accuracy_score(y_test, y_pred))"
   ]
  },
  {
   "cell_type": "markdown",
   "id": "c6833d88",
   "metadata": {},
   "source": [
    "berdasarkan model di atas bahwa model di atas  dapat menghasilkan nilai accuracy score atau nilai akurasi terbaik dari metode logistic regression sebesar 0.88 atau 88%"
   ]
  },
  {
   "cell_type": "markdown",
   "id": "e31655fe",
   "metadata": {},
   "source": [
    "selanjutnya kita akan melakukan classifacation report "
   ]
  },
  {
   "cell_type": "code",
   "execution_count": 177,
   "id": "a8616c31",
   "metadata": {},
   "outputs": [
    {
     "name": "stdout",
     "output_type": "stream",
     "text": [
      "              precision    recall  f1-score   support\n",
      "\n",
      "           0       0.90      0.98      0.94     11969\n",
      "           1       0.59      0.19      0.28      1595\n",
      "\n",
      "    accuracy                           0.89     13564\n",
      "   macro avg       0.75      0.58      0.61     13564\n",
      "weighted avg       0.86      0.89      0.86     13564\n",
      "\n"
     ]
    }
   ],
   "source": [
    "print(classification_report(y_test, y_pred))"
   ]
  },
  {
   "cell_type": "markdown",
   "id": "a763a700",
   "metadata": {},
   "source": [
    "bisa di lihat di atas terdapat classifacation report yang berguna untuk mengetahui semua laporan dan informasi pada model training yang telah kita buat tadi seperti terdapat informasi score precision, recall, f1-score dan support, dengan score yang bervariasi"
   ]
  },
  {
   "cell_type": "markdown",
   "id": "dd2b164f",
   "metadata": {},
   "source": [
    "### Conclusions\n",
    "berdasarkan data yang telah di olah dan di training di dapatkan kesimpulan sebagai berikut : \n",
    "1. confusion matrix pada data ini menghasilkan nilai 11763 + 206 merupakan nilai untuk prediksi benar dan 1299 + 296 merupakan nilai untuk prediksi salah\n",
    "\n",
    "2. terdapat nilai pada confusion matrix pada visualisasi di atas yang bernilai 11763 merupakan nilai prediksi negatif  benar dengan sebagai 0 atau prediksi benar\n",
    "\n",
    "- terdapat nilai pada confusion matrix pada visualisasi di atas bernilai 1299 merupakan nilai prediksi negatif benar sebagai 0 atau diprediksi dengan benar\n",
    "\n",
    "- terdapat nilai pada confusion matrix pada visualisasi di atas bernilai 206 merupakan nilai prediksi positif benar  dengan 0 sebagai salah di prediksi sebagai 1 atau yes\n",
    "\n",
    "- terdapat nilai pada confusion matrix pada visualisasi di atas bernilai 296 merupakan nilai prediksi positif benar yang di prediksi dengan benar sebagi 1 atau yes \n",
    "\n",
    "3. di dapatkan accuracy score tau nilai akurasi terbaik dari metode logistic regression sebesar 0.88 atau 88%\n",
    "\n",
    "4. terdapat classifacation report yang berguna untuk mengetahui semua laporan dan informasi pada model training yang telah kita buat tadi"
   ]
  },
  {
   "cell_type": "markdown",
   "id": "27a61205",
   "metadata": {},
   "source": [
    "## K-Nearst Neighbors"
   ]
  },
  {
   "cell_type": "markdown",
   "id": "01a63e47",
   "metadata": {},
   "source": [
    "### Pre-Processing data"
   ]
  },
  {
   "cell_type": "markdown",
   "id": "f3c9b29f",
   "metadata": {},
   "source": [
    "pertama kita akan melakukan pre processing data pada K-Nearst Neigbors pada program kita"
   ]
  },
  {
   "cell_type": "code",
   "execution_count": 178,
   "id": "fe93a76d",
   "metadata": {},
   "outputs": [
    {
     "name": "stdout",
     "output_type": "stream",
     "text": [
      "preprocessing successful\n"
     ]
    }
   ],
   "source": [
    "#membuat model klasifikasi\n",
    "KNN = KNeighborsClassifier()\n",
    "\n",
    "#tmembuat raining model\n",
    "KNN.fit(X_train, y_train)\n",
    "\n",
    "#prediksi respon untuk dataset test\n",
    "y_pred1 = KNN.predict(X_test)\n",
    "\n",
    "print('preprocessing successful')"
   ]
  },
  {
   "cell_type": "markdown",
   "id": "e4713266",
   "metadata": {},
   "source": [
    "jika tidak terdapat eror,  bisa di lihat bahwa pre-processing data berhasil di lakukan"
   ]
  },
  {
   "cell_type": "markdown",
   "id": "a7bfb76e",
   "metadata": {},
   "source": [
    "###  Confusion Matriks\n",
    "selanjutnya kita akan membuat confusion matriks pada model K-Nearst Neighbors "
   ]
  },
  {
   "cell_type": "code",
   "execution_count": 179,
   "id": "324194b5",
   "metadata": {},
   "outputs": [
    {
     "name": "stdout",
     "output_type": "stream",
     "text": [
      "[[11567   402]\n",
      " [ 1264   331]]\n"
     ]
    }
   ],
   "source": [
    "matrix = confusion_matrix(y_test, y_pred1)\n",
    "print(matrix)"
   ]
  },
  {
   "cell_type": "markdown",
   "id": "318ba24c",
   "metadata": {},
   "source": [
    "bisa di lihat berdasarkan data di atas, bahwa confusion matrix pada data ini menghasilkan nilai 11567 + 331 merupakan nilai untuk prediksi benar dan 1264+ 402 merupakan nilai untuk prediksi salah"
   ]
  },
  {
   "cell_type": "markdown",
   "id": "ccfeaf02",
   "metadata": {},
   "source": [
    "selanjutnya membuat visualisasi pada confusion matriks"
   ]
  },
  {
   "cell_type": "code",
   "execution_count": 180,
   "id": "35aef44e",
   "metadata": {},
   "outputs": [
    {
     "data": {
      "image/png": "[encoded data removed]",
      "text/plain": [
       "<Figure size 576x576 with 1 Axes>"
      ]
     },
     "metadata": {
      "needs_background": "light"
     },
     "output_type": "display_data"
    }
   ],
   "source": [
    "cm = confusion_matrix(y_test, y_pred1)\n",
    "\n",
    "fig, ax = plt.subplots(figsize=(8,8))\n",
    "ax.imshow(cm)\n",
    "ax.grid(False)\n",
    "ax.xaxis.set(ticks=(0,1), ticklabels=('Predicted 0s', 'Predicted 1s'))\n",
    "ax.yaxis.set(ticks=(0,1), ticklabels=('Actual 0s', 'Actual 1s'))\n",
    "ax.set_ylim(1.5, -0.5)\n",
    "for i in range(2):\n",
    "    for j in range(2):\n",
    "        ax.text(j, i, cm[i, j], ha='center', va='center', color='red')"
   ]
  },
  {
   "cell_type": "markdown",
   "id": "da053e03",
   "metadata": {},
   "source": [
    "berdasarkan grafik di atas dapat di lihat : \n",
    "\n",
    "- terdapat nilai pada confusion matrix pada visualisasi di atas yang bernilai 11567 merupakan nilai prediksi negatif  benar dengan pengamat sebagai 0 atau prediksi benar\n",
    "\n",
    "- terdapat nilai pada confusion matrix pada visualisasi di atas bernilai 1264 merupakan nilai prediksi negatif salah dengan pengamat  sebagai 0 sebagai salah atau diprediksi dengan sebagai 1 atau yes\n",
    "\n",
    "- terdapat nilai pada confusion matrix pada visualisasi di atas bernilai 402 merupakan nilai prediksi positif salah  dengan pengamat sebagai 0 sebagai salah atau  diprediksi sebagai 1 atau yes\n",
    "\n",
    "- terdapat nilai pada confusion matrix pada visualisasi di atas bernilai 331 merupakan nilai prediksi positif benar yang di prediksi dengan benar sebagi 1 atau yes "
   ]
  },
  {
   "cell_type": "markdown",
   "id": "724b7712",
   "metadata": {},
   "source": [
    "### Evaluasi Model\n",
    "selanjutnya kita akan mengevalusi model training dan mencari tahu berapa accuracy score pada model ini"
   ]
  },
  {
   "cell_type": "code",
   "execution_count": 181,
   "id": "c7ca3210",
   "metadata": {},
   "outputs": [
    {
     "name": "stdout",
     "output_type": "stream",
     "text": [
      "0.8771748746682395\n"
     ]
    }
   ],
   "source": [
    "print(accuracy_score(y_test, y_pred1))"
   ]
  },
  {
   "cell_type": "markdown",
   "id": "a7a06d22",
   "metadata": {},
   "source": [
    "berdasarkan model di atas bahwa model di atas  dapat menghasilkan nilai accuracy score atau nilai akurasi terbaik dari K-Nearst Neighbors sebesar 0.87 atau 87%"
   ]
  },
  {
   "cell_type": "markdown",
   "id": "5b20218d",
   "metadata": {},
   "source": [
    "selanjutnya kita akan melakukan classifacation report "
   ]
  },
  {
   "cell_type": "code",
   "execution_count": 182,
   "id": "32386278",
   "metadata": {},
   "outputs": [
    {
     "name": "stdout",
     "output_type": "stream",
     "text": [
      "              precision    recall  f1-score   support\n",
      "\n",
      "           0       0.90      0.97      0.93     11969\n",
      "           1       0.45      0.21      0.28      1595\n",
      "\n",
      "    accuracy                           0.88     13564\n",
      "   macro avg       0.68      0.59      0.61     13564\n",
      "weighted avg       0.85      0.88      0.86     13564\n",
      "\n"
     ]
    }
   ],
   "source": [
    "print(classification_report(y_test, y_pred1))"
   ]
  },
  {
   "cell_type": "markdown",
   "id": "c056a479",
   "metadata": {},
   "source": [
    "bisa di lihat di atas terdapat classifacation report yang berguna untuk mengetahui semua laporan dan informasi pada model training yang telah kita buat tadi seperti terdapat informasi score precision, recall, f1-score dan support, dengan score yang bervariasi"
   ]
  },
  {
   "cell_type": "markdown",
   "id": "8e1c680a",
   "metadata": {},
   "source": [
    "### Conclusions\n",
    "berdasarkan data yang telah di olah dan di training di dapatkan kesimpulan sebagai berikut :\n",
    "\n",
    "1.  confusion matrix pada data ini menghasilkan nilai 11567 + 331 merupakan nilai untuk prediksi benar dan 1264+ 402 merupakan nilai untuk prediksi salah\n",
    "\n",
    "2. erdapat nilai pada confusion matrix pada visualisasi di atas yang bernilai 11567 merupakan nilai prediksi negatif benar dengan pengamat sebagai 0 atau prediksi benar\n",
    "\n",
    "- terdapat nilai pada confusion matrix pada visualisasi di atas bernilai 1264 merupakan nilai prediksi negatif salah dengan pengamat sebagai 0 sebagai salah atau diprediksi dengan sebagai 1 atau yes\n",
    "\n",
    "- terdapat nilai pada confusion matrix pada visualisasi di atas bernilai 402 merupakan nilai prediksi positif salah dengan pengamat sebagai 0 sebagai salah atau diprediksi sebagai 1 atau yes\n",
    "\n",
    "- terdapat nilai pada confusion matrix pada visualisasi di atas bernilai 331 merupakan nilai prediksi positif benar yang di prediksi dengan benar sebagi 1 atau yes\n",
    "\n",
    "3. pada model ini menghasilkan nilai accuracy score atau nilai akurasi terbaik dari K-Nearst Neighbors sebesar 0.87 atau 87%\n",
    "\n",
    "4. terdapat classifacation report yang berguna untuk mengetahui semua laporan dan informasi pada model training yang telah kita buat tadi seperti terdapat informasi score precision, recall, f1-score dan support, dengan score yang bervariasi"
   ]
  },
  {
   "cell_type": "markdown",
   "id": "e65f2d5e",
   "metadata": {},
   "source": [
    "## Support Vector Machine (SVM)\n"
   ]
  },
  {
   "cell_type": "markdown",
   "id": "65d82d11",
   "metadata": {},
   "source": [
    "### Pre-Processing Data\n",
    "\n",
    "pertama kita akan melakukan pre processing data pada Support Vector Machine pada program kita"
   ]
  },
  {
   "cell_type": "code",
   "execution_count": 183,
   "id": "d00d0451",
   "metadata": {},
   "outputs": [
    {
     "name": "stdout",
     "output_type": "stream",
     "text": [
      "preprocessing successful\n"
     ]
    }
   ],
   "source": [
    "#menentukan model klasifikasi\n",
    "svm_model = svm.SVC()\n",
    "\n",
    "#training model\n",
    "svm_model.fit(X_train, y_train)\n",
    "\n",
    "#prediksi respon untuk dataset test\n",
    "y_pred2 = svm_model.predict(X_test)\n",
    "\n",
    "print('preprocessing successful')"
   ]
  },
  {
   "cell_type": "markdown",
   "id": "5482d774",
   "metadata": {},
   "source": [
    "jika tidak terdapat eror, bisa di lihat bahwa pre-processing data berhasil di lakukan"
   ]
  },
  {
   "cell_type": "markdown",
   "id": "6c1f79b5",
   "metadata": {},
   "source": [
    "### Confusion Matriks\n",
    "selanjutnya kita akan membuat confusion matriks pada model Support Vector Machine"
   ]
  },
  {
   "cell_type": "code",
   "execution_count": 184,
   "id": "c356d303",
   "metadata": {},
   "outputs": [
    {
     "name": "stdout",
     "output_type": "stream",
     "text": [
      "[[11966     3]\n",
      " [ 1589     6]]\n"
     ]
    }
   ],
   "source": [
    "#confusion matriks\n",
    "\n",
    "matrix = confusion_matrix(y_test, y_pred2)\n",
    "print(matrix)"
   ]
  },
  {
   "cell_type": "markdown",
   "id": "b4448722",
   "metadata": {},
   "source": [
    "bisa di lihat berdasarkan data di atas, bahwa confusion matrix pada data ini menghasilkan nilai 11966 + 6 merupakan nilai untuk prediksi benar dan 1589 + 3 merupakan nilai untuk prediksi salah"
   ]
  },
  {
   "cell_type": "markdown",
   "id": "6659ab95",
   "metadata": {},
   "source": [
    "selanjutnya membuat visualisasi pada confusion matriks"
   ]
  },
  {
   "cell_type": "code",
   "execution_count": 185,
   "id": "749456ed",
   "metadata": {},
   "outputs": [
    {
     "data": {
      "image/png": "[encoded data removed]",
      "text/plain": [
       "<Figure size 576x576 with 1 Axes>"
      ]
     },
     "metadata": {
      "needs_background": "light"
     },
     "output_type": "display_data"
    }
   ],
   "source": [
    "cm = confusion_matrix(y_test, y_pred2)\n",
    "\n",
    "fig, ax = plt.subplots(figsize=(8,8))\n",
    "ax.imshow(cm)\n",
    "ax.grid(False)\n",
    "ax.xaxis.set(ticks=(0,1), ticklabels=('Predicted 0s', 'Predicted 1s'))\n",
    "ax.yaxis.set(ticks=(0,1), ticklabels=('Actual 0s', 'Actual 1s'))\n",
    "ax.set_ylim(1.5, -0.5)\n",
    "for i in range(2):\n",
    "    for j in range(2):\n",
    "        ax.text(j, i, cm[i, j], ha='center', va='center', color='red')\n",
    "\n",
    "plt.show()"
   ]
  },
  {
   "cell_type": "markdown",
   "id": "8be191db",
   "metadata": {},
   "source": [
    "berdasarkan grafik di atas dapat di lihat :\n",
    "\n",
    "terdapat nilai pada confusion matrix pada visualisasi di atas yang bernilai 11966 merupakan nilai prediksi negatif benar dengan pengamat sebagai 0 atau prediksi benar\n",
    "\n",
    "terdapat nilai pada confusion matrix pada visualisasi di atas bernilai 1589 merupakan nilai prediksi negatif salah dengan pengamat sebagai 0 sebagai salah atau diprediksi dengan sebagai 1 atau yes\n",
    "\n",
    "terdapat nilai pada confusion matrix pada visualisasi di atas bernilai 3 merupakan nilai prediksi positif salah dengan pengamat sebagai 0 sebagai salah atau diprediksi sebagai 1 atau yes\n",
    "\n",
    "terdapat nilai pada confusion matrix pada visualisasi di atas bernilai 6 merupakan nilai prediksi positif benar yang di prediksi dengan benar sebagi 1 atau yes"
   ]
  },
  {
   "cell_type": "markdown",
   "id": "c359dc8c",
   "metadata": {},
   "source": [
    "### Evaluasi Model\n",
    "selanjutnya kita akan mengevalusi model training dan mencari tahu berapa accuracy score pada model ini"
   ]
  },
  {
   "cell_type": "code",
   "execution_count": 186,
   "id": "d5ee37e3",
   "metadata": {},
   "outputs": [
    {
     "name": "stdout",
     "output_type": "stream",
     "text": [
      "0.8826304924800944\n"
     ]
    }
   ],
   "source": [
    "print(accuracy_score(y_test, y_pred2))"
   ]
  },
  {
   "cell_type": "markdown",
   "id": "9e771b49",
   "metadata": {},
   "source": [
    "berdasarkan model di atas bahwa model di atas dapat menghasilkan nilai accuracy score atau nilai akurasi terbaik dari Support Vector Machine sebesar 0.88 atau 88%"
   ]
  },
  {
   "cell_type": "markdown",
   "id": "a81b2344",
   "metadata": {},
   "source": [
    "selanjutnya kita akan melakukan classifacation report"
   ]
  },
  {
   "cell_type": "code",
   "execution_count": 187,
   "id": "1ea0b4ab",
   "metadata": {},
   "outputs": [
    {
     "name": "stdout",
     "output_type": "stream",
     "text": [
      "              precision    recall  f1-score   support\n",
      "\n",
      "           0       0.88      1.00      0.94     11969\n",
      "           1       0.67      0.00      0.01      1595\n",
      "\n",
      "    accuracy                           0.88     13564\n",
      "   macro avg       0.77      0.50      0.47     13564\n",
      "weighted avg       0.86      0.88      0.83     13564\n",
      "\n"
     ]
    }
   ],
   "source": [
    "print(classification_report(y_test, y_pred2))"
   ]
  },
  {
   "cell_type": "markdown",
   "id": "3ef907a5",
   "metadata": {},
   "source": [
    "terdapat classifacation report yang berguna untuk mengetahui semua laporan dan informasi pada model training yang telah kita buat tadi seperti terdapat informasi score precision, recall, f1-score dan support, dengan score yang bervariasi"
   ]
  },
  {
   "cell_type": "markdown",
   "id": "31c6de45",
   "metadata": {},
   "source": [
    "### Conclusions\n",
    "berdasarkan data yang telah di olah dan di training di dapatkan kesimpulan sebagai berikut :\n",
    "1. bisa di lihat berdasarkan data di atas, bahwa confusion matrix pada data ini menghasilkan nilai 11966 + 6 merupakan nilai untuk prediksi benar dan 1589 + 3 merupakan nilai untuk prediksi salah\n",
    "\n",
    "2. terdapat nilai pada confusion matrix pada visualisasi di atas yang bernilai 11966 merupakan nilai prediksi negatif benar dengan pengamat sebagai 0 atau prediksi benar\n",
    "\n",
    "- terdapat nilai pada confusion matrix pada visualisasi di atas bernilai 1589 merupakan nilai prediksi negatif salah dengan pengamat sebagai 0 sebagai salah atau diprediksi dengan sebagai 1 atau yes\n",
    "\n",
    "- terdapat nilai pada confusion matrix pada visualisasi di atas bernilai 3 merupakan nilai prediksi positif salah dengan pengamat sebagai 0 sebagai salah atau diprediksi sebagai 1 atau yes\n",
    "\n",
    "- terdapat nilai pada confusion matrix pada visualisasi di atas bernilai 6 merupakan nilai prediksi positif benar yang di prediksi dengan benar sebagi 1 atau yes\n",
    "\n",
    "3. berdasarkan model di atas bahwa model di atas dapat menghasilkan nilai accuracy score atau nilai akurasi terbaik dari Support Vector Machine sebesar 0.88 atau 88%\n",
    "\n",
    "4. terdapat classifacation report yang berguna untuk mengetahui semua laporan dan informasi pada model training yang telah kita buat tadi seperti terdapat informasi score precision, recall, f1-score dan support, dengan score yang bervariasi"
   ]
  },
  {
   "cell_type": "markdown",
   "id": "3f70a2c9",
   "metadata": {},
   "source": [
    "## Decision Tree\n"
   ]
  },
  {
   "cell_type": "markdown",
   "id": "32e7eeb0",
   "metadata": {},
   "source": [
    "### Pre-Processing Data\n",
    "pertama kita akan melakukan pre processing data Decision Tree pada program kita"
   ]
  },
  {
   "cell_type": "code",
   "execution_count": 188,
   "id": "ea49d586",
   "metadata": {},
   "outputs": [
    {
     "name": "stdout",
     "output_type": "stream",
     "text": [
      "preprocessing successful\n"
     ]
    }
   ],
   "source": [
    "#menentukan model klasifikasi\n",
    "dt = DecisionTreeClassifier()\n",
    "\n",
    "#training model\n",
    "dt.fit(X_train, y_train)\n",
    "\n",
    "#prediksi respon untuk dataset test\n",
    "y_pred3 = dt.predict(X_test)\n",
    "\n",
    "print('preprocessing successful')"
   ]
  },
  {
   "cell_type": "markdown",
   "id": "9833b4b8",
   "metadata": {},
   "source": [
    "jika tidak terdapat eror, bisa di lihat bahwa pre-processing data berhasil di lakukan"
   ]
  },
  {
   "cell_type": "markdown",
   "id": "f31e2651",
   "metadata": {},
   "source": [
    "### Confusion Matriks\n",
    "selanjutnya kita akan membuat confusion matriks pada Decision Tree"
   ]
  },
  {
   "cell_type": "code",
   "execution_count": 189,
   "id": "b67f3db0",
   "metadata": {},
   "outputs": [
    {
     "name": "stdout",
     "output_type": "stream",
     "text": [
      "[[10800  1169]\n",
      " [ 1053   542]]\n"
     ]
    }
   ],
   "source": [
    "#confusion matriks\n",
    "\n",
    "matrix = confusion_matrix(y_test, y_pred3)\n",
    "print(matrix)"
   ]
  },
  {
   "cell_type": "markdown",
   "id": "1ed3dbec",
   "metadata": {},
   "source": [
    "bisa di lihat berdasarkan data di atas, bahwa confusion matrix pada data ini menghasilkan nilai 10787 + 556 merupakan nilai untuk prediksi benar dan 1039 + 1182 merupakan nilai untuk prediksi salah"
   ]
  },
  {
   "cell_type": "markdown",
   "id": "5dd5c921",
   "metadata": {},
   "source": [
    "selanjutnya membuat visualisasi pada confusion matriks"
   ]
  },
  {
   "cell_type": "code",
   "execution_count": 190,
   "id": "3f01d4e6",
   "metadata": {},
   "outputs": [
    {
     "data": {
      "image/png": "[encoded data removed]",
      "text/plain": [
       "<Figure size 576x576 with 1 Axes>"
      ]
     },
     "metadata": {
      "needs_background": "light"
     },
     "output_type": "display_data"
    }
   ],
   "source": [
    "#visualisasi confusion matriks\n",
    "\n",
    "cm = confusion_matrix(y_test, y_pred3)\n",
    "\n",
    "fig, ax = plt.subplots(figsize=(8,8))\n",
    "ax.imshow(cm)\n",
    "ax.grid(False)\n",
    "ax.xaxis.set(ticks=(0,1), ticklabels=('Predicted 0s', 'Predicted 1s'))\n",
    "ax.yaxis.set(ticks=(0,1), ticklabels=('Actual 0s', 'Actual 1s'))\n",
    "ax.set_ylim(1.5, -0.5)\n",
    "for i in range(2):\n",
    "    for j in range(2):\n",
    "        ax.text(j, i, cm[i, j], ha='center', va='center', color='red')\n",
    "\n",
    "plt.show()"
   ]
  },
  {
   "cell_type": "markdown",
   "id": "84d24de0",
   "metadata": {},
   "source": [
    "berdasarkan grafik di atas dapat di lihat :\n",
    "\n",
    "terdapat nilai pada confusion matrix pada visualisasi di atas yang bernilai 10787 merupakan nilai prediksi negatif benar dengan pengamat sebagai 0 atau prediksi benar\n",
    "\n",
    "terdapat nilai pada confusion matrix pada visualisasi di atas bernilai 1039 merupakan nilai prediksi negatif salah dengan pengamat sebagai 0 sebagai salah atau diprediksi dengan sebagai 1 atau yes\n",
    "\n",
    "terdapat nilai pada confusion matrix pada visualisasi di atas bernilai 1182 merupakan nilai prediksi positif salah dengan pengamat sebagai 0 sebagai salah atau diprediksi sebagai 1 atau yes\n",
    "\n",
    "terdapat nilai pada confusion matrix pada visualisasi di atas bernilai 556 merupakan nilai prediksi positif benar yang di prediksi dengan benar sebagi 1 atau yes"
   ]
  },
  {
   "cell_type": "markdown",
   "id": "df286ee8",
   "metadata": {},
   "source": [
    "### Evaluasi Model\n",
    "selanjutnya kita akan mengevalusi model training dan mencari tahu berapa accuracy score pada model ini"
   ]
  },
  {
   "cell_type": "code",
   "execution_count": 191,
   "id": "40b06ee4",
   "metadata": {},
   "outputs": [
    {
     "name": "stdout",
     "output_type": "stream",
     "text": [
      "0.8361840165143025\n"
     ]
    }
   ],
   "source": [
    "print(accuracy_score(y_test, y_pred3))"
   ]
  },
  {
   "cell_type": "markdown",
   "id": "4fbc7333",
   "metadata": {},
   "source": [
    "berdasarkan model di atas bahwa model di atas dapat menghasilkan nilai accuracy score atau nilai akurasi terbaik dari Decesion Tree sebesar 0.83 atau 83%"
   ]
  },
  {
   "cell_type": "markdown",
   "id": "4c542311",
   "metadata": {},
   "source": [
    "selanjutnya kita akan melakukan classifacation report"
   ]
  },
  {
   "cell_type": "code",
   "execution_count": 192,
   "id": "dba1a5e5",
   "metadata": {},
   "outputs": [
    {
     "name": "stdout",
     "output_type": "stream",
     "text": [
      "              precision    recall  f1-score   support\n",
      "\n",
      "           0       0.91      0.90      0.91     11969\n",
      "           1       0.32      0.34      0.33      1595\n",
      "\n",
      "    accuracy                           0.84     13564\n",
      "   macro avg       0.61      0.62      0.62     13564\n",
      "weighted avg       0.84      0.84      0.84     13564\n",
      "\n"
     ]
    }
   ],
   "source": [
    "print(classification_report(y_test, y_pred3))"
   ]
  },
  {
   "cell_type": "markdown",
   "id": "6dc82a36",
   "metadata": {},
   "source": [
    "terdapat classifacation report yang berguna untuk mengetahui semua laporan dan informasi pada model training yang telah kita buat tadi seperti terdapat informasi score precision, recall, f1-score dan support, dengan score yang bervariasi"
   ]
  },
  {
   "cell_type": "markdown",
   "id": "b3330950",
   "metadata": {},
   "source": [
    "### Conclusions\n",
    "berdasarkan data yang telah di olah dan di training di dapatkan kesimpulan sebagai berikut :\n",
    "\n",
    "1. confusion matrix pada data ini menghasilkan nilai 10787 + 556 merupakan nilai untuk prediksi benar dan 1039 + 1182 merupakan nilai untuk prediksi salah\n",
    "\n",
    "2. terdapat nilai pada confusion matrix pada visualisasi di atas yang bernilai 10787 merupakan nilai prediksi negatif benar dengan pengamat sebagai 0 atau prediksi benar\n",
    "\n",
    "- terdapat nilai pada confusion matrix pada visualisasi di atas bernilai 1039 merupakan nilai prediksi negatif salah dengan pengamat sebagai 0 sebagai salah atau diprediksi dengan sebagai 1 atau yes\n",
    "\n",
    "- terdapat nilai pada confusion matrix pada visualisasi di atas bernilai 1182 merupakan nilai prediksi positif salah dengan pengamat sebagai 0 sebagai salah atau diprediksi sebagai 1 atau yes\n",
    "\n",
    "- terdapat nilai pada confusion matrix pada visualisasi di atas bernilai 556 merupakan nilai prediksi positif benar yang di prediksi dengan benar sebagi 1 atau yes\n",
    "\n",
    "3. berdasarkan model di atas bahwa model di atas dapat menghasilkan nilai accuracy score atau nilai akurasi terbaik dari Decesion Tree sebesar 0.83 atau 83%\n",
    "\n",
    "4. terdapat classifacation report yang berguna untuk mengetahui semua laporan dan informasi pada model training yang telah kita buat tadi seperti terdapat informasi score precision, recall, f1-score dan support, dengan score yang bervariasi\n",
    " "
   ]
  },
  {
   "cell_type": "markdown",
   "id": "5904b41a",
   "metadata": {},
   "source": [
    "## Random Forest\n"
   ]
  },
  {
   "cell_type": "markdown",
   "id": "7991631d",
   "metadata": {},
   "source": [
    "### Pre-Processing Data \n",
    "pertama kita akan melakukan pre processing data Random Forest pada program kita"
   ]
  },
  {
   "cell_type": "code",
   "execution_count": 193,
   "id": "77d56e4c",
   "metadata": {},
   "outputs": [
    {
     "name": "stdout",
     "output_type": "stream",
     "text": [
      "preprocessing successful\n"
     ]
    }
   ],
   "source": [
    "#menentukan model klasifikasi\n",
    "rf = RandomForestClassifier()\n",
    "\n",
    "#training model\n",
    "rf.fit(X_train, y_train)\n",
    "\n",
    "#prediksi respon untuk dataset test\n",
    "y_pred4 = rf.predict(X_test)\n",
    "\n",
    "print('preprocessing successful')"
   ]
  },
  {
   "cell_type": "markdown",
   "id": "769350bf",
   "metadata": {},
   "source": [
    "jika tidak terdapat eror, bisa di lihat bahwa pre-processing data berhasil di lakukan"
   ]
  },
  {
   "cell_type": "markdown",
   "id": "3048e3fe",
   "metadata": {},
   "source": [
    "### Confusion Matriks\n",
    "selanjutnya kita akan membuat confusion matriks pada Random Forest"
   ]
  },
  {
   "cell_type": "code",
   "execution_count": 194,
   "id": "a4508a83",
   "metadata": {},
   "outputs": [
    {
     "name": "stdout",
     "output_type": "stream",
     "text": [
      "[[11702   267]\n",
      " [ 1236   359]]\n"
     ]
    }
   ],
   "source": [
    "#confusion matriks\n",
    "\n",
    "matrix = confusion_matrix(y_test, y_pred4)\n",
    "print(matrix)"
   ]
  },
  {
   "cell_type": "markdown",
   "id": "ec96ec8b",
   "metadata": {},
   "source": [
    "bisa di lihat berdasarkan data di atas, bahwa confusion matrix pada data ini menghasilkan nilai 11702 + 359 merupakan nilai untuk prediksi benar dan 1236 + 267 merupakan nilai untuk prediksi salah"
   ]
  },
  {
   "cell_type": "markdown",
   "id": "83b48984",
   "metadata": {},
   "source": [
    "selanjutnya membuat visualisasi pada confusion matriks"
   ]
  },
  {
   "cell_type": "code",
   "execution_count": 195,
   "id": "4824b069",
   "metadata": {},
   "outputs": [
    {
     "data": {
      "image/png": "[encoded data removed]",
      "text/plain": [
       "<Figure size 576x576 with 1 Axes>"
      ]
     },
     "metadata": {
      "needs_background": "light"
     },
     "output_type": "display_data"
    }
   ],
   "source": [
    "#visualisasi confusion matriks\n",
    "\n",
    "cm = confusion_matrix(y_test, y_pred4)\n",
    "\n",
    "fig, ax = plt.subplots(figsize=(8,8))\n",
    "ax.imshow(cm)\n",
    "ax.grid(False)\n",
    "ax.xaxis.set(ticks=(0,1), ticklabels=('Predicted 0s', 'Predicted 1s'))\n",
    "ax.yaxis.set(ticks=(0,1), ticklabels=('Actual 0s', 'Actual 1s'))\n",
    "ax.set_ylim(1.5, -0.5)\n",
    "for i in range(2):\n",
    "    for j in range(2):\n",
    "        ax.text(j, i, cm[i, j], ha='center', va='center', color='red')\n",
    "\n",
    "plt.show()"
   ]
  },
  {
   "cell_type": "markdown",
   "id": "0501bde4",
   "metadata": {},
   "source": [
    "berdasarkan grafik di atas dapat di lihat :\n",
    "\n",
    "terdapat nilai pada confusion matrix pada visualisasi di atas yang bernilai 11702 merupakan nilai prediksi negatif benar dengan pengamat sebagai 0 atau prediksi benar\n",
    "\n",
    "terdapat nilai pada confusion matrix pada visualisasi di atas bernilai 1236 merupakan nilai prediksi negatif salah dengan pengamat sebagai 0 sebagai salah atau diprediksi dengan sebagai 1 atau yes\n",
    "\n",
    "terdapat nilai pada confusion matrix pada visualisasi di atas bernilai 267 merupakan nilai prediksi positif salah dengan pengamat sebagai 0 sebagai salah atau diprediksi sebagai 1 atau yes\n",
    "\n",
    "terdapat nilai pada confusion matrix pada visualisasi di atas bernilai 359 merupakan nilai prediksi positif benar yang di prediksi dengan benar sebagi 1 atau yes"
   ]
  },
  {
   "cell_type": "markdown",
   "id": "89d8c9b0",
   "metadata": {},
   "source": [
    "### Evaluasi Model\n",
    "selanjutnya kita akan mengevalusi model training dan mencari tahu berapa accuracy score pada model ini"
   ]
  },
  {
   "cell_type": "code",
   "execution_count": 197,
   "id": "6feb8f3d",
   "metadata": {},
   "outputs": [
    {
     "name": "stdout",
     "output_type": "stream",
     "text": [
      "0.8891919787673253\n"
     ]
    }
   ],
   "source": [
    "#melihat nilai accuracy\n",
    "\n",
    "print(accuracy_score(y_test, y_pred4))"
   ]
  },
  {
   "cell_type": "markdown",
   "id": "7669427a",
   "metadata": {},
   "source": [
    "berdasarkan model di atas bahwa model di atas dapat menghasilkan nilai accuracy score atau nilai akurasi terbaik dari Random Forest sebesar 0.88 atau 88%"
   ]
  },
  {
   "cell_type": "markdown",
   "id": "eeb0d4b1",
   "metadata": {},
   "source": [
    "selanjutnya kita akan melakukan classifacation report\n",
    "\n"
   ]
  },
  {
   "cell_type": "code",
   "execution_count": 198,
   "id": "ee12d1f6",
   "metadata": {},
   "outputs": [
    {
     "name": "stdout",
     "output_type": "stream",
     "text": [
      "              precision    recall  f1-score   support\n",
      "\n",
      "           0       0.91      0.90      0.91     11969\n",
      "           1       0.32      0.34      0.33      1595\n",
      "\n",
      "    accuracy                           0.84     13564\n",
      "   macro avg       0.61      0.62      0.62     13564\n",
      "weighted avg       0.84      0.84      0.84     13564\n",
      "\n"
     ]
    }
   ],
   "source": [
    "print(classification_report(y_test, y_pred3))"
   ]
  },
  {
   "cell_type": "markdown",
   "id": "64fcd763",
   "metadata": {},
   "source": [
    "terdapat classifacation report yang berguna untuk mengetahui semua laporan dan informasi pada model training yang telah kita buat tadi seperti terdapat informasi score precision, recall, f1-score dan support, dengan score yang bervariasi"
   ]
  },
  {
   "cell_type": "markdown",
   "id": "d90d8735",
   "metadata": {},
   "source": [
    "### Conclusions \n",
    "1. bisa di lihat berdasarkan data di atas, bahwa confusion matrix pada data ini menghasilkan nilai 11702 + 359 merupakan nilai untuk prediksi benar dan 1236 + 267 merupakan nilai untuk prediksi salah\n",
    "\n",
    "2. terdapat nilai pada confusion matrix pada visualisasi di atas yang bernilai 11702 merupakan nilai prediksi negatif benar dengan pengamat sebagai 0 atau prediksi benar\n",
    "\n",
    "- terdapat nilai pada confusion matrix pada visualisasi di atas bernilai 1236 merupakan nilai prediksi negatif salah dengan pengamat sebagai 0 sebagai salah atau diprediksi dengan sebagai 1 atau yes\n",
    "\n",
    "- terdapat nilai pada confusion matrix pada visualisasi di atas bernilai 267 merupakan nilai prediksi positif salah dengan pengamat sebagai 0 sebagai salah atau diprediksi sebagai 1 atau yes\n",
    "\n",
    "- terdapat nilai pada confusion matrix pada visualisasi di atas bernilai 359 merupakan nilai prediksi positif benar yang di prediksi dengan benar sebagi 1 atau yes\n",
    "\n",
    "3. berdasarkan model di atas bahwa model di atas dapat menghasilkan nilai accuracy score atau nilai akurasi terbaik dari Random Forest sebesar 0.88 atau 88%\n",
    "\n",
    "4. terdapat classifacation report yang berguna untuk mengetahui semua laporan dan informasi pada model training yang telah kita buat tadi seperti terdapat informasi score precision, recall, f1-score dan support, dengan score yang bervariasi"
   ]
  },
  {
   "cell_type": "markdown",
   "id": "b84ee309",
   "metadata": {},
   "source": [
    "## Naive Bayes"
   ]
  },
  {
   "cell_type": "markdown",
   "id": "5bef9e68",
   "metadata": {},
   "source": [
    "### Pre-Processing Data\n",
    "pertama kita akan melakukan pre processing data Naive Bayes pada program kita"
   ]
  },
  {
   "cell_type": "code",
   "execution_count": 200,
   "id": "6a600d33",
   "metadata": {},
   "outputs": [
    {
     "name": "stdout",
     "output_type": "stream",
     "text": [
      "preprocessing successful\n"
     ]
    }
   ],
   "source": [
    "#menentukan model klasifikasi\n",
    "nb = GaussianNB()\n",
    "\n",
    "#training model\n",
    "nb.fit(X_train, y_train)\n",
    "\n",
    "#prediksi respon untuk dataset test\n",
    "y_pred5 = nb.predict(X_test)\n",
    "\n",
    "print('preprocessing successful')"
   ]
  },
  {
   "cell_type": "markdown",
   "id": "90e3d64c",
   "metadata": {},
   "source": [
    "jika tidak terdapat eror, bisa di lihat bahwa pre-processing data berhasil di lakukan"
   ]
  },
  {
   "cell_type": "markdown",
   "id": "40fe5924",
   "metadata": {},
   "source": [
    "### Confusion Matriks \n",
    "selanjutnya kita akan membuat confusion matriks pada Naive Bayes"
   ]
  },
  {
   "cell_type": "code",
   "execution_count": 201,
   "id": "c9fb60ad",
   "metadata": {},
   "outputs": [
    {
     "name": "stdout",
     "output_type": "stream",
     "text": [
      "[[10816  1153]\n",
      " [  951   644]]\n"
     ]
    }
   ],
   "source": [
    "#confusion matriks\n",
    "\n",
    "matrix = confusion_matrix(y_test, y_pred5)\n",
    "print(matrix)"
   ]
  },
  {
   "cell_type": "markdown",
   "id": "64e26565",
   "metadata": {},
   "source": [
    "bisa di lihat berdasarkan data di atas, bahwa confusion matrix pada data ini menghasilkan nilai 10816 + 644 merupakan nilai untuk prediksi benar dan 951 + 1153 merupakan nilai untuk prediksi salah"
   ]
  },
  {
   "cell_type": "markdown",
   "id": "31690223",
   "metadata": {},
   "source": [
    "selanjutnya membuat visualisasi pada confusion matriks"
   ]
  },
  {
   "cell_type": "code",
   "execution_count": 202,
   "id": "3749bfb9",
   "metadata": {},
   "outputs": [
    {
     "data": {
      "image/png": "[encoded data removed]",
      "text/plain": [
       "<Figure size 576x576 with 1 Axes>"
      ]
     },
     "metadata": {
      "needs_background": "light"
     },
     "output_type": "display_data"
    }
   ],
   "source": [
    "#visualisasi confusion matriks\n",
    "\n",
    "cm = confusion_matrix(y_test, y_pred5)\n",
    "\n",
    "fig, ax = plt.subplots(figsize=(8,8))\n",
    "ax.imshow(cm)\n",
    "ax.grid(False)\n",
    "ax.xaxis.set(ticks=(0,1), ticklabels=('Predicted 0s', 'Predicted 1s'))\n",
    "ax.yaxis.set(ticks=(0,1), ticklabels=('Actual 0s', 'Actual 1s'))\n",
    "ax.set_ylim(1.5, -0.5)\n",
    "for i in range(2):\n",
    "    for j in range(2):\n",
    "        ax.text(j, i, cm[i, j], ha='center', va='center', color='red')\n",
    "\n",
    "plt.show()"
   ]
  },
  {
   "cell_type": "markdown",
   "id": "16b38451",
   "metadata": {},
   "source": [
    "berdasarkan grafik di atas dapat di lihat :\n",
    "\n",
    "terdapat nilai pada confusion matrix pada visualisasi di atas yang bernilai 10816 merupakan nilai prediksi negatif benar dengan pengamat sebagai 0 atau prediksi benar\n",
    "\n",
    "terdapat nilai pada confusion matrix pada visualisasi di atas bernilai 951 merupakan nilai prediksi negatif salah dengan pengamat sebagai 0 sebagai salah atau diprediksi dengan sebagai 1 atau yes\n",
    "\n",
    "terdapat nilai pada confusion matrix pada visualisasi di atas bernilai 1153 merupakan nilai prediksi positif salah dengan pengamat sebagai 0 sebagai salah atau diprediksi sebagai 1 atau yes\n",
    "\n",
    "terdapat nilai pada confusion matrix pada visualisasi di atas bernilai 644 merupakan nilai prediksi positif benar yang di prediksi dengan benar sebagi 1 atau yes"
   ]
  },
  {
   "cell_type": "markdown",
   "id": "8dc8d897",
   "metadata": {},
   "source": [
    "### Evaluasi Model\n",
    "selanjutnya kita akan mengevalusi model training dan mencari tahu berapa accuracy score pada model ini"
   ]
  },
  {
   "cell_type": "code",
   "execution_count": 203,
   "id": "4a0b7fd3",
   "metadata": {},
   "outputs": [
    {
     "name": "stdout",
     "output_type": "stream",
     "text": [
      "0.8448835151872603\n"
     ]
    }
   ],
   "source": [
    "print(accuracy_score(y_test, y_pred5))"
   ]
  },
  {
   "cell_type": "markdown",
   "id": "78143aeb",
   "metadata": {},
   "source": [
    "berdasarkan model di atas bahwa model di atas dapat menghasilkan nilai accuracy score atau nilai akurasi terbaik dari Naive Bayes sebesar 0.84 atau 84%"
   ]
  },
  {
   "cell_type": "markdown",
   "id": "67c220f3",
   "metadata": {},
   "source": [
    "selanjutnya kita akan melakukan classifacation report"
   ]
  },
  {
   "cell_type": "code",
   "execution_count": 204,
   "id": "053e4714",
   "metadata": {},
   "outputs": [
    {
     "name": "stdout",
     "output_type": "stream",
     "text": [
      "              precision    recall  f1-score   support\n",
      "\n",
      "           0       0.92      0.90      0.91     11969\n",
      "           1       0.36      0.40      0.38      1595\n",
      "\n",
      "    accuracy                           0.84     13564\n",
      "   macro avg       0.64      0.65      0.65     13564\n",
      "weighted avg       0.85      0.84      0.85     13564\n",
      "\n"
     ]
    }
   ],
   "source": [
    "\n",
    "\n",
    "print(classification_report(y_test, y_pred5))"
   ]
  },
  {
   "cell_type": "markdown",
   "id": "986de1bc",
   "metadata": {},
   "source": [
    "terdapat classifacation report yang berguna untuk mengetahui semua laporan dan informasi pada model training yang telah kita buat tadi seperti terdapat informasi score precision, recall, f1-score dan support, dengan score yang bervariasi"
   ]
  },
  {
   "cell_type": "markdown",
   "id": "74f70912",
   "metadata": {},
   "source": [
    "### Conclusions :\n",
    "1. confusion matrix pada data ini menghasilkan nilai 10816 + 644 merupakan nilai untuk prediksi benar dan 951 + 1153 merupakan nilai untuk prediksi salah\n",
    "2. terdapat nilai pada confusion matrix pada visualisasi di atas yang bernilai 10816 merupakan nilai prediksi negatif benar dengan pengamat sebagai 0 atau prediksi benar\n",
    "\n",
    "- terdapat nilai pada confusion matrix pada visualisasi di atas bernilai 951 merupakan nilai prediksi negatif salah dengan pengamat sebagai 0 sebagai salah atau diprediksi dengan sebagai 1 atau yes\n",
    "\n",
    "- terdapat nilai pada confusion matrix pada visualisasi di atas bernilai 1153 merupakan nilai prediksi positif salah dengan pengamat sebagai 0 sebagai salah atau diprediksi sebagai 1 atau yes\n",
    "\n",
    "- terdapat nilai pada confusion matrix pada visualisasi di atas bernilai 644 merupakan nilai prediksi positif benar yang di prediksi dengan benar sebagi 1 atau yes\n",
    "3. berdasarkan model di atas bahwa model di atas dapat menghasilkan nilai accuracy score atau nilai akurasi terbaik dari Naive Bayes sebesar 0.84 atau 84%\n",
    "4. terdapat classifacation report yang berguna untuk mengetahui semua laporan dan informasi pada model training yang telah kita buat tadi seperti terdapat informasi score precision, recall, f1-score dan support, dengan score yang bervariasi"
   ]
  },
  {
   "cell_type": "markdown",
   "id": "7b3d8f34",
   "metadata": {},
   "source": [
    "## Algoritm Analysis \n",
    "dalam membuat Machine Learning terdapat banyak algoritma yang bisa di pakai.  dalam project atau assegment pada kali ini memakai 6 algoritma yang telah di tetapkan dan di terapkan pada kode program models yang telah kita buat . setelah di lakukan training test dan mencari accuracy score pada 6 alogritma tersebut saya membuat data frame yang berisi perbandingan tiap models algoritma  dan perbandingan accuracy score bisa di lihat seperti di bawah ini : "
   ]
  },
  {
   "cell_type": "code",
   "execution_count": 215,
   "id": "44b3cc8a",
   "metadata": {},
   "outputs": [
    {
     "data": {
      "text/html": [
       "<div>\n",
       "<style scoped>\n",
       "    .dataframe tbody tr th:only-of-type {\n",
       "        vertical-align: middle;\n",
       "    }\n",
       "\n",
       "    .dataframe tbody tr th {\n",
       "        vertical-align: top;\n",
       "    }\n",
       "\n",
       "    .dataframe thead th {\n",
       "        text-align: right;\n",
       "    }\n",
       "</style>\n",
       "<table border=\"1\" class=\"dataframe\">\n",
       "  <thead>\n",
       "    <tr style=\"text-align: right;\">\n",
       "      <th></th>\n",
       "      <th>Algoritm Models</th>\n",
       "      <th>Accuracy Score</th>\n",
       "    </tr>\n",
       "  </thead>\n",
       "  <tbody>\n",
       "    <tr>\n",
       "      <th>0</th>\n",
       "      <td>Logistic Regression</td>\n",
       "      <td>0.88904</td>\n",
       "    </tr>\n",
       "    <tr>\n",
       "      <th>1</th>\n",
       "      <td>K-Nearst Neighbors</td>\n",
       "      <td>0.87717</td>\n",
       "    </tr>\n",
       "    <tr>\n",
       "      <th>2</th>\n",
       "      <td>Support Vector Machine</td>\n",
       "      <td>0.88263</td>\n",
       "    </tr>\n",
       "    <tr>\n",
       "      <th>3</th>\n",
       "      <td>Decision Tree</td>\n",
       "      <td>0.83618</td>\n",
       "    </tr>\n",
       "    <tr>\n",
       "      <th>4</th>\n",
       "      <td>Random Forest</td>\n",
       "      <td>0.88919</td>\n",
       "    </tr>\n",
       "    <tr>\n",
       "      <th>5</th>\n",
       "      <td>Naive Bayes</td>\n",
       "      <td>0.84488</td>\n",
       "    </tr>\n",
       "  </tbody>\n",
       "</table>\n",
       "</div>"
      ],
      "text/plain": [
       "          Algoritm Models Accuracy Score\n",
       "0     Logistic Regression        0.88904\n",
       "1      K-Nearst Neighbors        0.87717\n",
       "2  Support Vector Machine        0.88263\n",
       "3           Decision Tree        0.83618\n",
       "4           Random Forest        0.88919\n",
       "5             Naive Bayes        0.84488"
      ]
     },
     "execution_count": 215,
     "metadata": {},
     "output_type": "execute_result"
    }
   ],
   "source": [
    "pb = pd.DataFrame([{'Algoritm Models' : 'Logistic Regression', 'Accuracy Score' : '0.88904'},\n",
    "                   {'Algoritm Models' : 'K-Nearst Neighbors', 'Accuracy Score' : '0.87717'},\n",
    "                   {'Algoritm Models' : 'Support Vector Machine', 'Accuracy Score' : '0.88263'},\n",
    "                   {'Algoritm Models' : 'Decision Tree', 'Accuracy Score' : '0.83618'},\n",
    "                   {'Algoritm Models' : 'Random Forest', 'Accuracy Score' : '0.88919'},\n",
    "                   {'Algoritm Models' : 'Naive Bayes', 'Accuracy Score' : '0.84488'}])\n",
    "pb"
   ]
  },
  {
   "cell_type": "markdown",
   "id": "fe565695",
   "metadata": {},
   "source": [
    "setelah membuat data frame dan membandingkan Accuracy Score dan Models Algoritma pada Machine Learning, maka  saya memilih model algoritma Random Forest di karnakan memiliki Accuracy Score yang paling tinggi di bandingkan dengan model algoritma lainnya."
   ]
  },
  {
   "cell_type": "code",
   "execution_count": null,
   "id": "b66b86ae",
   "metadata": {},
   "outputs": [],
   "source": []
  }
 ],
 "metadata": {
  "kernelspec": {
   "display_name": "Python 3 (ipykernel)",
   "language": "python",
   "name": "python3"
  },
  "language_info": {
   "codemirror_mode": {
    "name": "ipython",
    "version": 3
   },
   "file_extension": ".py",
   "mimetype": "text/x-python",
   "name": "python",
   "nbconvert_exporter": "python",
   "pygments_lexer": "ipython3",
   "version": "3.9.12"
  }
 },
 "nbformat": 4,
 "nbformat_minor": 5
}
