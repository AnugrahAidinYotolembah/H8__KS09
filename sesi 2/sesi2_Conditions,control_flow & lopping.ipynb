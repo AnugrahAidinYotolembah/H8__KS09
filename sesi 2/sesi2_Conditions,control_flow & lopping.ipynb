{
 "cells": [
  {
   "cell_type": "markdown",
   "id": "421831a9",
   "metadata": {},
   "source": [
    "SESI 2 CONDITIONS,CONTROL_FLOW & LOPPING"
   ]
  },
  {
   "cell_type": "markdown",
   "id": "fe97005a",
   "metadata": {},
   "source": [
    "# percabangan atau kondisi  di dalam bahasa python meliputi :\n",
    "1. percabangan if \n",
    "   digunakan untuk mengantisipasi kondisi yang terjadi saat jalanya program dan menentukan tindakan apa yang akan diambil    \n",
    "   sesuai dengan kondisi. (if) digunakan untuk mengeksekusi kode jika kondisi bernilai benar True. Jika kondisi bernilai salah   \n",
    "   (False) maka statement/kondisi if tidak akan di-eksekusi.\n",
    "   \n",
    "2. Percabangan else if\n",
    "   Pengambilan keputusan (kondisi if else) tidak hanya digunakan untuk menentukan tindakan apa yang akan diambil sesuai dengan kondisi, \n",
    "   tetapi juga digunakan untuk menentukan tindakan apa yang akan diambil/dijalankan jika kondisi tidak sesuai.\n",
    "\n",
    "3. Percabangan elif\n",
    "   Pengambilan keputusan (kondisi if elif) merupakan lanjutan/percabangan logika dari “kondisi if”. \n",
    "   Dengan elif kita bisa membuat kode program yang akan menyeleksi beberapa kemungkinan yang bisa terjadi. \n",
    "   Hampir sama dengan kondisi “else”, bedanya kondisi “elif” bisa banyak dan tidak hanya satu.\n",
    "\n",
    "\n"
   ]
  },
  {
   "cell_type": "code",
   "execution_count": null,
   "id": "c9148755",
   "metadata": {},
   "outputs": [],
   "source": [
    "'''\n",
    "Conditional\n",
    "python mendukung logical conditions yang biasa dipakai dalam matematika :\n",
    "\n",
    "Equals:a == b\n",
    "Not Equals:a != b\n",
    "less than : a < b\n",
    "less than or qual to : a <= b\n",
    "greater than : a > b\n",
    "greater than or equal to : a >= b\n",
    "these conditions can be used in several ways, most commonly in \" if statement\" and lopps\n",
    "\n",
    "'''"
   ]
  },
  {
   "cell_type": "code",
   "execution_count": 16,
   "id": "6821ca3c",
   "metadata": {},
   "outputs": [
    {
     "name": "stdout",
     "output_type": "stream",
     "text": [
      "yes\n",
      "yes\n",
      "yes\n",
      "found\n",
      "Mow the lawn\n",
      "Weed the garden\n",
      "Take the dog for a walk\n"
     ]
    }
   ],
   "source": [
    "'''\n",
    "Introductio to he if statement\n",
    "kita akan mulai dengan melihat tipe pernyataan if yang paling dasar. dalam bentuknya yang paling sederhana terlihat seperti ini :\n",
    "\n",
    "if <expr>:\n",
    "     statement>\n",
    "     \n",
    "<expr> is an expression evaluated in boolean context\n",
    "<statement> is a valid python statement, which must be indented\n",
    "\n",
    "jika <expr> benar(mengevaluasi ke nilai 'truthy'), maka <statement> akan dieksekusi.\n",
    "jika <expr> salah, maka <statement> dilewati dan tidak dieksekusi\n",
    "\n",
    "perhatikan bahwa titik dua (:) setelah <expr> diperlukan. beberapa bahasa pemogrman\n",
    "mengharuskan <expr> diapit tanda kurung, tetapi python tidak\n",
    "'''\n",
    "\n",
    "# example\n",
    "\n",
    "x = 0\n",
    "y = 5\n",
    "\n",
    "if x < y:\n",
    "    print('yes') #Trusthy (bernilai benar)\n",
    "                 #ini menjelaskan bahwa jika nilai x lebih kecil dari nilai y maka yang akan di inputkan itu yes\n",
    "                 # karna variable x bernilai 0 dan lebih kecil dari variable y bernilai 5. maka di tampilkan yes\n",
    "\n",
    "\n",
    "if y < x:\n",
    "    print('yes') #Falsy (bernilai tidak benar)\n",
    "                 #ini menjelaskan bahwa nilai y tidak lebih kecil dari nilai x\n",
    "\n",
    "        \n",
    "if x:\n",
    "    print('yes') #falsy\n",
    "    \n",
    "\n",
    "if y:      \n",
    "    print('yes') #Truthy\n",
    "\n",
    "\n",
    "if 'aul' in 'grault':\n",
    "    print('yes')       # Truthy\n",
    "                       #ini menjelaskan bahwa apakah ada kata aul di dalam kata grault, jika ada tampilkan yes, di sini ada kata aul di dalam grault\n",
    "\n",
    "    \n",
    "if 'quux' in ['foo', 'bar', 'baz']:\n",
    "    print('yes')                      #Falsy\n",
    "                                      #ini menjelaskan bahwa kata quux apakah ada di dalam list array, \n",
    "                                      #di sini kata qux tidak ada di dalam list, jadinya tidak akan di tampilakn yes\n",
    "\n",
    "            \n",
    "keyword = 'bed'\n",
    "words = ['bed', 'Time', 'Stories']\n",
    "\n",
    "if keyword in words:\n",
    "    print('found')                    #ini menjelaskan bahwa apakah nilai dari variable keyword ada di dalam list variable words, jika ada tampilkan found\n",
    "\n",
    "\n",
    "# keyword = 'hello'\n",
    "# words = ['bed', 'Time', 'Stories']\n",
    "\n",
    "# if keyword in words:\n",
    "#     print('found')\n",
    "\n",
    "\n",
    "\n",
    "weather = 'arde'\n",
    "\n",
    "if weather == 'arde':\n",
    "    print('Mow the lawn')\n",
    "    print('Weed the garden')\n",
    "    print('Take the dog for a walk') "
   ]
  },
  {
   "cell_type": "code",
   "execution_count": 24,
   "id": "51908f61",
   "metadata": {},
   "outputs": [
    {
     "name": "stdout",
     "output_type": "stream",
     "text": [
      "After conditional\n",
      "Outer condition is true\n",
      "End of outer condition\n"
     ]
    }
   ],
   "source": [
    "'''\n",
    "Python : it's All About the Indentation\n",
    "\n",
    "Python mengikuti konvensi yang dikenal sebagai off - side rule, \n",
    "istilah yang diciptakan oleh komputer inggris.\n",
    "\n",
    "indentasi digunakan untuk mendefinisikan pernyataan atau blok. dalam program python, \n",
    "pernyataan yang menjorok ke tingkat yang sama dianggap sebagai bagian dari blok yang sama\n",
    "jadi, pernyataan majemuk if dengan python terlihat seperti ini :\n",
    "\n",
    "\n",
    "if <expr>:\n",
    "     <statement>\n",
    "     <statement>\n",
    "     ...\n",
    "     <statement>\n",
    "<following_statement>\n",
    "'''\n",
    "\n",
    "# example 1\n",
    "\n",
    "if 'foo' in ['bar', 'baz', 'qux']:          # ini menjelaskan bahwa apakah kata foo ada di dalam list yang telah disediakan ? \n",
    "                                          # jika ada statement yang di buat akan di tampilkan, jika tidak ada, dia langsung menuju ke paling bawah atau following_statemnt (after conditional)\n",
    "    print('Expresision was true')\n",
    "    print('Executing statement in suite')\n",
    "    print('...')\n",
    "    print('Done')\n",
    "print('After conditional')\n",
    "\n",
    "'''\n",
    "empat pernyataan print() pada baris 2 hingga 5 menjorok ke tingkat yang sama satu sama lain.\n",
    "mereka merupakan blok yang akan dieksekusi jika kondisinya benar. tapi itu salah, jadi semua\n",
    "pernyataan di blok itu dilewati. setelah akhir dari if statement telah tercapai(tidak peduli pernyaatan)\n",
    "dalam blok pada baris 2 sampai 5 dieksekusi atau tidak), eksekusi dilanjutkan ke pernyataan pertama yang memiliki\n",
    "tingkat indentasi yang lebih rendah : pernyataan print() pada baris 6\n",
    "\n",
    "blok dapat di nest hingga kedalaman berapapun setiap indentasi mendifinisikan blok baru, dan \n",
    "setiap outdent mengakhiri blok sebelumnya, hasilnya struktur yang dihasilkan sangat jelas konsisten dan intuitif\n",
    "\n",
    "'''\n",
    "\n",
    "# example 2\n",
    "\n",
    "if 'foo' in ['foo', 'bar', 'qux', 'quux']:\n",
    "    print('Outer condition is true')        #bernilai truty (benar) karna foo ada di dalam list dan di jalakan printnya\n",
    "\n",
    "\n",
    "if 10 > 20:\n",
    "    print('Inner condition 1')             # bernilai falsy (salah) karna 10 bukan lebih besar dari 20 melainkan 10 lebih kecil dari 20, jadi printnya tidak di jalankan\n",
    "\n",
    "\n",
    "print('End of outer condition')            # ini bisa di print di karnakan di luar indentasi 10 > 20\n"
   ]
  },
  {
   "cell_type": "markdown",
   "id": "a26d6624",
   "metadata": {},
   "source": [
    "THE ELSE AND ELIF CLAUSES\n",
    "\n",
    "terkadang, kalian ingin mengevaluasi suatu kondisi dan mengambil satu jalur jika benar, tetapi menentukan jalur alternatif jika tidak benar. ini dapat di lakukan dengan klausa else:\n",
    "\n",
    "contoh teori :\n",
    "\n",
    "if <expr>:\n",
    "    <statement(s)>\n",
    "\n",
    "else :\n",
    "        <statement(s)>"
   ]
  },
  {
   "cell_type": "code",
   "execution_count": 27,
   "id": "52c9afbc",
   "metadata": {},
   "outputs": [
    {
     "name": "stdout",
     "output_type": "stream",
     "text": [
      "(first suite)\n",
      "(x is small)\n"
     ]
    }
   ],
   "source": [
    "# example\n",
    "\n",
    "x = 20\n",
    "\n",
    "if x < 50:                     # ini menjelaskan bahwa jika variable x yang nilainya 20 lebih kecil dari 50 maka print yang berada di if\n",
    "                               # jika variable x yang nilainya 70 lebih besar dari nilai 50 maka print yang berada di else\n",
    "    print('(first suite)')\n",
    "    print('(x is small)')\n",
    "\n",
    "else:\n",
    "    print('(second suite)')\n",
    "    print('x is large')"
   ]
  },
  {
   "cell_type": "code",
   "execution_count": 28,
   "id": "a949dca7",
   "metadata": {},
   "outputs": [
    {
     "name": "stdout",
     "output_type": "stream",
     "text": [
      "uang tidak cukup\n"
     ]
    }
   ],
   "source": [
    "harga_buku = 20000\n",
    "harga_majalah = 5000\n",
    "uang = 2000\n",
    "\n",
    "if uang > harga_buku:\n",
    "    print('beli buku')\n",
    "\n",
    "else:\n",
    "    print('uang tidak cukup')\n",
    "\n",
    "# ini menjelaskan bahwa ada variable harga buku 20000 dan harga majalah 5000\n",
    "# dan uang 2000, jika uang lebih besar dari harga buku, maka bisa beli buku\n",
    "# jika uang tidak cukup (else) untuk membeli buku dan majalah, maka tidak cukup"
   ]
  },
  {
   "cell_type": "code",
   "execution_count": 32,
   "id": "457a6a85",
   "metadata": {},
   "outputs": [
    {
     "name": "stdout",
     "output_type": "stream",
     "text": [
      "beli majalah\n"
     ]
    }
   ],
   "source": [
    "'''\n",
    "ada juga sintaks untuk eksekusi percabangan berdasarkan beberapa alternatif. untuk ini\n",
    "gunakan satu atau lebih klausa elif (kependekan dari else if). python mengevaulasi setiap <expr>\n",
    "secara bergantian dan menjalankan suite yang sesuai dengan yang pertama benar. jika tidak ada ekspresi\n",
    "yang benar, dan klause else ada disana\n",
    "\n",
    "\n",
    "if <expr>:\n",
    "    <statement(s)>\n",
    "elif <expr>:\n",
    "    <statement(s)>\n",
    "elif <expr>:\n",
    "    statement(s)>\n",
    "    ...\n",
    "\n",
    "else:\n",
    "    <statement(s)>\n",
    "    \n",
    "'''\n",
    "\n",
    "# example 1\n",
    "\n",
    "harga_buku = 20000\n",
    "harga_majalah = 5000\n",
    "uang = 7000\n",
    "\n",
    "if uang > harga_buku:\n",
    "    print('beli buku')\n",
    "elif uang > harga_majalah:\n",
    "    print('beli majalah')\n",
    "\n",
    "else:\n",
    "    print('uang tidak cukup')\n",
    "\n",
    "\n"
   ]
  },
  {
   "cell_type": "code",
   "execution_count": 33,
   "id": "5032fc3f",
   "metadata": {},
   "outputs": [
    {
     "name": "stdout",
     "output_type": "stream",
     "text": [
      "hello Hacktiv8\n"
     ]
    }
   ],
   "source": [
    " # example 2\n",
    "\n",
    "name = 'Hacktiv8'\n",
    "\n",
    "if name == 'fred':\n",
    "    print('hello fred')\n",
    "elif name == 'didi':\n",
    "    print('hello didi')\n",
    "elif name == 'sehan':\n",
    "    print('hello sehan')\n",
    "elif name == 'Hacktiv8':\n",
    "    print('hello Hacktiv8')\n",
    "\n",
    "else:\n",
    "    print(\"i don't know who you are\")\n"
   ]
  },
  {
   "cell_type": "code",
   "execution_count": 76,
   "id": "9d1e8dbe",
   "metadata": {},
   "outputs": [
    {
     "name": "stdout",
     "output_type": "stream",
     "text": [
      "masukkan nilai : 50\n",
      "siswa mendapatkan nilai E\n"
     ]
    }
   ],
   "source": [
    "# example 3\n",
    "\n",
    "nilai_siswa = int(input('masukkan nilai : '))\n",
    "\n",
    "if nilai_siswa >= 90:\n",
    "    print('siswa mendapatkan nilai A')\n",
    "elif nilai_siswa >= 80:\n",
    "    print('siswa mendapatkan nilai B')\n",
    "elif nilai_siswa >= 70:\n",
    "    print('siswa mendapatkan nilai C')\n",
    "elif nilai_siswa >= 60:\n",
    "    print('siswa mendapatkan nilai D')\n",
    "\n",
    "else:\n",
    "    print('siswa mendapatkan nilai E')\n"
   ]
  },
  {
   "cell_type": "markdown",
   "id": "1502e400",
   "metadata": {},
   "source": [
    "One-Line if statements\n",
    "biasanya <expr> ditulis dalam satu baris dan <statement> di indentasi pada baris berikut seperti ini :\n",
    "    \n",
    "    if <expr>:\n",
    "        <statement>\n",
    "\n",
    "tetapi diperbolehkan untuk menulis seluruh pernyataan if dalam satu baris, berikut ini secara yang setara dengan contoh di atas :\n",
    "     \n",
    "     if <expr>: <statement>\n",
    "\n",
    " bahkan bisa ada lebih dari satu <statement> pada baris yang sama, dipisahkan oleh titik koma:\n",
    "     \n",
    "    if <expr> : <statement_1>; <statement_2>; ...; <statement_n>\n",
    "   "
   ]
  },
  {
   "cell_type": "code",
   "execution_count": 77,
   "id": "8dd60bca",
   "metadata": {},
   "outputs": [
    {
     "name": "stdout",
     "output_type": "stream",
     "text": [
      "1\n",
      "2\n",
      "3\n"
     ]
    }
   ],
   "source": [
    "# example\n",
    "\n",
    "if 'f' in 'foo' : print('1'); print('2'); print('3')"
   ]
  },
  {
   "cell_type": "code",
   "execution_count": 80,
   "id": "3655855f",
   "metadata": {},
   "outputs": [
    {
     "name": "stdout",
     "output_type": "stream",
     "text": [
      "qux\n",
      "quux\n"
     ]
    }
   ],
   "source": [
    "# one line statement\n",
    "\n",
    "x = 2 \n",
    "if x == 1: print('foo'); print('bar'); print('baz')\n",
    "elif x == 2: print('qux'); print('quux')\n",
    "else: print('corge'); print('grault') "
   ]
  },
  {
   "cell_type": "code",
   "execution_count": 83,
   "id": "dec33e63",
   "metadata": {},
   "outputs": [
    {
     "name": "stdout",
     "output_type": "stream",
     "text": [
      "bos\n",
      "quux\n"
     ]
    }
   ],
   "source": [
    "# many line statement\n",
    "\n",
    "x = 2\n",
    "\n",
    "if x == 1:\n",
    "    print('bar')\n",
    "    print('por')\n",
    "elif x == 2:\n",
    "    print('bos')\n",
    "    print('quux')\n",
    "\n",
    "else:\n",
    "    print('tidak ada apapun')"
   ]
  },
  {
   "cell_type": "code",
   "execution_count": 91,
   "id": "be7eb339",
   "metadata": {},
   "outputs": [
    {
     "name": "stdout",
     "output_type": "stream",
     "text": [
      "adult\n"
     ]
    }
   ],
   "source": [
    "age = 22\n",
    "\n",
    "\n",
    "if age < 21:\n",
    "    print('teen')\n",
    "\n",
    "else:\n",
    "    print('adult')"
   ]
  },
  {
   "cell_type": "markdown",
   "id": "5a5476d3",
   "metadata": {},
   "source": [
    "PERULANGAN WHILE"
   ]
  },
  {
   "cell_type": "code",
   "execution_count": 97,
   "id": "9ec4c260",
   "metadata": {},
   "outputs": [
    {
     "name": "stdout",
     "output_type": "stream",
     "text": [
      "4\n",
      "3\n",
      "2\n",
      "1\n",
      "0\n"
     ]
    }
   ],
   "source": [
    "n = 5\n",
    "\n",
    "while n > 0:  #5 > 0?, 5 - 1 = 4, 4 - 1 = 3, 3 - 1 = 2, 2 - 1 = 1, 1 - 0 = 0, 0 > 0 False \n",
    "    n -= 1   # 5 - 1 = 4, 4 - 1 = 3, 3 - 1 = 2, 2 - 1 = 1, 1 - 0 = 0  x\n",
    "    print(n) # 4, 3, 2, 1, 0"
   ]
  },
  {
   "cell_type": "code",
   "execution_count": 102,
   "id": "169dea4e",
   "metadata": {},
   "outputs": [
    {
     "name": "stdout",
     "output_type": "stream",
     "text": [
      "1\n",
      "2\n",
      "3\n",
      "4\n",
      "5\n"
     ]
    }
   ],
   "source": [
    "i = 1\n",
    "\n",
    "while i < 6:  # 1, 2, 3, 4, 5, 6 < 6? False\n",
    "    print(i)  # 1, 2, 3, 4, 5\n",
    "    i += 1    # 2, 3, 4, 5, 6"
   ]
  },
  {
   "cell_type": "markdown",
   "id": "99ced831",
   "metadata": {},
   "source": [
    "PYTHON BREAK AND CONTINUE STATEMENT \n",
    "\n",
    "Dalam setiap contoh yang telah diberikan, seluruh isi while loop di jalankan pada saat iterasi. python menyediakan dua keywords yang menghentikan perulangan sebelum waktunya :\n",
    "\n",
    "Python break :\n",
    "Python break statement segera menghentkan perulangan seluruhnya. eksekusi program dilanjutkan ke pernyataan pertama setelah badan loop\n",
    "\n",
    "Python Continue :\n",
    "Python continue statement segera menghentikan iterasi loop saat di jalankan. eksekusi melompat ke atas loop, dan controlling expression dievaluasi ulang untuk menentukan apakah loop akan dieksekusi lagi atau di hentikan\n"
   ]
  },
  {
   "cell_type": "code",
   "execution_count": 103,
   "id": "1a7a266d",
   "metadata": {},
   "outputs": [
    {
     "name": "stdout",
     "output_type": "stream",
     "text": [
      "4\n",
      "3\n",
      "loop ended\n"
     ]
    }
   ],
   "source": [
    "# example python break statement\n",
    "\n",
    "n = 5\n",
    "\n",
    "while n > 0:\n",
    "    n -= 1\n",
    "    if n == 2:\n",
    "        break\n",
    "    print(n)\n",
    "print('loop ended')\n",
    "\n",
    "'''\n",
    "ketika n menjadi 2, pernyataan break dieksekusi. perulangan di hentukan sepenuhnya, dan eksekusi\n",
    "program melompat ke pernyataan print() pada baris 7\n",
    "'''"
   ]
  },
  {
   "cell_type": "code",
   "execution_count": 106,
   "id": "90934e7c",
   "metadata": {},
   "outputs": [
    {
     "name": "stdout",
     "output_type": "stream",
     "text": [
      "4\n",
      "3\n",
      "1\n",
      "0\n",
      "loop ended.\n"
     ]
    }
   ],
   "source": [
    "# example python continue statement\n",
    "\n",
    "n = 5\n",
    "\n",
    "while n > 0:\n",
    "    n -= 1\n",
    "    if n == 2:\n",
    "        continue\n",
    "    print(n)\n",
    "print('loop ended.')\n",
    "\n",
    "'''\n",
    "kali ini, ketika n adalah 2, pertanyaan continue menyebabkan penghentian iterasi. jadi, 2 tidak di cetak\n",
    "eksekusi kembali ke atas loop, kondisi dievaluasi ulang dan masih benar. perulangan dilanjutkan,\n",
    "berakhir ketika n menjadi 0, seperti sebelumnya\n",
    "''"
   ]
  },
  {
   "cell_type": "markdown",
   "id": "c2bd0e92",
   "metadata": {},
   "source": [
    "ELSE CLAUSE"
   ]
  },
  {
   "cell_type": "code",
   "execution_count": 111,
   "id": "2de0a2e9",
   "metadata": {},
   "outputs": [
    {
     "name": "stdout",
     "output_type": "stream",
     "text": [
      "7\n",
      "6\n",
      "5\n",
      "4\n",
      "3\n",
      "2\n",
      "1\n",
      "0\n",
      "loop done\n"
     ]
    }
   ],
   "source": [
    "'''\n",
    "ELSE CLAUSE\n",
    "python memungkinkan adanya klausa else opsional di akhir loop while. ini adalah fitur unik python,\n",
    "tifak ditemukan di sebagian besar bahasa pemograman lainnya. sintaksnya di tunjukkan di bawah ini:\n",
    "\n",
    "'''\n",
    "\n",
    "# example 1\n",
    "\n",
    "n = 8\n",
    "\n",
    "while n > 0:\n",
    "    n -= 1\n",
    "    print(n)\n",
    "\n",
    "else:\n",
    "    print('loop done')\n",
    "    \n",
    "\n",
    "    \n",
    "    \n",
    "    \n",
    "    \n"
   ]
  },
  {
   "cell_type": "code",
   "execution_count": 112,
   "id": "5e8bdfa0",
   "metadata": {},
   "outputs": [
    {
     "name": "stdout",
     "output_type": "stream",
     "text": [
      "9\n",
      "8\n",
      "7\n",
      "6\n",
      "5\n",
      "4\n",
      "3\n",
      "2\n"
     ]
    }
   ],
   "source": [
    "# example 2 memakai break\n",
    "\n",
    "n = 10\n",
    "\n",
    "while n > 0:\n",
    "    n -= 1\n",
    "    print(n)\n",
    "    if n == 2:\n",
    "        break\n",
    "\n",
    "else:\n",
    "    print('loop done')"
   ]
  },
  {
   "cell_type": "markdown",
   "id": "ef02db6b",
   "metadata": {},
   "source": [
    "INFINITE LOOPS\n",
    "\n",
    "misalkan kalian menulis loop yang secara teioritis tidak pernah berakhir. kedengarannya aneh, bukan\n",
    "\n",
    "contoh :\n",
    "\n",
    "while True:\n",
    "      print( 'foo')"
   ]
  },
  {
   "cell_type": "code",
   "execution_count": 121,
   "id": "d7978192",
   "metadata": {},
   "outputs": [
    {
     "name": "stdout",
     "output_type": "stream",
     "text": [
      "foo\n",
      "bar\n",
      "> baz\n",
      "> qux\n"
     ]
    }
   ],
   "source": [
    "# example\n",
    "\n",
    "\n",
    "a = ['foo', 'bar']\n",
    "\n",
    "while len(a):\n",
    "    print(a.pop(0))\n",
    "    \n",
    "    b = ['baz', 'qux']\n",
    "\n",
    "while len(b):\n",
    "    print('>', b.pop(0))"
   ]
  },
  {
   "cell_type": "markdown",
   "id": "9de5617d",
   "metadata": {},
   "source": [
    "Numeric Range Loop\n",
    "\n",
    "perulangan for yang paling dasar adalah dengan rentang numerik sederhana dengan nilai awal dan akhir. format pastinya bervariasi bergantung pada bahasanya tetapi biasanya terlihat seperti ini :"
   ]
  },
  {
   "cell_type": "code",
   "execution_count": 123,
   "id": "cb72db6c",
   "metadata": {},
   "outputs": [
    {
     "name": "stdout",
     "output_type": "stream",
     "text": [
      "foo\n",
      "bar\n",
      "baz\n"
     ]
    }
   ],
   "source": [
    "# Example\n",
    "\n",
    "a = ['foo', 'bar', 'baz']\n",
    "\n",
    "for i in a:\n",
    "    print(i)\n",
    "\n",
    "\n",
    "'''\n",
    "dalam contoh ini, <iterable> adalah lista, dan <var> adalah variable i,\n",
    "srtiap kali melalui loop kita mengambil item berturut turut di a, jadi print () masing masing menampilkan nilai 'foo', 'bar' dan\n",
    "'baz'. perulangan for seperti ini adalah pythonic way untuk memproses item secara iterable\n",
    "'''"
   ]
  },
  {
   "cell_type": "code",
   "execution_count": 124,
   "id": "fb5596b9",
   "metadata": {},
   "outputs": [
    {
     "name": "stdout",
     "output_type": "stream",
     "text": [
      "foo\n",
      "bar\n",
      "baz\n"
     ]
    }
   ],
   "source": [
    "d = {'foo' : 1, 'bar' : 2, 'baz' : 3}\n",
    "for k in d:\n",
    "    print(k)"
   ]
  },
  {
   "cell_type": "markdown",
   "id": "01c75dea",
   "metadata": {},
   "source": [
    "THE RANGE () FUNCTION\n",
    "\n",
    "di bagian pertama sesi ini, kalian melihat jenis loop for yang di sebut numeric range loop, dimana numerik awal dan akhir ditentukan\n",
    "meskipun bentuk perulangan for ini tidak built in dalam python\n",
    "namun mudah dibuat\n"
   ]
  },
  {
   "cell_type": "code",
   "execution_count": 125,
   "id": "5f396318",
   "metadata": {},
   "outputs": [
    {
     "name": "stdout",
     "output_type": "stream",
     "text": [
      "0\n",
      "1\n",
      "2\n",
      "3\n",
      "4\n"
     ]
    }
   ],
   "source": [
    "# misalnya jika kalian ingin mengulang nilai 0 hingga 4 kalian cukup melakukan ini :\n",
    "\n",
    "for n in (0, 1, 2, 3, 4,):\n",
    "    print(n)"
   ]
  },
  {
   "cell_type": "code",
   "execution_count": 129,
   "id": "8ffd0f0e",
   "metadata": {},
   "outputs": [
    {
     "name": "stdout",
     "output_type": "stream",
     "text": [
      "0\n",
      "1\n",
      "2\n",
      "3\n",
      "4\n",
      "5\n",
      "6\n",
      "7\n",
      "8\n",
      "9\n",
      "10\n"
     ]
    }
   ],
   "source": [
    "'''\n",
    "python menyediakan opsi yang lebih baik - fungsi built in range () yang mengembalikan iterable yang menghasilkan urutan bilangan bulat\n",
    "\n",
    "range (<end>) mengembalikan iterable yang menghasilkan integer \n",
    "dimulai dengan 0 hingga <end> tetapi tidak termasuk <end>:\n",
    "'''\n",
    "\n",
    "for i in range(11):\n",
    "    print(i)\n",
    "\n",
    "# x = range(10)\n",
    "\n",
    "# for i in x:\n",
    "#     print(i)"
   ]
  },
  {
   "cell_type": "code",
   "execution_count": 132,
   "id": "0ca56e70",
   "metadata": {},
   "outputs": [
    {
     "name": "stdout",
     "output_type": "stream",
     "text": [
      "1\n",
      "2\n",
      "3\n",
      "4\n",
      "5\n",
      "6\n",
      "7\n",
      "8\n",
      "9\n",
      "10\n",
      "11\n",
      "12\n"
     ]
    }
   ],
   "source": [
    "for i in range (1, 13):\n",
    "    print(i)\n",
    "\n",
    "# maksudnya ini adalah perulangan yang menggunakan range atau mengembalikan nilai itu \n",
    "# dimulai dengan angka 1 dan di akhiri sebelum angka 13\n"
   ]
  },
  {
   "cell_type": "code",
   "execution_count": 134,
   "id": "9d01230d",
   "metadata": {},
   "outputs": [
    {
     "name": "stdout",
     "output_type": "stream",
     "text": [
      "20\n",
      "18\n",
      "16\n",
      "14\n",
      "12\n",
      "10\n",
      "8\n",
      "6\n",
      "4\n",
      "2\n"
     ]
    }
   ],
   "source": [
    "for i in range(20, 0, -2):\n",
    "    print(i)\n",
    "\n"
   ]
  },
  {
   "cell_type": "markdown",
   "id": "ec5d8152",
   "metadata": {},
   "source": [
    "THE BREAK AND CONTINUE STATEMENT "
   ]
  },
  {
   "cell_type": "code",
   "execution_count": 135,
   "id": "028ae14d",
   "metadata": {},
   "outputs": [
    {
     "name": "stdout",
     "output_type": "stream",
     "text": [
      "foo\n"
     ]
    }
   ],
   "source": [
    "# break statement\n",
    "\n",
    "for i in ['foo', 'bar', 'baz', 'qux']:\n",
    "    if 'b' in i :\n",
    "        break\n",
    "    print(i)\n",
    "\n",
    "# berhenti sebelum kata b "
   ]
  },
  {
   "cell_type": "code",
   "execution_count": 136,
   "id": "39ba865a",
   "metadata": {},
   "outputs": [
    {
     "name": "stdout",
     "output_type": "stream",
     "text": [
      "foo\n",
      "qux\n"
     ]
    }
   ],
   "source": [
    "# continue statement\n",
    "\n",
    "for i in ['foo', 'bar', 'baz', 'qux']:\n",
    "    if 'b' in i:\n",
    "        continue\n",
    "    print(i)\n",
    "    \n",
    "# huruf yang berawal dari b di skip dan di lanjutkan ke key selanjutnya"
   ]
  },
  {
   "cell_type": "markdown",
   "id": "46ea3280",
   "metadata": {},
   "source": [
    "THE ELSE CLAUSE\n",
    "\n",
    "perulangan for juga dapat memiliki klause else, interpretasinya\n",
    "sama dengan while loop, klause else akan dijalankan jika loop berakhir karena iterable habis:\n",
    "\n"
   ]
  },
  {
   "cell_type": "code",
   "execution_count": 138,
   "id": "4c239aee",
   "metadata": {},
   "outputs": [
    {
     "name": "stdout",
     "output_type": "stream",
     "text": [
      "foo\n",
      "bar\n",
      "baz\n",
      "quux\n",
      "done..\n"
     ]
    }
   ],
   "source": [
    "# example\n",
    "\n",
    "for i in ['foo', 'bar', 'baz', 'quux']:\n",
    "    print(i)\n",
    "\n",
    "else:\n",
    "    print('done..')"
   ]
  },
  {
   "cell_type": "code",
   "execution_count": 139,
   "id": "90df154f",
   "metadata": {},
   "outputs": [
    {
     "name": "stdout",
     "output_type": "stream",
     "text": [
      "foo\n"
     ]
    }
   ],
   "source": [
    "for i in ['foo', 'bar', 'baz', 'qux']:\n",
    "    if i == 'bar':\n",
    "        break \n",
    "    print(i)\n",
    "\n",
    "else:\n",
    "    print('done')"
   ]
  },
  {
   "cell_type": "code",
   "execution_count": 144,
   "id": "c6ccf349",
   "metadata": {},
   "outputs": [
    {
     "name": "stdout",
     "output_type": "stream",
     "text": [
      "0\n",
      "1\n",
      "2\n",
      "3\n",
      "4\n",
      "5\n",
      "6\n",
      "7\n",
      "8\n",
      "9\n"
     ]
    }
   ],
   "source": [
    "for i in range(10):\n",
    "    print(i)"
   ]
  },
  {
   "cell_type": "code",
   "execution_count": 149,
   "id": "96a44683",
   "metadata": {},
   "outputs": [
    {
     "name": "stdout",
     "output_type": "stream",
     "text": [
      "ketikkan temperatur yang ingin di konversi, eg. 45F, 120C : 98\n",
      "masukan input yang benar\n",
      "tempratur adalah 7 derajat\n"
     ]
    }
   ],
   "source": [
    "temp = input('ketikkan temperatur yang ingin di konversi, eg. 45F, 120C : ')\n",
    "\n",
    "degree = int(temp[:-1])\n",
    "i_convertion = temp[-1]\n",
    "\n",
    "if i_convertion == \"c\":\n",
    "    result = int(round((9 * degree) / 5 + 32))\n",
    "elif i_convertion == \"F\":\n",
    "    result = int(round((degree - 32) * 5 / 9))\n",
    "\n",
    "else:\n",
    "    print('masukan input yang benar')\n",
    "\n",
    "print('tempratur adalah', result, 'derajat')"
   ]
  },
  {
   "cell_type": "code",
   "execution_count": 150,
   "id": "13fbd09d",
   "metadata": {},
   "outputs": [
    {
     "name": "stdout",
     "output_type": "stream",
     "text": [
      "ketikkan karakter : StoP\n",
      "stop\n"
     ]
    }
   ],
   "source": [
    "while True :\n",
    "    msg = input('ketikkan karakter : ').lower()\n",
    "    print(msg)\n",
    "    \n",
    "    if msg== 'stop':\n",
    "        break"
   ]
  },
  {
   "cell_type": "code",
   "execution_count": null,
   "id": "a5924290",
   "metadata": {},
   "outputs": [],
   "source": []
  }
 ],
 "metadata": {
  "kernelspec": {
   "display_name": "Python 3 (ipykernel)",
   "language": "python",
   "name": "python3"
  },
  "language_info": {
   "codemirror_mode": {
    "name": "ipython",
    "version": 3
   },
   "file_extension": ".py",
   "mimetype": "text/x-python",
   "name": "python",
   "nbconvert_exporter": "python",
   "pygments_lexer": "ipython3",
   "version": "3.9.12"
  }
 },
 "nbformat": 4,
 "nbformat_minor": 5
}
