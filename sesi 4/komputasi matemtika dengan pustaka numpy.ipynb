{
 "cells": [
  {
   "cell_type": "markdown",
   "id": "67c1f25b",
   "metadata": {},
   "source": [
    "## NUMPY\n",
    "\n",
    "### Numpy adalah pustaka python open - source yang digunakan di hampir semua bidang sains dan teknik. numpy adalah standar universal untuk bekerja dengan data numerik menggunakan python"
   ]
  },
  {
   "cell_type": "code",
   "execution_count": 2,
   "id": "ad8eeff4",
   "metadata": {},
   "outputs": [],
   "source": [
    "import numpy as np  # untuk memanggil package numpy"
   ]
  },
  {
   "cell_type": "code",
   "execution_count": 209,
   "id": "1ef558b8",
   "metadata": {},
   "outputs": [
    {
     "name": "stdout",
     "output_type": "stream",
     "text": [
      "[1 2 3]\n",
      "\n",
      "\n",
      "[[ 1  2  3]\n",
      " [ 4  5  6]\n",
      " [ 7  8  9]\n",
      " [10 11 12]]\n"
     ]
    },
    {
     "data": {
      "text/plain": [
       "'\\nuntuk membuat perintah numpy, diawali dengan menuliskan variable\\ndi sambung sama dengan dan menuliskan kode numpy yang menggunakan array\\ndan python list yaitu \"np.array\" yang di ikuti dengan penulisan python list\\n\\n'"
      ]
     },
     "execution_count": 209,
     "metadata": {},
     "output_type": "execute_result"
    }
   ],
   "source": [
    "# untuk memulai memakai numpy, bisa menggunakan nested python list\n",
    "\n",
    "# contoh 1 \n",
    "\n",
    "a = np.array([1, 2, 3]) # array biasa\n",
    "b = np.array([[1, 2, 3], [4, 5, 6], [7, 8, 9], [10, 11, 12]]) # array multidimensi\n",
    "\n",
    "print(a)\n",
    "print('\\n')\n",
    "print(b)\n",
    "\n",
    "'''\n",
    "untuk membuat perintah numpy, diawali dengan menuliskan variable\n",
    "di sambung sama dengan dan menuliskan kode numpy yang menggunakan array\n",
    "dan python list yaitu \"np.array\" yang di ikuti dengan penulisan python list\n",
    "\n",
    "'''\n"
   ]
  },
  {
   "cell_type": "code",
   "execution_count": 144,
   "id": "bfe8b3bc",
   "metadata": {},
   "outputs": [
    {
     "name": "stdout",
     "output_type": "stream",
     "text": [
      "teman didi adalah :  [['syarun' 'jonatan' 'avri']\n",
      " ['farhan' 'boris' 'habib']]\n"
     ]
    }
   ],
   "source": [
    "# contoh 2\n",
    "\n",
    "teman_didi = np.array([['syarun', 'jonatan', 'avri'], ['farhan', 'boris', 'habib']])\n",
    "\n",
    "print('teman didi adalah : ', teman_didi)"
   ]
  },
  {
   "cell_type": "code",
   "execution_count": 153,
   "id": "a43f9f24",
   "metadata": {},
   "outputs": [
    {
     "name": "stdout",
     "output_type": "stream",
     "text": [
      "[1 2 3]\n",
      "[4 5 6]\n"
     ]
    },
    {
     "data": {
      "text/plain": [
       "\"\\nkita dapat mengakses elemen dalam array menggunakan tanda kurung siku,\\nsaat kalian mengakses elemen, ingatlah bahwa pengindeksan di numpy dimulai dari 0.\\nartinya, jika kalian ingin mengakses elemen pertama dalam arrya, kalian akan mengakses elemen '0'\\n\""
      ]
     },
     "execution_count": 153,
     "metadata": {},
     "output_type": "execute_result"
    }
   ],
   "source": [
    "# contoh 3 \n",
    "\n",
    "b = np.array([\n",
    "    [1, 2, 3],\n",
    "    [4, 5, 6],\n",
    "    [7, 8, 9]\n",
    "])\n",
    "\n",
    "print(b[0])\n",
    "print(b[1])\n",
    "\n",
    "'''\n",
    "kita dapat mengakses elemen dalam array menggunakan tanda kurung siku,\n",
    "saat kalian mengakses elemen, ingatlah bahwa pengindeksan di numpy dimulai dari 0.\n",
    "artinya, jika kalian ingin mengakses elemen pertama dalam arrya, kalian akan mengakses elemen '0'\n",
    "'''"
   ]
  },
  {
   "cell_type": "code",
   "execution_count": null,
   "id": "835354d6",
   "metadata": {},
   "outputs": [],
   "source": []
  },
  {
   "cell_type": "markdown",
   "id": "b85b3bdb",
   "metadata": {},
   "source": [
    "## CREATING ARRAY"
   ]
  },
  {
   "cell_type": "code",
   "execution_count": 157,
   "id": "33ec9c70",
   "metadata": {},
   "outputs": [],
   "source": [
    "# contoh dari creating array\n",
    "\n",
    "# np.array()   # array akan membuat indeks array menggunakan list            \n",
    "# np.zeros()   # zeros(shape) akan membuat array yang diisi dengan nilai 0             \n",
    "# np.ones()    # ones(shape) akan membuat array yang diisi dengan nilai 1  \n",
    "# np.empty()   # empty akan membuat array yang konten awalnya acak dan bergantung pada status memori  \n",
    "# np.arange()  # arange() akan membuat array dengan nilai yang bertambah secara teratur."
   ]
  },
  {
   "cell_type": "code",
   "execution_count": 159,
   "id": "b68b8591",
   "metadata": {},
   "outputs": [
    {
     "name": "stdout",
     "output_type": "stream",
     "text": [
      "[1 2 3]\n"
     ]
    }
   ],
   "source": [
    "# contoh dari np.array()\n",
    "\n",
    "# array akan membuat indeks array menggunakan list \n",
    "\n",
    "a = np.array([1, 2, 3])\n",
    "\n",
    "print(a)"
   ]
  },
  {
   "cell_type": "code",
   "execution_count": 162,
   "id": "cf348d62",
   "metadata": {},
   "outputs": [
    {
     "name": "stdout",
     "output_type": "stream",
     "text": [
      "[0. 0. 0. 0. 0. 0.]\n"
     ]
    }
   ],
   "source": [
    "# contoh np.zeros()\n",
    "\n",
    "# zeros(shape) akan membuat array yang diisi dengan nilai 0\n",
    "\n",
    "'''\n",
    "sering ada kasus ketika kita ingin numpy menginisialisasi nilai array untuk kita\n",
    "numpy menyediakan metode seperti ones(), zeros dan lain lain untuk kasus ini\n",
    "kita hanya memberikan mereka sejumlah elemen yang kita inginkan untuk di generate\n",
    "'''\n",
    "\n",
    "b = np.zeros(6)\n",
    "\n",
    "print(b)"
   ]
  },
  {
   "cell_type": "code",
   "execution_count": 171,
   "id": "bc31523e",
   "metadata": {},
   "outputs": [
    {
     "name": "stdout",
     "output_type": "stream",
     "text": [
      "[1. 1. 1. 1. 1. 1.]\n"
     ]
    }
   ],
   "source": [
    "# contoh np.ones()\n",
    "\n",
    "# ones(shape) akan membuat array yang diisi dengan nilai 1  \n",
    "'''\n",
    "sering ada kasus ketika kita ingin numpy menginisialisasi nilai array untuk kita\n",
    "numpy menyediakan metode seperti ones(), zeros dan lain lain untuk kasus ini\n",
    "kita hanya memberikan mereka sejumlah elemen yang kita inginkan untuk di generate\n",
    "'''\n",
    "\n",
    "b = np.ones(6)\n",
    "\n",
    "print(b)\n"
   ]
  },
  {
   "cell_type": "code",
   "execution_count": 214,
   "id": "b574dc8e",
   "metadata": {},
   "outputs": [
    {
     "name": "stdout",
     "output_type": "stream",
     "text": [
      "[1. 1. 1. 1. 1. 1.]\n"
     ]
    }
   ],
   "source": [
    "# contoh np.empty()\n",
    "\n",
    "# empty akan membuat array yang konten awalnya acak dan bergantung pada status\n",
    "\n",
    "c = np.empty(6)\n",
    "\n",
    "print(c)\n"
   ]
  },
  {
   "cell_type": "code",
   "execution_count": 60,
   "id": "2672d655",
   "metadata": {},
   "outputs": [
    {
     "name": "stdout",
     "output_type": "stream",
     "text": [
      "[0 1 2 3]\n",
      "[0 1 2 3]\n",
      "[0 2 4 6 8]\n"
     ]
    },
    {
     "data": {
      "text/plain": [
       "'\\napa yang dilakukan arange ([start], stop, [step]) adalah mengatur\\nangka dari awal sampai berhenti ini adalah \\nnp.arange(0,10,2)\\n\\nlist np mulai dari 0 hingga 10 tetapi jangan sertakan 10 \\ndan buat angka tersebut melakukan kenaikan 2 setiap kali \\n'"
      ]
     },
     "execution_count": 60,
     "metadata": {},
     "output_type": "execute_result"
    }
   ],
   "source": [
    "# contoh np.arange()\n",
    "\n",
    "# arange() akan membuat array dengan nilai yang bertambah secara teratur.\n",
    "\n",
    "list_didi = (np.arange((4)))\n",
    "print(list_didi)\n",
    "\n",
    "print(np.arange(4))\n",
    "print(np.arange(0, 10, 2)) # array nya di mulai dengan angka nol (0)\n",
    "                           # jumlah indeknya ada (10) tetapi dimulai dengan 0\n",
    "                           # angka terakhir yang bisa di bagi dengan dirinya sendiri (2) sebelum angka 10\n",
    "\n",
    "'''\n",
    "apa yang dilakukan arange ([start], stop, [step]) adalah mengatur\n",
    "angka dari awal sampai berhenti ini adalah \n",
    "np.arange(0,10,2)\n",
    "\n",
    "list np mulai dari 0 hingga 10 tetapi jangan sertakan 10 \n",
    "dan buat angka tersebut melakukan kenaikan 2 setiap kali \n",
    "'''"
   ]
  },
  {
   "cell_type": "code",
   "execution_count": 230,
   "id": "d1afd790",
   "metadata": {},
   "outputs": [],
   "source": [
    "# add , remove, and sort \n",
    "\n",
    "# np.append() # menambahkan element indeks array (add)\n",
    "# np.delete() # menghapus element indeks array (delete)\n",
    "# np.sort()   # mengurutkan angka dalam element indeks array"
   ]
  },
  {
   "cell_type": "code",
   "execution_count": 235,
   "id": "6b32d62c",
   "metadata": {},
   "outputs": [
    {
     "name": "stdout",
     "output_type": "stream",
     "text": [
      "[ 1  2  3  4  5  6  7  8  9 10 11]\n",
      "[ 1  2  3  4  5  6  7  8  9 10 11 12 13]\n"
     ]
    }
   ],
   "source": [
    "# contoh add (np.append) 1\n",
    "\n",
    "arr = np.array([1, 2, 3, 4, 5, 6, 7, 8, 9, 10, 11])\n",
    "\n",
    "print(arr)\n",
    "\n",
    "print(np.append(arr, [12, 13])) # format untuk menambahkan "
   ]
  },
  {
   "cell_type": "code",
   "execution_count": 244,
   "id": "5433bab4",
   "metadata": {},
   "outputs": [
    {
     "name": "stdout",
     "output_type": "stream",
     "text": [
      "[  19   12 2001]\n",
      "[  19   12 2001    1    2]\n"
     ]
    }
   ],
   "source": [
    "# contoh add (np.append) 2\n",
    "\n",
    "nomor_didi = np.array([19, 12, 2001])\n",
    "print(nomor_didi)\n",
    "\n",
    "print(np.append(nomor_didi, [1,2]))"
   ]
  },
  {
   "cell_type": "code",
   "execution_count": 246,
   "id": "921a7084",
   "metadata": {},
   "outputs": [
    {
     "name": "stdout",
     "output_type": "stream",
     "text": [
      "['laptop' 'tws' 'hp']\n",
      "['laptop' 'tws' 'hp' 'sepatu' 'parfum' 'vape']\n"
     ]
    }
   ],
   "source": [
    "# contoh add (np.append) 3\n",
    "\n",
    "barang_didi = np.array(['laptop', 'tws', 'hp'])\n",
    "print(barang_didi)\n",
    "\n",
    "print(np.append(barang_didi, ['sepatu', 'parfum', 'vape']))"
   ]
  },
  {
   "cell_type": "code",
   "execution_count": 241,
   "id": "bd4c2c28",
   "metadata": {},
   "outputs": [
    {
     "name": "stdout",
     "output_type": "stream",
     "text": [
      "['yaris' 'hrv' 'crv' 'nissan']\n",
      "['yaris' 'crv' 'nissan']\n"
     ]
    }
   ],
   "source": [
    "# contoh remove (np.delete) 1\n",
    "\n",
    "mobil_didi = np.array(['yaris', 'hrv', 'crv', 'nissan'])\n",
    "\n",
    "print(mobil_didi)\n",
    "\n",
    "print(np.delete(mobil_didi, 1))"
   ]
  },
  {
   "cell_type": "code",
   "execution_count": 266,
   "id": "d4396502",
   "metadata": {},
   "outputs": [
    {
     "name": "stdout",
     "output_type": "stream",
     "text": [
      "['ninja' 'aerox' 'supra' 'beat']\n",
      "['ninja' 'aerox' 'supra']\n"
     ]
    }
   ],
   "source": [
    "# contoh remove (np.delete) 2\n",
    "\n",
    "motor_didi = np.array(['ninja', 'aerox', 'supra', 'beat'])\n",
    "\n",
    "print(motor_didi)\n",
    "\n",
    "print(np.delete(motor_didi, 3))"
   ]
  },
  {
   "cell_type": "code",
   "execution_count": 268,
   "id": "2b0ad5f9",
   "metadata": {},
   "outputs": [
    {
     "name": "stdout",
     "output_type": "stream",
     "text": [
      "['laptop' 'tws' 'mouse' 'macis']\n",
      "['laptop' 'tws' 'macis']\n"
     ]
    }
   ],
   "source": [
    "# contoh remove (np.delete) 3\n",
    "\n",
    "barang_didi = np.array(['laptop', 'tws', 'mouse', 'macis'])\n",
    "\n",
    "print(barang_didi)\n",
    "\n",
    "print(np.delete(barang_didi, 2))"
   ]
  },
  {
   "cell_type": "code",
   "execution_count": 4,
   "id": "617b09f7",
   "metadata": {},
   "outputs": [
    {
     "name": "stdout",
     "output_type": "stream",
     "text": [
      "[ 1  2  3  4  5  6  7  8  9 10]\n"
     ]
    }
   ],
   "source": [
    "# contoh 1 sort\n",
    "\n",
    "ab = np.array([3, 5, 8, 9, 1, 4, 2, 6, 10, 7])\n",
    "\n",
    "print(np.sort(ab))"
   ]
  },
  {
   "cell_type": "code",
   "execution_count": 5,
   "id": "c8c98f99",
   "metadata": {},
   "outputs": [
    {
     "name": "stdout",
     "output_type": "stream",
     "text": [
      "['apel' 'belimbing' 'cery' 'durian' 'semangka']\n"
     ]
    }
   ],
   "source": [
    "# contoh 2 sort\n",
    "\n",
    "cd = np.array(['cery', 'belimbing', 'semangka', 'apel', 'durian'])\n",
    "\n",
    "print(np.sort(cd))"
   ]
  },
  {
   "cell_type": "code",
   "execution_count": null,
   "id": "a1919615",
   "metadata": {},
   "outputs": [],
   "source": []
  },
  {
   "cell_type": "code",
   "execution_count": 6,
   "id": "235eec45",
   "metadata": {},
   "outputs": [],
   "source": [
    "# SHAPE AND SIZE\n",
    "\n",
    "# contoh dari shape and size\n",
    "\n",
    "# ndarray.ndim()\n",
    "# ndarray.size()\n",
    "# ndarray.shape()"
   ]
  },
  {
   "cell_type": "code",
   "execution_count": 15,
   "id": "bb4d6faf",
   "metadata": {},
   "outputs": [
    {
     "name": "stdout",
     "output_type": "stream",
     "text": [
      "[[[0 1 2 3]\n",
      "  [4 5 6 7]\n",
      "  [0 1 2 3]\n",
      "  [4 5 6 7]\n",
      "  [0 1 2 3]\n",
      "  [4 5 6 7]]]\n",
      "3\n"
     ]
    }
   ],
   "source": [
    "# contoh ndarray.ndim()\n",
    "\n",
    "# ndarray.ndim akan memberi tahu kalain jumlah axes atau dimensi\n",
    "# dari array.\n",
    "\n",
    "array_example = np.array([[\n",
    "    [0, 1, 2, 3],\n",
    "    [4, 5, 6, 7],\n",
    "    \n",
    "    [0, 1, 2, 3],\n",
    "    [4, 5, 6, 7],\n",
    "    \n",
    "    [0, 1, 2, 3],\n",
    "    [4, 5, 6, 7],\n",
    "]])\n",
    "\n",
    "print(array_example)\n",
    "print(array_example.ndim)"
   ]
  },
  {
   "cell_type": "code",
   "execution_count": 16,
   "id": "60bba5f5",
   "metadata": {},
   "outputs": [
    {
     "data": {
      "text/plain": [
       "3"
      ]
     },
     "execution_count": 16,
     "metadata": {},
     "output_type": "execute_result"
    }
   ],
   "source": [
    "array_example.ndim\n",
    "\n",
    "# ndarray.ndim akan memberi tahu kalain jumlah axes atau dimensi\n",
    "# dari array."
   ]
  },
  {
   "cell_type": "code",
   "execution_count": 17,
   "id": "ab403c3f",
   "metadata": {},
   "outputs": [
    {
     "data": {
      "text/plain": [
       "24"
      ]
     },
     "execution_count": 17,
     "metadata": {},
     "output_type": "execute_result"
    }
   ],
   "source": [
    "# contoh dari np.size\n",
    "\n",
    "array_example.size\n",
    "\n",
    "#.size akan memberi tahu kalian jumlah total elemen array.\n",
    "# ini adalah produk dari elemen shape array "
   ]
  },
  {
   "cell_type": "code",
   "execution_count": 19,
   "id": "1a6e569a",
   "metadata": {},
   "outputs": [
    {
     "data": {
      "text/plain": [
       "(1, 6, 4)"
      ]
     },
     "execution_count": 19,
     "metadata": {},
     "output_type": "execute_result"
    }
   ],
   "source": [
    "# contoh dari np.shape\n",
    "\n",
    "array_example.shape\n",
    "\n",
    "\n",
    "\n",
    "# akan menampilkan tuple integer yang menunjukkan jumlah elemen\n",
    "# yang disimpan di sepanjang setiap dimensi array. jika misalnya\n",
    "# kalian memiliki larik 2D dengan 2 baris dan 3 kolom,\n",
    "#  maka bentuk larik anda adalah (2, 3)."
   ]
  },
  {
   "cell_type": "code",
   "execution_count": 22,
   "id": "03991ffb",
   "metadata": {},
   "outputs": [
    {
     "name": "stdout",
     "output_type": "stream",
     "text": [
      "[0 1 2 3 4 5]\n",
      "[[0 1]\n",
      " [2 3]\n",
      " [4 5]]\n"
     ]
    }
   ],
   "source": [
    "# contoh 1 np.reshape()\n",
    "\n",
    "a = np.arange(6)\n",
    "\n",
    "print(a)\n",
    "\n",
    "b = a.reshape(3, 2)\n",
    "\n",
    "print(b)\n",
    "\n",
    "\n",
    "'''\n",
    "menggunakan np.reshape() akan memberikan bentuk baru ke array tanpa mengubah datanya.\n",
    "ingatlah bahwa ketika kalian menggunakan metode reshape, array yang ingin kalian\n",
    "hasilkan haurs memilki jumlah elemen yang sama dengan array asli\n",
    "'''"
   ]
  },
  {
   "cell_type": "code",
   "execution_count": 31,
   "id": "3cc27dd0",
   "metadata": {},
   "outputs": [
    {
     "name": "stdout",
     "output_type": "stream",
     "text": [
      "[0 1 2 3 4 5 6 7 8 9]\n",
      "[[0 1]\n",
      " [2 3]\n",
      " [4 5]\n",
      " [6 7]\n",
      " [8 9]]\n"
     ]
    }
   ],
   "source": [
    "# contoh 2 np.reshape()\n",
    "\n",
    "a = np.arange(10)\n",
    "\n",
    "print(a)\n",
    "\n",
    "b = a.reshape(5, 2)\n",
    "\n",
    "print(b)"
   ]
  },
  {
   "cell_type": "code",
   "execution_count": null,
   "id": "d04933c8",
   "metadata": {},
   "outputs": [],
   "source": []
  },
  {
   "cell_type": "markdown",
   "id": "9f6342b7",
   "metadata": {},
   "source": [
    "## CONVERT 1D TO 2D"
   ]
  },
  {
   "cell_type": "code",
   "execution_count": null,
   "id": "b44916ac",
   "metadata": {},
   "outputs": [],
   "source": [
    "# contoh untuk mengconvert 1D to 2D\n",
    "\n",
    "np.newaxis \n",
    "np.expand"
   ]
  },
  {
   "cell_type": "code",
   "execution_count": 34,
   "id": "181c4db8",
   "metadata": {},
   "outputs": [
    {
     "name": "stdout",
     "output_type": "stream",
     "text": [
      "(6,)\n",
      "(1, 6)\n",
      "[[1 2 3 4 5 6]]\n",
      "[[[1 2 3 4 5 6]]]\n"
     ]
    }
   ],
   "source": [
    "# contoh np. newaxis\n",
    "\n",
    "# kalian dapat menggunakan np.newaxis dan np.expand_dims untuk\n",
    "# meningkatkan dimensi array yang sudah ada.\n",
    "\n",
    "# menggunakan np.newaxis akan meningkatkan dimensi array kalian\\\n",
    "# sebesar satu dimensi bila digunakan sekali. \n",
    "# artinya array 1D akan menjadi array 2D, array 2D akan menjadi array 3D\n",
    "# dan seterusnya.\n",
    "\n",
    "# contoh 1 newaxis:\n",
    "\n",
    "a = np.array([1, 2, 3, 4, 5, 6])\n",
    "\n",
    "print(a.shape)\n",
    "\n",
    "a2 = a[np.newaxis]\n",
    "print(a2.shape)\n",
    "print(a2)\n",
    "\n",
    "a3 = a2[np.newaxis]\n",
    "print(a3)"
   ]
  },
  {
   "cell_type": "code",
   "execution_count": 36,
   "id": "6df856fa",
   "metadata": {},
   "outputs": [
    {
     "name": "stdout",
     "output_type": "stream",
     "text": [
      "[10 11 12 13 14 15]\n",
      "[[10 11 12 13 14 15]]\n"
     ]
    }
   ],
   "source": [
    "# contoh 2 newaxis\n",
    "\n",
    "b = np.array([10, 11, 12, 13, 14, 15])\n",
    "\n",
    "print(b)\n",
    "\n",
    "b2 = b[np.newaxis] #format untuk menambahkan dimensi \n",
    "print(b2)"
   ]
  },
  {
   "cell_type": "code",
   "execution_count": 37,
   "id": "148017fd",
   "metadata": {},
   "outputs": [
    {
     "name": "stdout",
     "output_type": "stream",
     "text": [
      "(1, 6)\n",
      "[[1 2 3 4 5 6]]\n"
     ]
    }
   ],
   "source": [
    "mengubah 1D array ke vector table\n",
    "\n",
    "row_vector = a[np.newaxis, :]\n",
    "print(row_vector.shape)\n",
    "print(row_vector)"
   ]
  },
  {
   "cell_type": "code",
   "execution_count": 38,
   "id": "1dbe4ea2",
   "metadata": {},
   "outputs": [
    {
     "name": "stdout",
     "output_type": "stream",
     "text": [
      "(6, 1)\n",
      "[[1]\n",
      " [2]\n",
      " [3]\n",
      " [4]\n",
      " [5]\n",
      " [6]]\n"
     ]
    }
   ],
   "source": [
    "col_vector = a[:, np.newaxis]\n",
    "print(col_vector.shape)\n",
    "print(col_vector)"
   ]
  },
  {
   "cell_type": "code",
   "execution_count": 39,
   "id": "ef8b48ed",
   "metadata": {},
   "outputs": [
    {
     "name": "stdout",
     "output_type": "stream",
     "text": [
      "(7,)\n"
     ]
    }
   ],
   "source": [
    "# contoh np.expand_dims\n",
    "\n",
    "# kalian juga dapat memperluas array dengan memasukkan axis baru\n",
    "# pada posisi yang ditentukan dengan np.expand_dims\n",
    "\n",
    "a = np.array([1, 2, 3, 4, 5, 6, 7])\n",
    "\n",
    "print(a.shape)"
   ]
  },
  {
   "cell_type": "code",
   "execution_count": 45,
   "id": "ac7d5691",
   "metadata": {},
   "outputs": [
    {
     "name": "stdout",
     "output_type": "stream",
     "text": [
      "(7, 1)\n"
     ]
    }
   ],
   "source": [
    "b = np.expand_dims(a, axis = 1)\n",
    "\n",
    "print(b.shape)"
   ]
  },
  {
   "cell_type": "code",
   "execution_count": 48,
   "id": "c1ca6ead",
   "metadata": {},
   "outputs": [
    {
     "name": "stdout",
     "output_type": "stream",
     "text": [
      "(1, 7)\n"
     ]
    }
   ],
   "source": [
    "c = np.expand_dims(a, axis = 0)\n",
    "\n",
    "print(c.shape)"
   ]
  },
  {
   "cell_type": "markdown",
   "id": "f0dd17d4",
   "metadata": {},
   "source": [
    "## LIST VS NUMPY ARRAY\n"
   ]
  },
  {
   "cell_type": "markdown",
   "id": "7c39f5c9",
   "metadata": {},
   "source": [
    "\n",
    "### what's the difference between a python list and a numpy array ?\n",
    "\n",
    "### numpy memberikan kalian berbagai macam opsi terkait numerik yang cepat dan efisien. meskipun list python dapat berisi tipe data yang berbeda dalam satu dafat, semua elemen dala array numpy haru homogen."
   ]
  },
  {
   "cell_type": "code",
   "execution_count": 3,
   "id": "388e76d9",
   "metadata": {},
   "outputs": [
    {
     "name": "stdout",
     "output_type": "stream",
     "text": [
      "[4.0, 3.95, 3.8]\n"
     ]
    }
   ],
   "source": [
    "\n",
    "\n",
    "# LIST\n",
    "\n",
    "gpa_as_list = [4.0, 3.95, 3.8]\n",
    "print(gpa_as_list)"
   ]
  },
  {
   "cell_type": "code",
   "execution_count": 6,
   "id": "86a75c14",
   "metadata": {},
   "outputs": [
    {
     "name": "stdout",
     "output_type": "stream",
     "text": [
      "[4.0, 3.95, 3.8, 3.7]\n"
     ]
    }
   ],
   "source": [
    "# menambahkan list menggunakan append\n",
    "\n",
    "gpa_as_list.append(3.7)\n",
    "print(gpa_as_list)"
   ]
  },
  {
   "cell_type": "code",
   "execution_count": 11,
   "id": "9c3ea4e7",
   "metadata": {},
   "outputs": [
    {
     "name": "stdout",
     "output_type": "stream",
     "text": [
      "[4.0, 3.93, 3.93, 3.93, 3.95, 3.8, 3.7]\n"
     ]
    }
   ],
   "source": [
    "# menambahkan list di tengah list menggunakan insert\n",
    "\n",
    "gpa_as_list.insert(1, 3.93)\n",
    "print(gpa_as_list)\n"
   ]
  },
  {
   "cell_type": "code",
   "execution_count": 12,
   "id": "ffa4c0c4",
   "metadata": {},
   "outputs": [
    {
     "data": {
      "text/plain": [
       "3.93"
      ]
     },
     "execution_count": 12,
     "metadata": {},
     "output_type": "execute_result"
    }
   ],
   "source": [
    "# menghapus list menggunakan pop\n",
    "\n",
    "gpa_as_list.pop(1)"
   ]
  },
  {
   "cell_type": "code",
   "execution_count": 13,
   "id": "0a09a477",
   "metadata": {},
   "outputs": [
    {
     "name": "stdout",
     "output_type": "stream",
     "text": [
      "[4.0, 3.93, 3.93, 3.95, 3.8, 3.7]\n"
     ]
    }
   ],
   "source": [
    "print(gpa_as_list)"
   ]
  },
  {
   "cell_type": "code",
   "execution_count": null,
   "id": "fa6b560e",
   "metadata": {},
   "outputs": [],
   "source": []
  },
  {
   "cell_type": "markdown",
   "id": "57531826",
   "metadata": {},
   "source": [
    "## NUMPY ARRAY"
   ]
  },
  {
   "cell_type": "code",
   "execution_count": 14,
   "id": "0984a798",
   "metadata": {},
   "outputs": [
    {
     "name": "stdout",
     "output_type": "stream",
     "text": [
      "[4.0, 3.93, 3.93, 3.95, 3.8, 3.7]\n"
     ]
    }
   ],
   "source": [
    "print(gpa_as_list)"
   ]
  },
  {
   "cell_type": "code",
   "execution_count": 15,
   "id": "3064ac87",
   "metadata": {},
   "outputs": [],
   "source": [
    "gpas = np.array(gpa_as_list)"
   ]
  },
  {
   "cell_type": "code",
   "execution_count": 16,
   "id": "ce9a9e3a",
   "metadata": {},
   "outputs": [
    {
     "data": {
      "text/plain": [
       "dtype('float64')"
      ]
     },
     "execution_count": 16,
     "metadata": {},
     "output_type": "execute_result"
    }
   ],
   "source": [
    "gpas.dtype"
   ]
  },
  {
   "cell_type": "code",
   "execution_count": 17,
   "id": "83be9c14",
   "metadata": {},
   "outputs": [
    {
     "data": {
      "text/plain": [
       "6"
      ]
     },
     "execution_count": 17,
     "metadata": {},
     "output_type": "execute_result"
    }
   ],
   "source": [
    "gpas.size"
   ]
  },
  {
   "cell_type": "code",
   "execution_count": null,
   "id": "a39b298c",
   "metadata": {},
   "outputs": [],
   "source": []
  },
  {
   "cell_type": "markdown",
   "id": "73978d43",
   "metadata": {},
   "source": [
    "## DEMO ARRAY"
   ]
  },
  {
   "cell_type": "code",
   "execution_count": 24,
   "id": "15580c64",
   "metadata": {},
   "outputs": [
    {
     "data": {
      "text/plain": [
       "array([0, 0, 0, 0, 0, 0, 0, 0, 0, 0, 0, 0, 0, 0, 0, 0, 0, 0, 0, 0, 0, 0,\n",
       "       0, 0, 0, 0, 0, 0, 0, 0, 0, 0, 0, 0, 0, 0, 0, 0, 0, 0, 0, 0, 0, 0,\n",
       "       0, 0, 0, 0, 0, 0, 0, 0, 0, 0, 0, 0, 0, 0, 0, 0, 0, 0, 0, 0, 0, 0,\n",
       "       0, 0, 0, 0, 0, 0, 0, 0, 0, 0, 0, 0, 0, 0, 0, 0, 0, 0, 0, 0, 0, 0,\n",
       "       0, 0, 0, 0, 0, 0, 0, 0, 0, 0, 0, 0], dtype=uint16)"
      ]
     },
     "execution_count": 24,
     "metadata": {},
     "output_type": "execute_result"
    }
   ],
   "source": [
    "study_minutes = np.zeros(100, np.uint16)\n",
    "study_minutes"
   ]
  },
  {
   "cell_type": "code",
   "execution_count": 25,
   "id": "3f6b15b4",
   "metadata": {},
   "outputs": [
    {
     "name": "stdout",
     "output_type": "stream",
     "text": [
      "Variable        Type       Data/Info\n",
      "------------------------------------\n",
      "gpa_as_list     list       n=6\n",
      "gpas            ndarray    6: 6 elems, type `float64`, 48 bytes\n",
      "np              module     <module 'numpy' from 'C:\\<...>ges\\\\numpy\\\\__init__.py'>\n",
      "study_minutes   ndarray    100: 100 elems, type `uint16`, 200 bytes\n"
     ]
    }
   ],
   "source": [
    "%whos"
   ]
  },
  {
   "cell_type": "code",
   "execution_count": null,
   "id": "410990c3",
   "metadata": {},
   "outputs": [],
   "source": []
  },
  {
   "cell_type": "markdown",
   "id": "eb4061c6",
   "metadata": {},
   "source": [
    "## ARRAY MULTIDIMENSI"
   ]
  },
  {
   "cell_type": "code",
   "execution_count": 34,
   "id": "884a783e",
   "metadata": {},
   "outputs": [
    {
     "data": {
      "text/plain": [
       "array([[4.  , 4.  , 3.95, 3.93],\n",
       "       [3.93, 3.96, 3.8 , 3.88],\n",
       "       [3.94, 3.87, 3.8 , 4.  ]], dtype=float16)"
      ]
     },
     "execution_count": 34,
     "metadata": {},
     "output_type": "execute_result"
    }
   ],
   "source": [
    "student_gpas = np.array([\n",
    "    [4.0, 4.0, 3.95, 3.93],\n",
    "    [3.93, 3.96, 3.80, 3.88],\n",
    "    [3.94, 3.87, 3.80, 4.0],\n",
    "], np.float16)\n",
    "  \n",
    "student_gpas"
   ]
  },
  {
   "cell_type": "code",
   "execution_count": 35,
   "id": "19771d1c",
   "metadata": {},
   "outputs": [
    {
     "data": {
      "text/plain": [
       "2"
      ]
     },
     "execution_count": 35,
     "metadata": {},
     "output_type": "execute_result"
    }
   ],
   "source": [
    "student_gpas.ndim"
   ]
  },
  {
   "cell_type": "code",
   "execution_count": 36,
   "id": "3b6b62de",
   "metadata": {},
   "outputs": [
    {
     "data": {
      "text/plain": [
       "(3, 4)"
      ]
     },
     "execution_count": 36,
     "metadata": {},
     "output_type": "execute_result"
    }
   ],
   "source": [
    "student_gpas.shape\n",
    "\n",
    "# 3 adalah jumlah arraynya \n",
    "# 4 adalah jumlah isi di dalam array"
   ]
  },
  {
   "cell_type": "code",
   "execution_count": 37,
   "id": "6aed17e8",
   "metadata": {},
   "outputs": [
    {
     "data": {
      "text/plain": [
       "array([3.94, 3.87, 3.8 , 4.  ], dtype=float16)"
      ]
     },
     "execution_count": 37,
     "metadata": {},
     "output_type": "execute_result"
    }
   ],
   "source": [
    "student_gpas[2]"
   ]
  },
  {
   "cell_type": "code",
   "execution_count": 39,
   "id": "4d452f17",
   "metadata": {},
   "outputs": [
    {
     "data": {
      "text/plain": [
       "array([4.  , 4.  , 3.95, 3.93], dtype=float16)"
      ]
     },
     "execution_count": 39,
     "metadata": {},
     "output_type": "execute_result"
    }
   ],
   "source": [
    "student_gpas[0]"
   ]
  },
  {
   "cell_type": "code",
   "execution_count": 41,
   "id": "86200e03",
   "metadata": {},
   "outputs": [
    {
     "data": {
      "text/plain": [
       "4.0"
      ]
     },
     "execution_count": 41,
     "metadata": {},
     "output_type": "execute_result"
    }
   ],
   "source": [
    "student_gpas[2][3]"
   ]
  },
  {
   "cell_type": "markdown",
   "id": "5155f22e",
   "metadata": {},
   "source": [
    "## STUDY LOG MULTIDIMENSI"
   ]
  },
  {
   "cell_type": "code",
   "execution_count": 42,
   "id": "457ea327",
   "metadata": {},
   "outputs": [
    {
     "data": {
      "text/plain": [
       "(2, 100)"
      ]
     },
     "execution_count": 42,
     "metadata": {},
     "output_type": "execute_result"
    }
   ],
   "source": [
    "study_minutes = np.array([\n",
    "    study_minutes,\n",
    "    np.zeros(100, np.uint16)\n",
    "])\n",
    "study_minutes.shape"
   ]
  },
  {
   "cell_type": "code",
   "execution_count": 46,
   "id": "026f56cf",
   "metadata": {},
   "outputs": [
    {
     "data": {
      "text/plain": [
       "array([ 99,  45,  70, 162, 146,  70, 177, 176,  47, 148, 123,  67,  90,\n",
       "       122,  34, 160, 135, 102,  62,  61,  85,  52, 153, 128,  89,  37,\n",
       "       109,  60, 128,  57, 160,  67, 144,  97, 150, 148,  32, 155, 116,\n",
       "       137,  49,  70, 159, 159,  84, 114,  93, 110,  81, 122, 103,  53,\n",
       "        52, 147,  75,  93,  45,  46, 177,  91,  70,  69,  46, 150,  86,\n",
       "       170, 174, 143,  88,  71, 132,  67, 157, 118,  91, 158, 178, 176,\n",
       "        37, 155,  45,  66,  60,  35, 154,  75,  53,  33,  80, 126,  76,\n",
       "       113, 148, 163,  57,  83, 145, 148, 167, 129], dtype=uint16)"
      ]
     },
     "execution_count": 46,
     "metadata": {},
     "output_type": "execute_result"
    }
   ],
   "source": [
    "rand =np.random.RandomState(46)\n",
    "fake_log = rand.randint(30, 180, size = 100, dtype=np.uint16)\n",
    "fake_log"
   ]
  },
  {
   "cell_type": "code",
   "execution_count": null,
   "id": "c5b50e77",
   "metadata": {},
   "outputs": [],
   "source": []
  },
  {
   "cell_type": "markdown",
   "id": "f4419d55",
   "metadata": {},
   "source": [
    "## slicing array"
   ]
  },
  {
   "cell_type": "code",
   "execution_count": 51,
   "id": "679a4e28",
   "metadata": {},
   "outputs": [
    {
     "data": {
      "text/plain": [
       "array([[ 0,  1,  2,  3,  4,  5],\n",
       "       [ 6,  7,  8,  9, 10, 11],\n",
       "       [12, 13, 14, 15, 16, 17],\n",
       "       [18, 19, 20, 21, 22, 23],\n",
       "       [24, 25, 26, 27, 28, 29],\n",
       "       [30, 31, 32, 33, 34, 35],\n",
       "       [36, 37, 38, 39, 40, 41]])"
      ]
     },
     "execution_count": 51,
     "metadata": {},
     "output_type": "execute_result"
    }
   ],
   "source": [
    "practice = np.arange(42)\n",
    "practice.shape = (7, 6)\n",
    "practice"
   ]
  },
  {
   "cell_type": "code",
   "execution_count": 52,
   "id": "6d46cbb3",
   "metadata": {},
   "outputs": [
    {
     "data": {
      "text/plain": [
       "7"
      ]
     },
     "execution_count": 52,
     "metadata": {},
     "output_type": "execute_result"
    }
   ],
   "source": [
    "practice [1, 1]"
   ]
  },
  {
   "cell_type": "code",
   "execution_count": 54,
   "id": "aa1cee77",
   "metadata": {},
   "outputs": [
    {
     "data": {
      "text/plain": [
       "array([[12, 13, 14, 15, 16, 17],\n",
       "       [18, 19, 20, 21, 22, 23],\n",
       "       [24, 25, 26, 27, 28, 29],\n",
       "       [30, 31, 32, 33, 34, 35]])"
      ]
     },
     "execution_count": 54,
     "metadata": {},
     "output_type": "execute_result"
    }
   ],
   "source": [
    "practice [2:6]  #format melakukan slicing"
   ]
  },
  {
   "cell_type": "code",
   "execution_count": 55,
   "id": "4444a03c",
   "metadata": {},
   "outputs": [
    {
     "data": {
      "text/plain": [
       "array([14, 20, 26, 32])"
      ]
     },
     "execution_count": 55,
     "metadata": {},
     "output_type": "execute_result"
    }
   ],
   "source": [
    "practice [2:6, 2]"
   ]
  },
  {
   "cell_type": "code",
   "execution_count": 57,
   "id": "815665df",
   "metadata": {},
   "outputs": [
    {
     "data": {
      "text/plain": [
       "array([[14, 15, 16, 17],\n",
       "       [20, 21, 22, 23],\n",
       "       [26, 27, 28, 29],\n",
       "       [32, 33, 34, 35]])"
      ]
     },
     "execution_count": 57,
     "metadata": {},
     "output_type": "execute_result"
    }
   ],
   "source": [
    "practice [2:6, 2:]"
   ]
  },
  {
   "cell_type": "code",
   "execution_count": 59,
   "id": "5bf28e3d",
   "metadata": {},
   "outputs": [
    {
     "name": "stdout",
     "output_type": "stream",
     "text": [
      "[1 2 3 4]\n",
      "1\n",
      "2\n",
      "[1 2]\n",
      "[1 2 3]\n",
      "[2 3 4]\n",
      "[3 4]\n"
     ]
    }
   ],
   "source": [
    "'''\n",
    "indexing dan slicing\n",
    "\n",
    "kalian dapat mengindeks dan slice array numpy dengan cara yang sama\n",
    "seperti slice list pada python\n",
    "'''\n",
    "\n",
    "data =np.array([1, 2, 3, 4])\n",
    "\n",
    "print(data)\n",
    "print(data[0])\n",
    "print(data[1])\n",
    "print(data[0:2])\n",
    "print(data[0:3])\n",
    "print(data[1:])\n",
    "print(data[-2:])"
   ]
  },
  {
   "cell_type": "code",
   "execution_count": 64,
   "id": "a569631a",
   "metadata": {},
   "outputs": [
    {
     "name": "stdout",
     "output_type": "stream",
     "text": [
      "[ 1  2  3  4  5  6  7  8  9 10]\n",
      "[ 5  6  7  8  9 10]\n",
      "[1 2 3 4 5 6 7 8 9]\n",
      "[ 6  7  8  9 10]\n"
     ]
    }
   ],
   "source": [
    "'''\n",
    "kalian mungkin ingin mengambil bagian dari arrya atau elemen array\n",
    "tertentu untuk digunakan dalam analisis lebih lanjut atau operasi tambahan\n",
    "untuk melakukannya, kalian perlu membuat subset, memotong, dan atau\n",
    "mengindeks array kalian\n",
    "\n",
    "jika kalian ingin memilih nilai dari array kalian yang memenuhi kondisi tertentu\n",
    "dapat dilakukan langsung dengan numpy\n",
    "'''\n",
    "\n",
    "# contoh \n",
    "\n",
    "a = np.array([1, 2, 3, 4, 5, 6, 7, 8, 9, 10])\n",
    "print(a)\n",
    "\n",
    "print(a[a >= 5])\n",
    "print(a[a <= 9])\n",
    "print(a[a >= 6])"
   ]
  },
  {
   "cell_type": "markdown",
   "id": "5b05a0cb",
   "metadata": {},
   "source": [
    "## CREATING ARRAY FROM EXISTING DATA\n",
    "\n",
    "\n"
   ]
  },
  {
   "cell_type": "code",
   "execution_count": null,
   "id": "be6dc806",
   "metadata": {},
   "outputs": [],
   "source": [
    "'''\n",
    "DALAM CREATING ARRAY FROM EXITING DATA, TERDAPAT :\n",
    "\n",
    "np.vstack()\n",
    "np.vstack() adalah cara ini dapat menumpuk 2 atau lebih array secara vertikal\n",
    "\n",
    "np.hstack()\n",
    "np.hstack() adalah cara ini dapat menumpuk 2 atau lebih array secara horizontal\n",
    "\n",
    "np.hsplit()\n",
    "np.split() adalah cara untuk membagi array jadi beberapa aray lebih kecil\n",
    "\n",
    ".view()\n",
    ".view() adalah metode untuk mebuat object array baru yang terlihat sama dengan asli\n",
    ".copy()\n",
    "\n",
    "'''\n"
   ]
  },
  {
   "cell_type": "code",
   "execution_count": 59,
   "id": "1fc32449",
   "metadata": {},
   "outputs": [
    {
     "data": {
      "text/plain": [
       "[1, 2, 3]"
      ]
     },
     "execution_count": 59,
     "metadata": {},
     "output_type": "execute_result"
    }
   ],
   "source": [
    "practice_list = [1, 2, 3]\n",
    "practice_list"
   ]
  },
  {
   "cell_type": "code",
   "execution_count": 66,
   "id": "d1faefec",
   "metadata": {},
   "outputs": [
    {
     "name": "stdout",
     "output_type": "stream",
     "text": [
      "[[ 1  2  3  4]\n",
      " [ 5  6  7  8]\n",
      " [ 9 10 11 12]]\n",
      "[[ 1  2  3  4]\n",
      " [ 5  6  7  8]\n",
      " [ 9 10 11 12]]\n"
     ]
    }
   ],
   "source": [
    "# ini adalah .copy()\n",
    "\n",
    "a = np.array([[1, 2, 3, 4], [5, 6, 7, 8], [9, 10, 11, 12]])\n",
    "print(a)\n",
    "\n",
    "b = a.copy()\n",
    "print(b)"
   ]
  },
  {
   "cell_type": "code",
   "execution_count": 62,
   "id": "adce8893",
   "metadata": {},
   "outputs": [
    {
     "data": {
      "text/plain": [
       "([1, 2, 3], [12345, 2, 3])"
      ]
     },
     "execution_count": 62,
     "metadata": {},
     "output_type": "execute_result"
    }
   ],
   "source": [
    "practice_list_copy[0] = 12345\n",
    "practice_list, practice_list_copy"
   ]
  },
  {
   "cell_type": "code",
   "execution_count": 67,
   "id": "13da0a88",
   "metadata": {},
   "outputs": [
    {
     "name": "stdout",
     "output_type": "stream",
     "text": [
      "[[ 1  2  3  4]\n",
      " [ 5  6  7  8]\n",
      " [ 9 10 11 12]]\n",
      "[[ 1  2  3  4]\n",
      " [ 5  6  7  8]\n",
      " [ 9 10 11 12]]\n"
     ]
    }
   ],
   "source": [
    "# ini adalah view\n",
    "\n",
    "a = np.array([[1, 2, 3, 4], [5, 6, 7, 8], [9, 10, 11, 12]])\n",
    "print(a)\n",
    "\n",
    "b = a.view()\n",
    "print(b)\n",
    "\n"
   ]
  },
  {
   "cell_type": "code",
   "execution_count": 73,
   "id": "af888e95",
   "metadata": {},
   "outputs": [
    {
     "name": "stdout",
     "output_type": "stream",
     "text": [
      "[[1 1]\n",
      " [2 2]]\n",
      "[[3 3]\n",
      " [4 4]]\n",
      "[[1 1]\n",
      " [2 2]\n",
      " [3 3]\n",
      " [4 4]]\n"
     ]
    }
   ],
   "source": [
    "# contoh np.vstack()\n",
    "\n",
    "a_1 = np.array([[1, 1],\n",
    "               [2, 2]])\n",
    "\n",
    "print(a_1)\n",
    "\n",
    "a_2 = np.array([[3, 3],\n",
    "                [4, 4]])\n",
    "\n",
    "print(a_2)\n",
    "\n",
    "\n",
    "# membuat np.vstack()\n",
    "\n",
    "print(np.vstack((a_1, a_2)))\n",
    "\n"
   ]
  },
  {
   "cell_type": "code",
   "execution_count": 74,
   "id": "b7aca52c",
   "metadata": {},
   "outputs": [
    {
     "name": "stdout",
     "output_type": "stream",
     "text": [
      "[[1 1]\n",
      " [2 2]]\n",
      "[[3 3]\n",
      " [4 4]]\n",
      "[[1 1 3 3]\n",
      " [2 2 4 4]]\n"
     ]
    }
   ],
   "source": [
    "# contoh np.hstack()\n",
    "\n",
    "a_1 = np.array([[1, 1],\n",
    "               [2, 2]])\n",
    "\n",
    "print(a_1)\n",
    "\n",
    "a_2 = np.array([[3, 3],\n",
    "                [4, 4]])\n",
    "\n",
    "print(a_2)\n",
    "\n",
    "\n",
    "# membuat np.hstack()\n",
    "\n",
    "print(np.hstack((a_1, a_2)))\n"
   ]
  },
  {
   "cell_type": "code",
   "execution_count": 76,
   "id": "44a5d386",
   "metadata": {},
   "outputs": [
    {
     "name": "stdout",
     "output_type": "stream",
     "text": [
      "[[ 1  2  3  4  5  6  7  8  9 10 11 12]\n",
      " [13 14 15 16 17 18 19 20 21 22 23 24]]\n"
     ]
    },
    {
     "data": {
      "text/plain": [
       "[array([[ 1,  2,  3,  4],\n",
       "        [13, 14, 15, 16]]),\n",
       " array([[ 5,  6,  7,  8],\n",
       "        [17, 18, 19, 20]]),\n",
       " array([[ 9, 10, 11, 12],\n",
       "        [21, 22, 23, 24]])]"
      ]
     },
     "execution_count": 76,
     "metadata": {},
     "output_type": "execute_result"
    }
   ],
   "source": [
    "arr_split = np.array([[1, 2, 3, 4, 5, 6, 7, 8, 9, 10, 11, 12],\n",
    "                      [13, 14, 15, 16, 17, 18, 19, 20, 21, 22, 23, 24]])\n",
    "\n",
    "print(arr_split)\n",
    "\n",
    "# melakukan split\n",
    "\n",
    "np.hsplit(arr_split, 3)"
   ]
  },
  {
   "cell_type": "markdown",
   "id": "4485e33a",
   "metadata": {},
   "source": [
    "## FILTER ARRAY\n",
    "### mencari durasi belajar di bawah 20 menit"
   ]
  },
  {
   "cell_type": "code",
   "execution_count": 91,
   "id": "64d01d18",
   "metadata": {},
   "outputs": [
    {
     "data": {
      "text/plain": [
       "array([ 2,  3,  4,  5,  6,  7,  8,  9, 10, 11, 12, 13, 14, 15, 16, 17, 18,\n",
       "       19])"
      ]
     },
     "execution_count": 91,
     "metadata": {},
     "output_type": "execute_result"
    }
   ],
   "source": [
    "practice\n",
    "practice < 20\n",
    "practice[practice < 20]"
   ]
  },
  {
   "cell_type": "code",
   "execution_count": null,
   "id": "c7530dcc",
   "metadata": {},
   "outputs": [],
   "source": []
  },
  {
   "cell_type": "markdown",
   "id": "bd02d31e",
   "metadata": {},
   "source": [
    "## ALJABAR LINEAR"
   ]
  },
  {
   "cell_type": "code",
   "execution_count": 93,
   "id": "54a8308a",
   "metadata": {},
   "outputs": [
    {
     "data": {
      "text/plain": [
       "array([1000. , 7562.5, 3875. , 5812.5])"
      ]
     },
     "execution_count": 93,
     "metadata": {},
     "output_type": "execute_result"
    }
   ],
   "source": [
    "'''\n",
    "kita menghitung jumlah banyaknya pesanan di suatu warung \n",
    "dan cara cepat menangih uang yang di aplikasi dalam bentuk koding\n",
    "'''\n",
    "\n",
    "orders = np.array([   # ini adalah jumlah banyaknya pesanan di warung\n",
    "    [2, 0, 0, 0],\n",
    "    [1, 0, 2, 4],\n",
    "    [1, 2, 1, 0],\n",
    "    [4, 6, 0, 2]\n",
    "])\n",
    "\n",
    "totals = np.array([2000, 32000, 20000, 61000])  #ini adalah harga dari setiap pesanan\n",
    "pricelist = np.linalg.solve(orders, totals)  #ini cara untuk mengetahui nilai dari aljabar linear\n",
    "pricelist"
   ]
  },
  {
   "cell_type": "code",
   "execution_count": 95,
   "id": "24e4708e",
   "metadata": {},
   "outputs": [
    {
     "data": {
      "text/plain": [
       "array([  4000, 286000,  86000, 322000])"
      ]
     },
     "execution_count": 95,
     "metadata": {},
     "output_type": "execute_result"
    }
   ],
   "source": [
    "orders @ totals  # ini merupakan perkalian di aljabar"
   ]
  },
  {
   "cell_type": "code",
   "execution_count": null,
   "id": "31727b77",
   "metadata": {},
   "outputs": [],
   "source": []
  },
  {
   "cell_type": "markdown",
   "id": "c92a88f7",
   "metadata": {},
   "source": [
    "## FUNGSI UNIVERSAL"
   ]
  },
  {
   "cell_type": "code",
   "execution_count": 100,
   "id": "eb4978b4",
   "metadata": {},
   "outputs": [
    {
     "data": {
      "text/plain": [
       "(array([1, 2, 3, 4, 5]), array([ 6,  7,  8,  9, 10]))"
      ]
     },
     "execution_count": 100,
     "metadata": {},
     "output_type": "execute_result"
    }
   ],
   "source": [
    "a,b = np.split(np.arange(1, 11), 2)\n",
    "a,b"
   ]
  },
  {
   "cell_type": "code",
   "execution_count": 92,
   "id": "f7c4ac1a",
   "metadata": {},
   "outputs": [
    {
     "name": "stdout",
     "output_type": "stream",
     "text": [
      "[ 7  9 11 13 15]\n",
      "[ 6 14 24 36 50]\n",
      "[-5 -5 -5 -5 -5]\n",
      "[0 0 0 0 0]\n",
      "[0.16666667 0.28571429 0.375      0.44444444 0.5       ]\n"
     ]
    }
   ],
   "source": [
    "c = np.array([1, 2, 3, 4, 5])\n",
    "d = np.array([6, 7, 8, 9, 10])\n",
    "\n",
    "print(c + d)\n",
    "print(c * d)\n",
    "print(c - d)\n",
    "print(c // d)\n",
    "print(c / d)"
   ]
  },
  {
   "cell_type": "code",
   "execution_count": 101,
   "id": "08e46acd",
   "metadata": {},
   "outputs": [
    {
     "data": {
      "text/plain": [
       "array([ 7,  9, 11, 13, 15])"
      ]
     },
     "execution_count": 101,
     "metadata": {},
     "output_type": "execute_result"
    }
   ],
   "source": [
    "a + b"
   ]
  },
  {
   "cell_type": "code",
   "execution_count": 102,
   "id": "eeddca97",
   "metadata": {},
   "outputs": [
    {
     "data": {
      "text/plain": [
       "array([ 6, 14, 24, 36, 50])"
      ]
     },
     "execution_count": 102,
     "metadata": {},
     "output_type": "execute_result"
    }
   ],
   "source": [
    "a * b"
   ]
  },
  {
   "cell_type": "code",
   "execution_count": 103,
   "id": "135dd6c6",
   "metadata": {},
   "outputs": [
    {
     "data": {
      "text/plain": [
       "array([-5, -5, -5, -5, -5])"
      ]
     },
     "execution_count": 103,
     "metadata": {},
     "output_type": "execute_result"
    }
   ],
   "source": [
    "a - b"
   ]
  },
  {
   "cell_type": "code",
   "execution_count": 105,
   "id": "c9c72bf2",
   "metadata": {},
   "outputs": [
    {
     "data": {
      "text/plain": [
       "array([5, 5, 5, 5, 5])"
      ]
     },
     "execution_count": 105,
     "metadata": {},
     "output_type": "execute_result"
    }
   ],
   "source": [
    "b - a"
   ]
  },
  {
   "cell_type": "code",
   "execution_count": 104,
   "id": "bc1890be",
   "metadata": {},
   "outputs": [
    {
     "data": {
      "text/plain": [
       "array([0, 0, 0, 0, 0], dtype=int32)"
      ]
     },
     "execution_count": 104,
     "metadata": {},
     "output_type": "execute_result"
    }
   ],
   "source": [
    "a // b"
   ]
  },
  {
   "cell_type": "code",
   "execution_count": 107,
   "id": "9af8a7aa",
   "metadata": {},
   "outputs": [
    {
     "data": {
      "text/plain": [
       "array([1, 2, 3, 4, 5])"
      ]
     },
     "execution_count": 107,
     "metadata": {},
     "output_type": "execute_result"
    }
   ],
   "source": [
    "# menambahkan penjumlahan skalar\n",
    "\n",
    "a \n"
   ]
  },
  {
   "cell_type": "code",
   "execution_count": 108,
   "id": "dd712c46",
   "metadata": {},
   "outputs": [
    {
     "data": {
      "text/plain": [
       "array([4, 5, 6, 7, 8])"
      ]
     },
     "execution_count": 108,
     "metadata": {},
     "output_type": "execute_result"
    }
   ],
   "source": [
    "a + 3"
   ]
  },
  {
   "cell_type": "code",
   "execution_count": 109,
   "id": "88f70773",
   "metadata": {},
   "outputs": [
    {
     "data": {
      "text/plain": [
       "array([4, 5, 6, 7, 8])"
      ]
     },
     "execution_count": 109,
     "metadata": {},
     "output_type": "execute_result"
    }
   ],
   "source": [
    "a + np.repeat(3, 5)"
   ]
  },
  {
   "cell_type": "code",
   "execution_count": null,
   "id": "449f1b40",
   "metadata": {},
   "outputs": [],
   "source": []
  },
  {
   "cell_type": "markdown",
   "id": "ea4b9331",
   "metadata": {},
   "source": [
    "## OPERASI MATRIKS LAINNYA"
   ]
  },
  {
   "cell_type": "code",
   "execution_count": 113,
   "id": "f0e7ee53",
   "metadata": {},
   "outputs": [
    {
     "name": "stdout",
     "output_type": "stream",
     "text": [
      "[[12345 12345     2     3     4     5]\n",
      " [    6     7     8     9    10    11]\n",
      " [   12    13    14    15    16    17]\n",
      " [   18    19    20    21    22    23]\n",
      " [   24    25    26    27    28    29]\n",
      " [   30    31    32    33    34    35]\n",
      " [   36    37    38    39    40    41]]\n"
     ]
    },
    {
     "data": {
      "text/plain": [
       "array([12471, 12477,   140,   147,   154,   161])"
      ]
     },
     "execution_count": 113,
     "metadata": {},
     "output_type": "execute_result"
    }
   ],
   "source": [
    "study_less = practice[(practice < 60 ) & (practice > 0)]\n",
    "print(practice)\n",
    "np.add.reduce(practice)"
   ]
  },
  {
   "cell_type": "code",
   "execution_count": 114,
   "id": "93501faf",
   "metadata": {},
   "outputs": [
    {
     "data": {
      "text/plain": [
       "25550"
      ]
     },
     "execution_count": 114,
     "metadata": {},
     "output_type": "execute_result"
    }
   ],
   "source": [
    "np.sum(practice)"
   ]
  },
  {
   "cell_type": "code",
   "execution_count": 116,
   "id": "8b75b722",
   "metadata": {},
   "outputs": [
    {
     "data": {
      "text/plain": [
       "0"
      ]
     },
     "execution_count": 116,
     "metadata": {},
     "output_type": "execute_result"
    }
   ],
   "source": [
    "np.sum(study_minutes)"
   ]
  },
  {
   "cell_type": "code",
   "execution_count": null,
   "id": "08b27d4b",
   "metadata": {},
   "outputs": [],
   "source": []
  },
  {
   "cell_type": "markdown",
   "id": "acc95fd7",
   "metadata": {},
   "source": [
    "## BASIK ARRAY OPERATIONS\n",
    "\n",
    "### ADDTION, SUBTRACTION, MULTIPLICATION, DIVISION, AND MORE"
   ]
  },
  {
   "cell_type": "code",
   "execution_count": 78,
   "id": "14d70579",
   "metadata": {},
   "outputs": [
    {
     "name": "stdout",
     "output_type": "stream",
     "text": [
      "[1 2 3 4]\n",
      "10\n"
     ]
    }
   ],
   "source": [
    "# ADDTION \n",
    "a = np.array([1, 2, 3, 4])\n",
    "print(a)\n",
    "\n",
    "print(a.sum()) # sum cara numpy untuk penambahan 1 + 2 + 3 + 4"
   ]
  },
  {
   "cell_type": "code",
   "execution_count": 86,
   "id": "448aa142",
   "metadata": {},
   "outputs": [
    {
     "name": "stdout",
     "output_type": "stream",
     "text": [
      "[[1 1]\n",
      " [2 2]]\n"
     ]
    },
    {
     "data": {
      "text/plain": [
       "array([3, 3])"
      ]
     },
     "execution_count": 86,
     "metadata": {},
     "output_type": "execute_result"
    }
   ],
   "source": [
    "# untuk menambahkan baris atau kolom dalam array 2D, kalian harus menentukan axis\n",
    "\n",
    "b = np.array([[1, 1], [2, 2]])\n",
    "print(b)\n",
    "b.sum(axis = 0) #untuk axis - di tambah 1 + 2, 1 + 2\n"
   ]
  },
  {
   "cell_type": "code",
   "execution_count": 87,
   "id": "f3eaa35b",
   "metadata": {},
   "outputs": [
    {
     "name": "stdout",
     "output_type": "stream",
     "text": [
      "[[1 1]\n",
      " [2 2]]\n"
     ]
    },
    {
     "data": {
      "text/plain": [
       "array([2, 4])"
      ]
     },
     "execution_count": 87,
     "metadata": {},
     "output_type": "execute_result"
    }
   ],
   "source": [
    "# untuk menambahkan baris atau kolom dalam array 2D, kalian harus menentukan axis\n",
    "\n",
    "b = np.array([[1, 1], [2, 2]])\n",
    "print(b)\n",
    "b.sum(axis = 1) #untuk axis - di tambah 1 + 1, 2 + 2\n"
   ]
  },
  {
   "cell_type": "code",
   "execution_count": null,
   "id": "583d08f4",
   "metadata": {},
   "outputs": [],
   "source": []
  },
  {
   "cell_type": "markdown",
   "id": "d0ecf106",
   "metadata": {},
   "source": [
    "## MORE ARRAY OPERATIONS\n"
   ]
  },
  {
   "cell_type": "code",
   "execution_count": 96,
   "id": "dcbf0166",
   "metadata": {},
   "outputs": [
    {
     "name": "stdout",
     "output_type": "stream",
     "text": [
      "[[0.45053314 0.17296777 0.34376245 0.5510652 ]\n",
      " [0.54627315 0.05093587 0.40067661 0.55645993]\n",
      " [0.12697628 0.82485143 0.26590556 0.5691701 ]]\n",
      "4.85957749\n",
      "0.05093587\n",
      "0.82485143\n"
     ]
    }
   ],
   "source": [
    "'''\n",
    "terdapat :\n",
    "data.max()\n",
    "data.mix()\n",
    "data.sum()\n",
    "'''\n",
    "A = np.array([[0.45053314, 0.17296777, 0.34376245, 0.5510652],\n",
    "          \t[0.54627315, 0.05093587, 0.40067661, 0.55645993],\n",
    "          \t[0.12697628, 0.82485143, 0.26590556, 0.5691701]\n",
    "])\n",
    "print(A)\n",
    "\n",
    "\n",
    "print(A.sum()) # untuk menjumlahkan\n",
    "print(A.min()) # untuk mencari nilai minimum\n",
    "print(A.max()) # untuk mencari nilai maksimal\n",
    "\n",
    "\n"
   ]
  },
  {
   "cell_type": "code",
   "execution_count": null,
   "id": "21bf4076",
   "metadata": {},
   "outputs": [],
   "source": []
  },
  {
   "cell_type": "markdown",
   "id": "323058f2",
   "metadata": {},
   "source": [
    "## MATPLOTLIB"
   ]
  },
  {
   "cell_type": "code",
   "execution_count": 118,
   "id": "6e796e67",
   "metadata": {},
   "outputs": [],
   "source": [
    "import matplotlib.pyplot as plt"
   ]
  },
  {
   "cell_type": "code",
   "execution_count": 127,
   "id": "562ae52d",
   "metadata": {},
   "outputs": [
    {
     "data": {
      "text/plain": [
       "[]"
      ]
     },
     "execution_count": 127,
     "metadata": {},
     "output_type": "execute_result"
    },
    {
     "data": {
      "image/png": "[encoded data removed]",
      "text/plain": [
       "<Figure size 432x288 with 1 Axes>"
      ]
     },
     "metadata": {
      "needs_background": "light"
     },
     "output_type": "display_data"
    }
   ],
   "source": [
    "plt.hist(practice[practice > 0])\n",
    "plt.plot()"
   ]
  },
  {
   "cell_type": "code",
   "execution_count": 128,
   "id": "cadd6372",
   "metadata": {},
   "outputs": [
    {
     "data": {
      "text/plain": [
       "array([['yaris', 'ferrari', 'suzuki'],\n",
       "       ['nissan', 'crv', 'hrv']], dtype='<U7')"
      ]
     },
     "execution_count": 128,
     "metadata": {},
     "output_type": "execute_result"
    }
   ],
   "source": [
    "urutan_mobil = np.array([\n",
    "    ['yaris', 'ferrari', 'suzuki'],\n",
    "    ['nissan', 'crv', 'hrv'],\n",
    "])\n",
    "\n",
    "urutan_mobil"
   ]
  },
  {
   "cell_type": "code",
   "execution_count": null,
   "id": "39915f97",
   "metadata": {},
   "outputs": [],
   "source": []
  }
 ],
 "metadata": {
  "kernelspec": {
   "display_name": "Python 3 (ipykernel)",
   "language": "python",
   "name": "python3"
  },
  "language_info": {
   "codemirror_mode": {
    "name": "ipython",
    "version": 3
   },
   "file_extension": ".py",
   "mimetype": "text/x-python",
   "name": "python",
   "nbconvert_exporter": "python",
   "pygments_lexer": "ipython3",
   "version": "3.9.12"
  }
 },
 "nbformat": 4,
 "nbformat_minor": 5
}
