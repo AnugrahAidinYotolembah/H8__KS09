{
 "cells": [
  {
   "cell_type": "markdown",
   "id": "853bd012",
   "metadata": {},
   "source": [
    "A. Opertators and Expressions in Python\n",
    "\n",
    "di Python, operators adalah simbol khusus yang menunjukkan bahwa suatu jenis komputasi harus dilakukan. nilai di tindaklanjuti oleh operatos disebut operans\n"
   ]
  },
  {
   "cell_type": "code",
   "execution_count": 4,
   "id": "631a2b92",
   "metadata": {},
   "outputs": [
    {
     "name": "stdout",
     "output_type": "stream",
     "text": [
      "30\n",
      "25\n"
     ]
    }
   ],
   "source": [
    "# example operators and expressions in python\n",
    "\n",
    "a = 10\n",
    "b = 20\n",
    "\n",
    "print(a+b)\n",
    "# dalam kasus ini, operators + menjumlahkan operands a dan b. \n",
    "# operand dapat berupa nilai literal atau variable yang\n",
    "# mereferensikan objek\n",
    "\n",
    "print(a+b-5)\n",
    "# urutan operan dan operator, seperti a + b - 5, disebut expression.\n",
    "# python mendukung banya operator untuk menggabukan objek data menjadi expression\n",
    "\n",
    "\n"
   ]
  },
  {
   "cell_type": "markdown",
   "id": "69d07179",
   "metadata": {},
   "source": [
    "B. Arithmetic Operators\n",
    "   Arithmetic Operators adalah operator aritmatika yang dapat di    aplikasi ke dalam bahasa pemograman python\n"
   ]
  },
  {
   "cell_type": "code",
   "execution_count": 5,
   "id": "1336e858",
   "metadata": {},
   "outputs": [
    {
     "name": "stdout",
     "output_type": "stream",
     "text": [
      "7\n",
      "1\n",
      "12\n",
      "1.3333333333333333\n",
      "1\n",
      "64\n"
     ]
    }
   ],
   "source": [
    "# here are some examples of these operators in use :\n",
    "\n",
    "a = 4\n",
    "b = 3\n",
    "\n",
    "print(a + b) #pembagian\n",
    "print(a - b) #pengurangan\n",
    "print(a * b) #perkalian\n",
    "print(a / b) #pembagian\n",
    "print(a % b) #modulo\n",
    "print(a ** b) #pangkat"
   ]
  },
  {
   "cell_type": "markdown",
   "id": "b704a9f4",
   "metadata": {},
   "source": [
    "C. COMPARISON OPERATOR (perbandingan operasi)"
   ]
  },
  {
   "cell_type": "code",
   "execution_count": 6,
   "id": "19ff48b8",
   "metadata": {},
   "outputs": [
    {
     "name": "stdout",
     "output_type": "stream",
     "text": [
      "False\n",
      "True\n",
      "True\n",
      "False\n"
     ]
    }
   ],
   "source": [
    "# here are examples of the comparison operators in use :\n",
    "\n",
    "a = 10 \n",
    "b = 20\n",
    "\n",
    "print(a == b)\n",
    "print(a != b)\n",
    "print(a <= b)\n",
    "print(a >= b)"
   ]
  },
  {
   "cell_type": "markdown",
   "id": "1877f527",
   "metadata": {},
   "source": [
    "D. STRING MANIPULATION\n",
    "   "
   ]
  },
  {
   "cell_type": "code",
   "execution_count": 10,
   "id": "904278cb",
   "metadata": {},
   "outputs": [
    {
     "name": "stdout",
     "output_type": "stream",
     "text": [
      "anugrahaidin\n",
      "anugrahaidinyotolembah\n",
      "hacktiv8indonesia\n"
     ]
    }
   ],
   "source": [
    "# example + operators\n",
    "\n",
    "s = 'anugrah'\n",
    "t = 'aidin'\n",
    "u = 'yotolembah'\n",
    "\n",
    "print(s + t)\n",
    "print(s + t + u)\n",
    "\n",
    "print('hacktiv8' + 'indonesia')"
   ]
  },
  {
   "cell_type": "code",
   "execution_count": null,
   "id": "a1481288",
   "metadata": {},
   "outputs": [],
   "source": []
  }
 ],
 "metadata": {
  "kernelspec": {
   "display_name": "Python 3 (ipykernel)",
   "language": "python",
   "name": "python3"
  },
  "language_info": {
   "codemirror_mode": {
    "name": "ipython",
    "version": 3
   },
   "file_extension": ".py",
   "mimetype": "text/x-python",
   "name": "python",
   "nbconvert_exporter": "python",
   "pygments_lexer": "ipython3",
   "version": "3.9.12"
  }
 },
 "nbformat": 4,
 "nbformat_minor": 5
}
