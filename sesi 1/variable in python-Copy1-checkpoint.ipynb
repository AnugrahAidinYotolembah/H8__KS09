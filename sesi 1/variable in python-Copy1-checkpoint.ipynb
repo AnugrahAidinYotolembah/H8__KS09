{
 "cells": [
  {
   "cell_type": "markdown",
   "id": "3ea634a7",
   "metadata": {},
   "source": [
    "VARIABLE IN PYTHON\n",
    "\n",
    "Variabel Python\n",
    "Variabel merupakan tempat penyimpanan data yang bersifat mutable, artinya nilainya bisa berubah-ubah. \n",
    "Variabel dalam python memiliki format penulisan nama_variabel = <nilai>. Variabel dapat berisi teks maupun bilangan.\n"
   ]
  },
  {
   "cell_type": "code",
   "execution_count": 1,
   "id": "78cd417f",
   "metadata": {},
   "outputs": [],
   "source": [
    "# contoh variable\n",
    "a = 1  #ini adalah contoh variable di mana 'a' adalah variable nya dan 1 adalah nilai bilangan atau teks yang ada di variable a \n",
    "b = 2  #ini adalah contoh variable di mana 'b' adalah variable nya dan 2 adalah nilai bilangan atau teks yang ada di variable b\n",
    "c = 3  #ini adalah contoh variable di mana 'c' adalah variable nya dan 3 adalah nilai bilangan atau teks yang ada di variable c "
   ]
  },
  {
   "cell_type": "code",
   "execution_count": 2,
   "id": "23d03775",
   "metadata": {},
   "outputs": [
    {
     "name": "stdout",
     "output_type": "stream",
     "text": [
      "300 300 300\n"
     ]
    }
   ],
   "source": [
    "a=b=c= 300\n",
    "print(a, b, c) "
   ]
  },
  {
   "cell_type": "code",
   "execution_count": 3,
   "id": "4ffa81e7",
   "metadata": {},
   "outputs": [
    {
     "name": "stdout",
     "output_type": "stream",
     "text": [
      "foofoofoofoo\n"
     ]
    }
   ],
   "source": [
    "s = 'foo'\n",
    "print(s * 4)"
   ]
  },
  {
   "cell_type": "markdown",
   "id": "4e1f8df2",
   "metadata": {},
   "source": [
    "A. VARIABLE ASSIGMENT \n",
    "   Variable Assigment adalah sebagai nama yang dilampirkan ke   \n",
    "   objek tertentu di python, variable tidak perlu dideklarasikan \n",
    "   atau didefinisikan sebelumnya, seperti halnya di banyak bahasa \n",
    "   pemograman lainnya. untuk membuat variable, kalian cukup  \n",
    "   menetapkan nilai dan bisa digunakan. variable assigment \n",
    "   dilakukan dengan satu tanda sama dengan (=)"
   ]
  },
  {
   "cell_type": "code",
   "execution_count": 4,
   "id": "b907bcd7",
   "metadata": {},
   "outputs": [
    {
     "name": "stdout",
     "output_type": "stream",
     "text": [
      "300\n",
      "400\n"
     ]
    }
   ],
   "source": [
    "# EXAMPLE\n",
    "a = 300\n",
    "print(n)\n",
    "\n",
    "b = 400\n",
    "print(b)\n",
    "\n"
   ]
  },
  {
   "cell_type": "code",
   "execution_count": 5,
   "id": "bce07bff",
   "metadata": {},
   "outputs": [
    {
     "name": "stdout",
     "output_type": "stream",
     "text": [
      "300 300 300\n"
     ]
    }
   ],
   "source": [
    "'''\n",
    "python juga memungkingkan chained assigment,\n",
    "yang memungkinkan untuk menetapkan nilai yang sama \n",
    "ke beberapa variable secara bersamaan :\n",
    "'''\n",
    "# example\n",
    "a = b = c = 300\n",
    "print(a, b, c)"
   ]
  },
  {
   "cell_type": "code",
   "execution_count": null,
   "id": "18ca42fa",
   "metadata": {},
   "outputs": [],
   "source": []
  }
 ],
 "metadata": {
  "kernelspec": {
   "display_name": "Python 3 (ipykernel)",
   "language": "python",
   "name": "python3"
  },
  "language_info": {
   "codemirror_mode": {
    "name": "ipython",
    "version": 3
   },
   "file_extension": ".py",
   "mimetype": "text/x-python",
   "name": "python",
   "nbconvert_exporter": "python",
   "pygments_lexer": "ipython3",
   "version": "3.9.12"
  }
 },
 "nbformat": 4,
 "nbformat_minor": 5
}
