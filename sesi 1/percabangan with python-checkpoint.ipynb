{
 "cells": [
  {
   "cell_type": "markdown",
   "id": "636e6390",
   "metadata": {},
   "source": [
    "PERCABANGAN WITH PYTHON"
   ]
  },
  {
   "cell_type": "code",
   "execution_count": 11,
   "id": "5a83c8a3",
   "metadata": {},
   "outputs": [],
   "source": [
    "'''\n",
    "percabangan atau kondisi  di dalam bahasa python meliputi :\n",
    "1. percabangan if \n",
    "   digunakan untuk mengantisipasi kondisi yang terjadi saat jalanya program dan menentukan tindakan apa yang akan diambil    \n",
    "   sesuai dengan kondisi. (if) digunakan untuk mengeksekusi kode jika kondisi bernilai benar True. Jika kondisi bernilai salah   \n",
    "   (False) maka statement/kondisi if tidak akan di-eksekusi.\n",
    "   \n",
    "2. Percabangan else if\n",
    "   Pengambilan keputusan (kondisi if else) tidak hanya digunakan untuk menentukan tindakan apa yang akan diambil sesuai dengan kondisi, \n",
    "   tetapi juga digunakan untuk menentukan tindakan apa yang akan diambil/dijalankan jika kondisi tidak sesuai.\n",
    "\n",
    "3. Percabangan elif\n",
    "   Pengambilan keputusan (kondisi if elif) merupakan lanjutan/percabangan logika dari “kondisi if”. \n",
    "   Dengan elif kita bisa membuat kode program yang akan menyeleksi beberapa kemungkinan yang bisa terjadi. \n",
    "   Hampir sama dengan kondisi “else”, bedanya kondisi “elif” bisa banyak dan tidak hanya satu.\n",
    "'''\n",
    "\n",
    "# CONTOH PERCABANGAN IF\n",
    "nilai_didi = 10\n",
    "\n",
    "if(nilai_didi > 12):\n",
    "    print(\"dua belas lebih besar dari pada angka 10\")\n",
    "\n",
    "if(nilai > 10):\n",
    "    print(\"Sembilan Lebih Besar Dari Angka Sepuluh\")\n"
   ]
  },
  {
   "cell_type": "code",
   "execution_count": null,
   "id": "5aa34c08",
   "metadata": {},
   "outputs": [],
   "source": []
  },
  {
   "cell_type": "code",
   "execution_count": null,
   "id": "193b4991",
   "metadata": {},
   "outputs": [],
   "source": []
  }
 ],
 "metadata": {
  "kernelspec": {
   "display_name": "Python 3 (ipykernel)",
   "language": "python",
   "name": "python3"
  },
  "language_info": {
   "codemirror_mode": {
    "name": "ipython",
    "version": 3
   },
   "file_extension": ".py",
   "mimetype": "text/x-python",
   "name": "python",
   "nbconvert_exporter": "python",
   "pygments_lexer": "ipython3",
   "version": "3.9.12"
  }
 },
 "nbformat": 4,
 "nbformat_minor": 5
}
