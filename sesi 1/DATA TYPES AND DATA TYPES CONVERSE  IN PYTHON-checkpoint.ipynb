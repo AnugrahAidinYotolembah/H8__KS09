{
 "cells": [
  {
   "cell_type": "markdown",
   "id": "845e0dbe",
   "metadata": {},
   "source": [
    "LEARN DATA TYPES AND DATA TYPES CONVERSE IN PYTHON"
   ]
  },
  {
   "cell_type": "markdown",
   "id": "111ee282",
   "metadata": {},
   "source": [
    "di dalam python terdapat beberapa tipe data yang dapat di gunakan di antaranya :\n",
    "1. tipe data 'int(integer)' dan melakukan konversi tipe data \n",
    "2. tipe data 'float (pecahan/desimal)' dan melakukan konversi tipe data \n",
    "3. tipe data 'string'\n",
    "4. tipe data 'list'\n",
    "5. tipe data 'tuple'\n",
    "6. tipe data 'dictionary'\n",
    "7. tipe data 'boolean'\n",
    "8. tipe data 'complex'\n",
    "\n"
   ]
  },
  {
   "cell_type": "code",
   "execution_count": 34,
   "id": "3053b336",
   "metadata": {},
   "outputs": [
    {
     "name": "stdout",
     "output_type": "stream",
     "text": [
      "<class 'int'>\n",
      "10\n",
      "konversi tipe data int ke float\n",
      "masukkan tinggi panjang :10\n",
      "masukkan lebar kamu :10\n",
      "luas 100.0\n"
     ]
    }
   ],
   "source": [
    "'''\n",
    "1. tipe data 'int(integer)'\n",
    "tipe data int (integer) adalah Tipe data integer adalah tipe data numerik yang menampung bilangan bulat. \n",
    "Contohnya bilangan 1,2,3 dan seterusnya. Sehingga setiap variabel yang memiliki nilai bilangan bulat,\n",
    "maka ia akan dikategorikan sebagai integer. \n",
    "'''\n",
    "\n",
    "# contoh tipe data int(integer)\n",
    "panjang = 10 \n",
    "# panjang merupakan variablenya  dan nilai 10 merupakan tipe data integer atau bisa di bilang tipe data numerik\n",
    "\n",
    "print(type(panjang))\n",
    "print(panjang)\n",
    "# print merupakan cara python untuk menrun atau menampilkan output yang telah kita isi di inputan \n",
    "# dan di lanjutkan dengan parameter yang isinya yang kita ingin run di sini di dalam parameter berisi variable yang\n",
    "# kita ingin run, di dalam paramater bisa bermacam\" isinya bisa berisi tipe data string atau teks juga \n",
    "# dengan menaruh simbol ' ' atau \" \"\n",
    "\n",
    "'''\n",
    "konversi tipe data \n",
    "konversi tipe data terbagi menjadi 2 yaitu :\n",
    "A.konversi tipe data insplisit\n",
    "  konversi tipe data ini di lakukan secara otomatis oleh python\n",
    "\n",
    "B. konversi tipe data ekspilist\n",
    "   konversi tipe data ini di lakukan secar manual di pemograman python\n",
    "\n",
    "untuk melakukan konversi tipe data eksplisit, terdapat simbol atau kode program yang menyatakan untuk konversi tipe data yaitu :\n",
    "int() - untuk konversi data ke integer\n",
    "float() - untuk konversi data ke float\n",
    "bool() - untuk konversi data ke bool\n",
    "str() - untuk konversi data string (sebagian orang menyebutkan bahwa string adalah tipe data primitif pada python [1])\n",
    "'''\n",
    "# konversi tipe data int(integer) ke float(pecahan/desimal)\n",
    "print('konversi tipe data int ke float')\n",
    "panjang = int(input('masukkan tinggi panjang :')) # ini merupakan format untuk melakukan konversi tipe data dimana untuk konversi tipe data integer harus menuliskan int()\n",
    "lebar = float(input('masukkan lebar kamu :'))\n",
    "print('luas', panjang * lebar)\n",
    "\n",
    "\n",
    "\n"
   ]
  },
  {
   "cell_type": "code",
   "execution_count": 32,
   "id": "1c9c0198",
   "metadata": {},
   "outputs": [
    {
     "name": "stdout",
     "output_type": "stream",
     "text": [
      "<class 'float'>\n",
      "2.5\n",
      "konversi tipe data float ke integer\n",
      "masukan panjang meja :13.0\n",
      "masukan lebar meja :12\n",
      "luas =  156.0\n"
     ]
    }
   ],
   "source": [
    "'''\n",
    "2. tipe data float\n",
    "tipe data float merupakan tipe data yang ada di python yang berfungsi sebagai numerik tetapi bernilai desimal dan juga \n",
    "Hampir sama dengan tipe data integer, hanya saja tipe data float dipergunakan untuk variabel-variabel \n",
    "yang memiliki nilai pecahan / desimal. Tipe data float juga termasuk ke dalam tipe data numerik \n",
    "karena jenis data ini menyimpan bilangan pecahan atau disebut juga dengan bilangan real. \n",
    "Pemisah dari bilangan desimal menggunakan tanda titik (.).\n",
    "'''\n",
    "\n",
    "# contoh tipe data float (pecahan/desimal)\n",
    "lebar = 2.5 \n",
    "#lebar merupakan variablenya dan nilai 2.5 merupakan tipe data float atau \n",
    " # bisa di bilang tipe data bernilai pecahan / desimal\n",
    "    \n",
    "print(type(lebar))\n",
    "print(lebar)\n",
    "\n",
    " \n",
    "'''\n",
    "konversi tipe data \n",
    "konversi tipe data terbagi menjadi 2 yaitu :\n",
    "A.konversi tipe data insplisit\n",
    "  konversi tipe data ini di lakukan secara otomatis oleh python\n",
    "\n",
    "B. konversi tipe data ekspilist\n",
    "   konversi tipe data ini di lakukan secar manual di pemograman python\n",
    "\n",
    "untuk melakukan konversi tipe data eksplisit, terdapat simbol atau kode program yang menyatakan untuk konversi tipe data yaitu :\n",
    "int() - untuk konversi data ke integer\n",
    "float() - untuk konversi data ke float\n",
    "bool() - untuk konversi data ke bool\n",
    "str() - untuk konversi data string (sebagian orang menyebutkan bahwa string adalah tipe data primitif pada python [1])\n",
    "'''\n",
    "# konversi tipe data float ke integer\n",
    "print('konversi tipe data float ke integer')\n",
    "\n",
    "panjang_meja = float(input('masukan panjang meja :'))\n",
    "lebar_meja = int(input('masukan lebar meja :'))\n",
    "\n",
    "print('luas = ', panjang_meja * lebar_meja)\n"
   ]
  },
  {
   "cell_type": "code",
   "execution_count": 49,
   "id": "c82d1169",
   "metadata": {},
   "outputs": [
    {
     "name": "stdout",
     "output_type": "stream",
     "text": [
      "<class 'str'>\n",
      "buah mangga, buah anggur\n",
      "menggabungkan string menggunakan simbol koma (,)\n",
      "didi adalah anak ganteng\n",
      "menggabungkan string menggunakan simbol tambah (+)\n",
      "awa adalahpacarnya didi\n",
      "update string\n",
      "belajar Pemrograman\n"
     ]
    }
   ],
   "source": [
    "'''\n",
    "3. tipe data string \n",
    "tipe data string adalah tipe data yang ada di python yang berfungsi untuk mengolah teks atau \n",
    "Tipe data string sering juga disebut dengan tipe data teks, tipe data ini digunakan untuk menyimpan sebuah teks. \n",
    "Data yang bertipe string harus diapit oleh tanda kutip, baik tanda kutip satu ('') maupun tanda kutip dua (\" \") \n",
    "setelah karakter sama dengan (=).\n",
    "'''\n",
    "# contoh tipe data string\n",
    "buah = 'buah mangga, buah anggur' \n",
    "#buah  merupakan variablenya  dan teks yang di dalam string atau di dalam simbol \" \" \n",
    "# merupakan tipe data string  \n",
    "\n",
    "print(type(buah))\n",
    "print(buah)\n",
    "\n",
    "# menggabungkan string \n",
    "# ada dua metode melakukan penggabungan string yaitu menggunakan simbol koma (,) dan menggunakan simbol tambah (+)\n",
    "# contoh\n",
    "\n",
    "print('menggabungkan string menggunakan simbol koma (,)')\n",
    "\n",
    "a = 'didi adalah'\n",
    "b = 'anak ganteng'\n",
    "\n",
    "print(a,b)\n",
    "\n",
    "print('menggabungkan string menggunakan simbol tambah (+)')\n",
    "a = 'awa adalah'\n",
    "b = 'pacarnya didi'\n",
    "\n",
    "print(a+b)\n",
    "\n",
    "print('update string')\n",
    "\n",
    "data1 = \"belajar bahasa python\"\n",
    "print (data1[:8]+ \"Pemrograman\")"
   ]
  },
  {
   "cell_type": "code",
   "execution_count": 52,
   "id": "0c2c4206",
   "metadata": {},
   "outputs": [
    {
     "name": "stdout",
     "output_type": "stream",
     "text": [
      "tipe data list\n",
      "akses nilai pada list python\n",
      "list_A[1] biologi\n",
      "list_B[1:5] [2, 3, 4, 5]\n",
      "Indexing, Slicing dan Matrix Pada List Python\n",
      "python\n",
      "['java', 'python']\n",
      "java\n"
     ]
    }
   ],
   "source": [
    "'''\n",
    "4. tipe data list \n",
    "List adalah tipe data yang paling serbaguna yang tersedia dalam bahasa Python, \n",
    "yang dapat ditulis sebagai daftar nilai yang dipisahkan koma (item) antara tanda kurung siku. \n",
    "Hal penting tentang daftar adalah item dalam list tidak boleh sama jenisnya.\n",
    "'''\n",
    "# contoh tipe data list\n",
    "# Membuat list sangat sederhana, tinggal memasukkan berbagai nilai yang dipisahkan koma di antara tanda kurung siku. \n",
    "# Dibawah ini adalah contoh sederhana pembuatan list dalam bahasa Python.\n",
    "\n",
    "print('tipe data list')\n",
    "\n",
    "list1 = ['kimia', 'fisika', 2001, 2002]\n",
    "list2 = [1,2,3,4,5,6,7,8,9,10]\n",
    "list3 = [\"a\",\"b\",\"c\"]\n",
    "\n",
    "print('akses nilai pada list python')\n",
    "\n",
    "list_A = ['kimia', 'biologi', 2012, 2022]\n",
    "list_B = [1,2,3,4,5]\n",
    "\n",
    "print('list_A[1]', list_A[1])\n",
    "print('list_B[1:5]', list_B[1:5])\n",
    "\n",
    "print('Indexing, Slicing dan Matrix Pada List Python')\n",
    "'''\n",
    "Indexing, Slicing dan Matrix Pada List Python\n",
    "Karena list adalah urutan, pengindeksan dan pengiris bekerja dengan cara yang sama\n",
    "untuk list seperti yang mereka lakukan untuk String.\n",
    "'''\n",
    "# contoh Indexing, Slicing dan Matrix Pada List Python\n",
    "\n",
    "L = ['C++', 'java', 'python']\n",
    "\n",
    "print(L[2]) #indexing pada python\n",
    "print(L[1:]) #Slicing mengambil bagian\n",
    "print(L[-2]) #Negatif: hitung dari kanan"
   ]
  },
  {
   "cell_type": "code",
   "execution_count": 53,
   "id": "f04d748f",
   "metadata": {},
   "outputs": [
    {
     "name": "stdout",
     "output_type": "stream",
     "text": [
      "contoh dari tuple\n",
      "contoh dari tuple memakai nilai\n",
      "tup1[0]:  fisika\n",
      "tup2[1:5]:  (2, 3, 4, 5)\n"
     ]
    }
   ],
   "source": [
    "'''\n",
    "tipe data tuple\n",
    "Sebuah tupel adalah urutan objek Python yang tidak berubah. Tupel adalah urutan, seperti daftar. \n",
    "Perbedaan utama antara tupel dan daftarnya adalah bahwa tupel tidak dapat diubah tidak seperti List Python. \n",
    "Tupel menggunakan tanda kurung, sedangkan List Python menggunakan tanda kurung siku.\n",
    "\n",
    "Membuat tuple semudah memasukkan nilai-nilai yang dipisahkan koma. Secara opsional,\n",
    "Anda dapat memasukkan nilai-nilai yang dipisahkan koma ini di antara tanda kurung juga.\n",
    "'''\n",
    "print('contoh dari tuple')\n",
    "\n",
    "tup1 = ('fisika', 'biologi', 2001, 2002)\n",
    "tup2 = (1,2,3,4,5,6,7,8)\n",
    "tup3 = (\"a\", \"b\", \"c\")\n",
    "\n",
    "'''\n",
    "Tupel kosong ditulis sebagai dua tanda kurung yang tidak berisi apa-apa, contohnya : tup1 = (); \n",
    "Untuk menulis tupel yang berisi satu nilai, Anda harus memasukkan koma, meskipun hanya ada satu nilai, \n",
    "contohnya : tup1 = (50,) Seperti indeks String, indeks tuple mulai dari 0, dan mereka dapat diiris, digabungkan, dan seterusnya\n",
    "'''\n",
    "\n",
    "print('contoh dari tuple memakai nilai')\n",
    "\n",
    "tup1 = ('fisika', 'kimia', 1993, 2017)\n",
    "tup2 = (1, 2, 3, 4, 5, 6, 7 )\n",
    "\n",
    "print (\"tup1[0]: \", tup1[0])\n",
    "print (\"tup2[1:5]: \", tup2[1:5])"
   ]
  },
  {
   "cell_type": "code",
   "execution_count": 55,
   "id": "e9d773d1",
   "metadata": {},
   "outputs": [
    {
     "name": "stdout",
     "output_type": "stream",
     "text": [
      "contoh dictionary python memakai nilai\n",
      "dict['name']:  didi\n",
      "dict['class']:  firstclass\n",
      "dict['hometown']:  palu\n"
     ]
    }
   ],
   "source": [
    "'''\n",
    "Dictionary Python\n",
    "Dictionary Python berbeda dengan List ataupun Tuple. Karena setiap urutanya berisi key dan value. \n",
    "Setiap key dipisahkan dari value-nya oleh titik dua (:), item dipisahkan oleh koma, dan semuanya tertutup dalam kurung kurawal. \n",
    "Dictionary kosong tanpa barang ditulis hanya dengan dua kurung kurawal, seperti ini: {}.\n",
    "\n",
    "Nilai kamus bisa berupa tipe apa pun, namun key harus berupa tipe data yang tidak berubah seperti string, angka, atau tupel.\n",
    "'''\n",
    "print('contoh dictionary python memakai nilai')\n",
    "\n",
    "dict ={'name': 'didi', 'class' : 'firstclass', 'hometown': 'palu'}\n",
    "print(\"dict['name']: \", dict['name'])\n",
    "print(\"dict['class']: \", dict['class'])\n",
    "print(\"dict['hometown']: \", dict['hometown'])"
   ]
  },
  {
   "cell_type": "code",
   "execution_count": 1,
   "id": "fc0d74b6",
   "metadata": {},
   "outputs": [
    {
     "ename": "NameError",
     "evalue": "name 'true' is not defined",
     "output_type": "error",
     "traceback": [
      "\u001b[1;31m---------------------------------------------------------------------------\u001b[0m",
      "\u001b[1;31mNameError\u001b[0m                                 Traceback (most recent call last)",
      "Input \u001b[1;32mIn [1]\u001b[0m, in \u001b[0;36m<cell line: 7>\u001b[1;34m()\u001b[0m\n\u001b[0;32m      1\u001b[0m \u001b[38;5;124;03m'''\u001b[39;00m\n\u001b[0;32m      2\u001b[0m \u001b[38;5;124;03mTIPE DATA BOOLEAN :\u001b[39;00m\n\u001b[0;32m      3\u001b[0m \u001b[38;5;124;03mpada python3 menyediakan tipe data boolean, tipe data boolean memiliki 2 nilai yaitu true and false.\u001b[39;00m\n\u001b[0;32m      4\u001b[0m \u001b[38;5;124;03m'''\u001b[39;00m\n\u001b[0;32m      6\u001b[0m \u001b[38;5;66;03m# example \u001b[39;00m\n\u001b[1;32m----> 7\u001b[0m \u001b[38;5;28mprint\u001b[39m(\u001b[38;5;28mtype\u001b[39m(\u001b[43mtrue\u001b[49m))\n",
      "\u001b[1;31mNameError\u001b[0m: name 'true' is not defined"
     ]
    }
   ],
   "source": [
    "'''\n",
    "TIPE DATA BOOLEAN :\n",
    "pada python3 menyediakan tipe data boolean, tipe data boolean memiliki 2 nilai yaitu true and false.\n",
    "'''\n",
    "\n",
    "# example \n",
    "print(type(True))"
   ]
  },
  {
   "cell_type": "markdown",
   "id": "91c498d6",
   "metadata": {},
   "source": [
    "sumber belajar :\n",
    "https://belajarpython.com/\n",
    "https://belajarpython.com/tutorial/dictionary-python\n",
    "https://www.dqlab.id/belajar-python-pemula-mulai-dari-dasar-kenali-tipe-data-yang-dimiliki-python\n",
    "https://www.malasngoding.com/operasi-tipe-data-string/"
   ]
  }
 ],
 "metadata": {
  "kernelspec": {
   "display_name": "Python 3 (ipykernel)",
   "language": "python",
   "name": "python3"
  },
  "language_info": {
   "codemirror_mode": {
    "name": "ipython",
    "version": 3
   },
   "file_extension": ".py",
   "mimetype": "text/x-python",
   "name": "python",
   "nbconvert_exporter": "python",
   "pygments_lexer": "ipython3",
   "version": "3.9.12"
  }
 },
 "nbformat": 4,
 "nbformat_minor": 5
}
